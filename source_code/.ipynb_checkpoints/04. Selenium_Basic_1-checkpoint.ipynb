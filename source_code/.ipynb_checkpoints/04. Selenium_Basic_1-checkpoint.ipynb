{
 "cells": [
  {
   "cell_type": "markdown",
   "id": "7a13ec28",
   "metadata": {},
   "source": [
    "# 04. Selenium_Basic_1"
   ]
  },
  {
   "cell_type": "code",
   "execution_count": 1,
   "id": "a09db7b4",
   "metadata": {},
   "outputs": [],
   "source": [
    "from selenium import webdriver\n",
    "\n",
    "driver = webdriver.Chrome(\"../driver/chromedriver.exe\")  # 크롬 드라이버 경로 지정\n",
    "driver.get(\"https://pinkwink.kr/\")  # get 명령으로 접근하고 싶은 주소 지정"
   ]
  },
  {
   "cell_type": "code",
   "execution_count": 2,
   "id": "398ab468",
   "metadata": {},
   "outputs": [],
   "source": [
    "# driver.quit()"
   ]
  },
  {
   "cell_type": "code",
   "execution_count": 3,
   "id": "3fbf324c",
   "metadata": {},
   "outputs": [
    {
     "data": {
      "text/plain": [
       "{'width': 1051, 'height': 806}"
      ]
     },
     "execution_count": 3,
     "metadata": {},
     "output_type": "execute_result"
    }
   ],
   "source": [
    "# 현재 브라우저 창 크기\n",
    "driver.get_window_size()"
   ]
  },
  {
   "cell_type": "code",
   "execution_count": 4,
   "id": "9d19b822",
   "metadata": {},
   "outputs": [
    {
     "data": {
      "text/plain": [
       "{'x': 9, 'y': 9}"
      ]
     },
     "execution_count": 4,
     "metadata": {},
     "output_type": "execute_result"
    }
   ],
   "source": [
    "driver.get_window_position()"
   ]
  },
  {
   "cell_type": "code",
   "execution_count": 5,
   "id": "d829041f",
   "metadata": {},
   "outputs": [
    {
     "data": {
      "text/plain": [
       "{'height': 806, 'width': 1051, 'x': 9, 'y': 9}"
      ]
     },
     "execution_count": 5,
     "metadata": {},
     "output_type": "execute_result"
    }
   ],
   "source": [
    "driver.get_window_rect()"
   ]
  },
  {
   "cell_type": "code",
   "execution_count": 6,
   "id": "a6a67640",
   "metadata": {},
   "outputs": [
    {
     "data": {
      "text/plain": [
       "2420"
      ]
     },
     "execution_count": 6,
     "metadata": {},
     "output_type": "execute_result"
    }
   ],
   "source": [
    "# 스크롤 가능한 높이(길이)\n",
    "# 자바스크립트 코드 실행\n",
    "driver.execute_script(\"return document.body.scrollHeight\")"
   ]
  },
  {
   "cell_type": "code",
   "execution_count": 7,
   "id": "4ceafd4d",
   "metadata": {},
   "outputs": [],
   "source": [
    "# 화면 스크롤 하단 이동   (0, 2420)\n",
    "driver.execute_script(\"window.scrollTo(0, document.body.scrollHeight);\")"
   ]
  },
  {
   "cell_type": "code",
   "execution_count": 8,
   "id": "4b1c4802",
   "metadata": {},
   "outputs": [],
   "source": [
    "# 화면 스크롤 상단 이동   (0, 0)\n",
    "driver.execute_script(\"window.scrollTo(0, 0);\")"
   ]
  },
  {
   "cell_type": "code",
   "execution_count": 9,
   "id": "59555df3",
   "metadata": {},
   "outputs": [
    {
     "data": {
      "text/plain": [
       "True"
      ]
     },
     "execution_count": 9,
     "metadata": {},
     "output_type": "execute_result"
    }
   ],
   "source": [
    "# 스크린샷    /간간히 찍어보며 의도대로 동작하고 있는지 확인용\n",
    "driver.save_screenshot(\"./last_height.png\")"
   ]
  },
  {
   "cell_type": "code",
   "execution_count": 11,
   "id": "c6a1a8c1",
   "metadata": {},
   "outputs": [],
   "source": [
    "# 특정 태그 지정까지 스크롤 하는 코드\n",
    "from selenium.webdriver import ActionChains\n",
    "# 유사화장품 찾기\n",
    "xpath = driver.find_element_by_xpath('//*[@id=\"blog-home\"]/main/section/div/aside/ul[1]/li[10]/a/span[2]/strong')\n",
    "# some_tag = driver.find_element_by_css_selector(\"#paging > ul\") 형식도 가능  #은 id\n",
    "action = ActionChains(driver)\n",
    "action.move_to_element(xpath).perform()"
   ]
  },
  {
   "cell_type": "code",
   "execution_count": 12,
   "id": "5c8866a0",
   "metadata": {},
   "outputs": [],
   "source": [
    "# 검색을 위해 돋보기 클릭\n",
    "xpath = '''//*[@id=\"blog-home\"]/header/div/a[1]/span'''\n",
    "some_tag = driver.find_element_by_xpath(xpath).click()"
   ]
  },
  {
   "cell_type": "code",
   "execution_count": 24,
   "id": "de457b47",
   "metadata": {},
   "outputs": [],
   "source": [
    "# 입력 창에 글자 넣기\n",
    "# 화면에 보이지 않으면 어떠한 액션을 취할 수 없음\n",
    "some_tag = driver.find_element_by_css_selector(\".tf_comm\")\n",
    "some_tag.send_keys(\"data science\")"
   ]
  },
  {
   "cell_type": "code",
   "execution_count": 23,
   "id": "d7fc0bcc",
   "metadata": {},
   "outputs": [],
   "source": [
    "# 브라우저 창 크기 조절\n",
    "# 현재 보이는 화면에서만 액션을 취할 수 있다.\n",
    "driver.set_window_size(1920, 1080)   # 화면 크기 변경"
   ]
  },
  {
   "cell_type": "code",
   "execution_count": 21,
   "id": "dc75a3af",
   "metadata": {},
   "outputs": [],
   "source": [
    "# 화면 최대화\n",
    "driver.maximize_window()"
   ]
  },
  {
   "cell_type": "code",
   "execution_count": 22,
   "id": "8fc3f6e9",
   "metadata": {},
   "outputs": [],
   "source": [
    "# 화면 최소화\n",
    "driver.minimize_window()"
   ]
  },
  {
   "cell_type": "code",
   "execution_count": 25,
   "id": "05100577",
   "metadata": {},
   "outputs": [],
   "source": [
    "# 새로 입력하면 뒤에 추가로 붙음\n",
    "some_tag.send_keys(\"python\")"
   ]
  },
  {
   "cell_type": "code",
   "execution_count": 26,
   "id": "485fa91a",
   "metadata": {},
   "outputs": [],
   "source": [
    "# 초기화 후 검색어 입력\n",
    "some_tag.clear()\n",
    "some_tag.send_keys(\"python\")"
   ]
  },
  {
   "cell_type": "code",
   "execution_count": 27,
   "id": "2b4d369f",
   "metadata": {},
   "outputs": [],
   "source": [
    "# xpath\n",
    "xpath = '''/html/body/div[1]/div/header/form/fieldset/div/div/button'''\n",
    "some_tag = driver.find_element_by_xpath(xpath)\n",
    "some_tag.click()"
   ]
  },
  {
   "cell_type": "markdown",
   "id": "11c25508",
   "metadata": {},
   "source": [
    "## Xpath\n",
    "```\n",
    "//: 최상위 엘리먼트\n",
    "*: 자손 태그 검색 => div form  # 띄어쓰기=자손태그검색\n",
    "/: 자식 태그 검색 => div > form  # 꺽쇠=자식태그검색\n",
    "td[2]: td 태그 중에서 2번째 태그를 선택 => td.nth_child(2)\n",
    "```"
   ]
  },
  {
   "cell_type": "markdown",
   "id": "2bf7c31d",
   "metadata": {},
   "source": [
    "## find_element\n",
    "- find_element_by_css_selector => find, select_one\n",
    "- find_elements_by_css_selector => find_all, select"
   ]
  },
  {
   "cell_type": "markdown",
   "id": "ac6d5af0",
   "metadata": {},
   "source": [
    "- xpath와 css\n",
    "```\n",
    "xpath = '//*[@id=\"___gcse_0\"]/div/form/table/tbody/tr/td[2]/button'\n",
    "css = \"#___gcse_0 > div > form > table > tbody > td:nth-child(2) > button\"\n",
    "```\n",
    "- 같다!"
   ]
  },
  {
   "cell_type": "code",
   "execution_count": 28,
   "id": "63b6c4b1",
   "metadata": {},
   "outputs": [],
   "source": [
    "driver.back()     # 뒤로가기"
   ]
  },
  {
   "cell_type": "code",
   "execution_count": 29,
   "id": "cd3e9a3a",
   "metadata": {},
   "outputs": [],
   "source": [
    "driver.forward()    # 앞으로가기"
   ]
  },
  {
   "cell_type": "code",
   "execution_count": 32,
   "id": "8869cda7",
   "metadata": {},
   "outputs": [
    {
     "data": {
      "text/plain": [
       "'<html lang=\"ko\"><head>\\n  <meta charset=\"UTF-8\">\\n  <meta name=\"viewport\" content=\"user-scalable=no, initial-scale=1.0, maximum-scale=1.0 ,minimum-scale=1.0, width=device-width, viewport-fit=cover\">\\n  <meta name=\"title\" content=\" :: \">\\n  <meta name=\"description\" content=\"\">\\n  <title>PinkWink</title>\\n\\n<script async=\"\" charset=\"utf-8\" src=\"//static.dable.io/dist/plugin.min.js\"></script><script src=\"https://t1.kakaocdn.net/malibu_prod/wpm.js\" async=\"\"></script><script>\\n    (function (win, doc, src) {\\n        win.Wpm = win.Wpm || function (name, param) {\\n            win.Wpm.queue = win.Wpm.queue || [];\\n            const { queue } = win.Wpm;\\n            queue.push([name, param]);\\n        };\\n        const script = doc.createElement(\\'script\\');\\n        script.src = src;\\n        script.async = 1;\\n        const [elem] = doc.getElementsByTagName(\\'script\\');\\n        elem.parentNode.insertBefore(script, elem);\\n    })(window, document, \\'https://t1.kakaocdn.net/malibu_prod/wpm.js\\');\\n    const APP_KEY = \\'32fbe2dd4b844bafbdfaa676071d083b\\';\\n    Wpm(\\'appKey\\', APP_KEY);\\n</script>\\n<meta http-equiv=\"X-UA-Compatible\" content=\"IE=Edge\">\\n<meta name=\"format-detection\" content=\"telephone=no\">\\n<meta name=\"google-adsense-platform-account\" content=\"ca-host-pub-9691043933427338\">\\n<meta name=\"google-adsense-platform-domain\" content=\"tistory.com\">\\n<meta name=\"google-adsense-account\" content=\"ca-pub-2982459700139266\">\\n\\n<script type=\"text/javascript\" src=\"//t1.daumcdn.net/tiara/js/v1/tiara.min.js\"></script>\\n<script type=\"text/javascript\">window.tiara = {\"svcDomain\":\"user.tistory.com\",\"section\":\"글뷰\",\"trackPage\":\"검색뷰_보기\",\"page\":\"검색뷰\",\"key\":\"371175\",\"customProps\":{\"userId\":\"0\",\"blogId\":\"371175\",\"entryId\":null,\"role\":\"guest\",\"filterTarget\":false,\"trackPage\":\"검색뷰_보기\"},\"entry\":null,\"kakaoAppKey\":\"b8aef3eeb03fa312b81795386484f051\",\"appUserId\":null};</script>\\n<script type=\"text/javascript\" src=\"https://tistory1.daumcdn.net/tistory_admin/assets/blog/tistory-kore-bba04ed780369608e80b9bdf14f1f81f159233dc/dist/mobile/tiara/tiara.min.js\" defer=\"\"></script>\\n\\n<script src=\"https://tistory1.daumcdn.net/tistory_admin/assets/blog/tistory-kore-bba04ed780369608e80b9bdf14f1f81f159233dc/dist/mobile/script/t.app.js\" defer=\"\"></script>\\n<link rel=\"stylesheet\" href=\"https://tistory1.daumcdn.net/tistory_admin/assets/blog/tistory-kore-bba04ed780369608e80b9bdf14f1f81f159233dc/dist/mobile/style/t.main.css\">\\n\\n<!-- BEGIN OPENGRAPH -->\\n<link rel=\"canonical\" href=\"https://pinkwink.kr\">\\n<meta property=\"og:type\" content=\"website\">\\n<meta property=\"og:url\" content=\"https://pinkwink.kr\">\\n<meta property=\"og:site_name\" content=\"PinkWink\">\\n<meta property=\"og:title\" content=\"PinkWink\">\\n<meta property=\"og:description\" content=\"한 변두리 공학도의 블로그입니다. 재미있어 보이는 것들을 모두 기초스럽게 접근하는 블로그이며... 그보다 더욱 소중한 우리 아가 미바뤼의 발자취를 남겨두는 블로그이기도 합니다.\">\\n<meta property=\"og:image\" content=\"https://t1.daumcdn.net/cfile/tistory/207EB9594D92CCFF05\">\\n<meta property=\"og:article:author\" content=\"PinkWink\">\\n<!-- END OPENGRAPH -->\\n\\n<!-- BEGIN TWITTERCARD -->\\n<meta name=\"twitter:card\" content=\"summary_large_image\">\\n<meta name=\"twitter:site\" content=\"@TISTORY\">\\n<meta name=\"twitter:title\" content=\"PinkWink\">\\n<meta name=\"twitter:description\" content=\"한 변두리 공학도의 블로그입니다. 재미있어 보이는 것들을 모두 기초스럽게 접근하는 블로그이며... 그보다 더욱 소중한 우리 아가 미바뤼의 발자취를 남겨두는 블로그이기도 합니다.\">\\n<meta property=\"twitter:image\" content=\"https://t1.daumcdn.net/cfile/tistory/207EB9594D92CCFF05\">\\n<!-- END TWITTERCARD -->\\n\\n<!-- BEGIN STRUCTURED_DATA -->\\n<script type=\"application/ld+json\">\\n    {\\n      \"@context\": \"http://schema.org\",\\n      \"@type\": \"WebSite\",\\n      \"url\": \"/\",\\n      \"potentialAction\": {\\n          \"@type\": \"SearchAction\",\\n          \"target\": \"/search/{search_term_string}\",\\n          \"query-input\": \"required name=search_term_string\"\\n      }\\n    }\\n</script>\\n<!-- END STRUCTURED_DATA -->\\n\\n<script src=\"//static.dable.io/dist/tistory.min.js\" defer=\"\"></script>\\n\\n   <link rel=\"stylesheet\" href=\"//cdnjs.cloudflare.com/ajax/libs/highlight.js/9.15.6/styles/github.min.css\">\\n   <script src=\"//cdnjs.cloudflare.com/ajax/libs/highlight.js/9.15.6/highlight.min.js\"></script>\\n<script src=\"//cdnjs.cloudflare.com/ajax/libs/highlight.js/9.15.6/languages/kotlin.min.js\" defer=\"\"></script>\\n<script src=\"//cdnjs.cloudflare.com/ajax/libs/highlight.js/9.15.6/languages/swift.min.js\" defer=\"\"></script>\\n<script src=\"//cdnjs.cloudflare.com/ajax/libs/highlight.js/9.15.6/languages/go.min.js\" defer=\"\"></script>\\n<script src=\"//cdnjs.cloudflare.com/ajax/libs/highlight.js/9.15.6/languages/scala.min.js\" defer=\"\"></script>\\n<script src=\"//cdnjs.cloudflare.com/ajax/libs/highlight.js/9.15.6/languages/r.min.js\" defer=\"\"></script>\\n   <script>hljs.initHighlightingOnLoad();</script></head>\\n<body data-role=\"visitor\" data-agent-type=\"\">\\n\\n  <!-- 게시글 뷰 -->\\n  \\n  <!-- 개인 블로그 홈 뷰 -->\\n  \\n  <!-- 공지사항 -->\\n  \\n  <!-- 검색 / 태그 뷰 -->\\n  <div data-react-app=\"Search\"><div class=\"container-doc blog_search b_scroll\"><div></div><header class=\"doc-header\"><h1 class=\"screen_out\">티스토리</h1><h2 class=\"screen_out\">검색</h2><form class=\"blog_sch\"><fieldset class=\"fld_sch\"><legend class=\"screen_out\">검색어 입력</legend><div class=\"item_form\"><div class=\"box_tf\"><input class=\"tf_comm\" placeholder=\"이 블로그에서 검색\" title=\"검색하기\" value=\"python\"><a href=\"#\" class=\"btn_delete\"><span class=\"ico_delete1\">삭제하기</span></a><button type=\"submit\" class=\"btn_search\"><span class=\"ico_search ico_active\">검색하기</span></button></div></div></fieldset></form><div class=\"header_left\"><a href=\"#\" class=\"link_prev\"><span class=\"ico_prev\">이전 페이지</span></a></div></header><div class=\"content-wrap\"><div class=\"tab_basic\"><strong class=\"screen_out\">검색결과 탭</strong><div class=\"list_tab section_tab\" role=\"tablist\"><a class=\"link_tab\" role=\"tab\" aria-selected=\"true\" aria-controls=\"post\" href=\"/m/search/posts?keyword=python\">글</a><a class=\"link_tab\" role=\"tab\" aria-selected=\"false\" aria-controls=\"tag\" href=\"/m/search/tags?keyword=python\">태그</a></div></div><div class=\"search-wrap\"><div id=\"post\" class=\"section_list section_tab\"><h3 class=\"screen_out\">검색결과</h3><div class=\"summry_result\"><span>\\'</span><span class=\"search_word\">PinkWink</span><span>\\'에서</span><span class=\"num_g\">205개</span></div><ul class=\"list_post\"><li><a href=\"/m/1395\"><span class=\"thumb_img\"><img alt=\"\" src=\"https://img1.daumcdn.net/thumb/C176x176/?fname=https%3A%2F%2Fk.kakaocdn.net%2Fdn%2Fk3RDd%2FbtrKZ6AXoeS%2F84j0PGn74EX4OHHxlwaNK0%2Fimg.png\"></span><span class=\"desc_post\"><strong class=\"tit_blog\">ROS2 혼자 공부하기 좋은 책 추천 - ROS2 혼자 공부하는 로봇 SW</strong><span class=\"txt_post\">제목을 \"ROS2 혼자 공부하기 좋은 책\"이라고 잡으니 첫 문장부터 창피합니다. 최근 몇 개월간 작업한 ROS2 기초 책을 출판했습니다. 정확히는 9월 7일 출판예정인데, 이미 주요 온라인 서점에는 등록이 되어서 이렇게 저도 블로그에 소개하게 되었습니다. 책 표지입니다. 이 중 제가 이 책의 컨셉으로 생각한 내용이 표지 뒷면에 있는데요. 본 책은 ROS2를 먼저 공부한 선배가 ROS2의 사용방법을 옆에서 알려주는 것 처럼 진행하고 있습니다. 이야기를 듣듯이 편하게 따라해보세요. 위 내용입니다. ROS2 혼자 공부하는 로봇 SW 목차 및 내용 이 책의 내용 자체는 제가 평상시 생각한 아주 기초적인 내용입니다. 먼저 책에서 ROS2를 공부하기 위한 환경설정부분과 필요한 몇몇 앱과 ROS2 설치를 이야기하고 ..</span><span class=\"data_info\"><span class=\"btn_like on\"><span class=\"ico_like2\">공감수</span><span class=\"txt_btn\">4</span></span><span class=\"link_comment\"><span class=\"ico_comment2\">댓글수</span><span class=\"txt_btn\">4</span></span><span class=\"txt_date\">2022. 8. 31.</span></span></span></a></li><li><a href=\"/m/1389\"><span class=\"thumb_img\"><img alt=\"\" src=\"https://img1.daumcdn.net/thumb/C176x176/?fname=https%3A%2F%2Fk.kakaocdn.net%2Fdn%2F6sLNX%2FbtrHTYl6l4V%2FsLfEIub8qUemm4Blvp16LK%2Fimg.png\"></span><span class=\"desc_post\"><strong class=\"tit_blog\">어학 학습용으로 사용하면 좋을 것 같은 발음 비교</strong><span class=\"txt_post\">제로베이스의 데이터사이언스 스쿨의 학생들은 긴 기간 학습과 프로젝트를 번갈아 합니다. 기본적으로는 영상 학습 자료가 제공되긴 하지만, 수준있는 프로젝트를 수행하는 경우는 스스로 해결하면서 진행하도록 유도됩니다. 이 과정에서 저도 전담 강사로서 함께 고민하는 경우가 많은데요. 이번에 소개할 팀은 처음 접하는 류의 데이터를 만나 엄청 고생하면서 학습을 진행을 했습니다. 바로 소리라는 데이터를 주파수라는 영역에서 들여다 보는 것이었습니다. 왜 고양이가 등장하는지는 좀 있다 밝혀집니다.~^^ 프로젝트의 개요 이번 팀의 발표 자료를 꾸미는 스타일이 제가 선호하는 스타일입니다. 아무튼, 언어를 배우는 사람이 자신의 발음이 어디를 교정하면 되는지를 알아 볼 수 있도록 하는 개념을 구현하려고 노력했습니다. 그래서 고양..</span><span class=\"data_info\"><span class=\"btn_like on\"><span class=\"ico_like2\">공감수</span><span class=\"txt_btn\">8</span></span><span class=\"link_comment\"><span class=\"ico_comment2\">댓글수</span><span class=\"txt_btn\">0</span></span><span class=\"txt_date\">2022. 7. 22.</span></span></span></a></li><li><a href=\"/m/1382\"><span class=\"thumb_img\"><img alt=\"\" src=\"https://img1.daumcdn.net/thumb/C176x176/?fname=https%3A%2F%2Fk.kakaocdn.net%2Fdn%2FHM12w%2FbtrzzqDymo2%2FVPL32FbZJXEw2RuKeK9XTK%2Fimg.png\"></span><span class=\"desc_post\"><strong class=\"tit_blog\">[Control System 기초] 테일러 급수 전개를 이용한 시스템 근사화</strong><span class=\"txt_post\">이번에는 시스템의 선형 근사화에 많이 사용하는 데일러 급수 전개를 이야기하려고 합니다. 수학적 증명을 다룰려는 것은 아니구요. 그냥 테일러 급수 전개식을 소개하고 어떻게 사용하는지를 이야기하고, 테일러 급수 전개를 한 결과가 원 함수와 얼마나 비슷한지를 파이썬으로 확인해보려고 합니다. 이전 강의 이 글은 스프링 매스 댐퍼 시스템을 소개하던 글에 이어서 https://pinkwink.kr/1378 [Control System 기초] Spring Mass Damper 시스템 소개 이번에는 제어시스템에서 기초 중에 기초가 되는 Spring Mass Damper 시스템을 소개하려고 합니다. 제어공학에서 가장 기초가 되는 모델이지요. 지금 위의 그림이 스프링-매스-댐퍼 시스템을 간략히 pinkwink.kr 선형시..</span><span class=\"data_info\"><span class=\"btn_like on\"><span class=\"ico_like2\">공감수</span><span class=\"txt_btn\">2</span></span><span class=\"link_comment\"><span class=\"ico_comment2\">댓글수</span><span class=\"txt_btn\">2</span></span><span class=\"txt_date\">2022. 4. 19.</span></span></span></a></li><li><a href=\"/m/1377\"><span class=\"thumb_img\"><img alt=\"\" src=\"https://img1.daumcdn.net/thumb/C176x176/?fname=https%3A%2F%2Fk.kakaocdn.net%2Fdn%2F1qsMK%2FbtrwaFEeZck%2FHeF4wk26JHXHEWigYKSQ40%2Fimg.png\"></span><span class=\"desc_post\"><strong class=\"tit_blog\">ROS Melodic에서 YOLO로 detection 된 사람 수 세기</strong><span class=\"txt_post\">최근 저는 광운대에서 ROS 기초 수업을 진행했습니다. 해당 수업은 제가 ROS 기초를 진행하고 마치면, 그 다음 다른 분이 이어서 실제 주행로봇을 가지고 프로젝트를 진행하는 방식이었습니다. 그래서 제 뒤에 이어지는 수업에서 ROS melodic 버전을 사용하기 때문에 저도 수업을 melodic으로 진행을 했죠. 근데 melodic 버전에서 제가 블로그에서 YOLO pkg를 소개했던 적이 있습니다. https://pinkwink.kr/1256 ROS melodic에서 영상인식 YOLOv3 패키지 세팅하기 최근 여러글에서 이야기했지만, 제가 지금은 (임시.ㅠㅠ.로) 한양대 에리카에 있습니다. 여러 고마운 분들의 배려로 아주 다양한 재미있는 일들을 경험중이랍니다. 그 중에 또 하나 멋진 일은 아 pinkwi..</span><span class=\"data_info\"><span class=\"btn_like on\"><span class=\"ico_like2\">공감수</span><span class=\"txt_btn\">12</span></span><span class=\"link_comment\"><span class=\"ico_comment2\">댓글수</span><span class=\"txt_btn\">16</span></span><span class=\"txt_date\">2022. 3. 17.</span></span></span></a></li><li><a href=\"/m/1376\"><span class=\"thumb_img\"><img alt=\"\" src=\"https://img1.daumcdn.net/thumb/C176x176/?fname=https%3A%2F%2Fk.kakaocdn.net%2Fdn%2FLKuqJ%2Fbtrvl82bFSF%2FID27Wm3KdrtA1ABDRypkQ0%2Fimg.png\"></span><span class=\"desc_post\"><strong class=\"tit_blog\">Cost Function 비용함수와  Gradient Descent 경사하강법의 이해 (feat. tensorflow GradientTape)</strong><span class=\"txt_post\">아마 딥러닝이 되었든 혹은 간단한 선형 회귀 알고리즘만 공부하려고 해도 비용함수라고 하는 Cost Function(loss funciton)이라고 하는 단어를 만났을 겁니다. 특히 그 후 꼭 따라 붙는 Gradient Descent 경사하강법이라는 단어도 만났을 겁니다. 제가 글을 쓰는 습관이 작은 주제를 나눠서 쓰는 것이라서 비용함수와 경사하강법을 다루어야겠다고 생각했는데, 그것 때문에 참 많은 시간을 들였습니다. 어떤 사람들보다 더 잘 설명해야지 하는 생각은 없었지만, 그래도 이왕 쓰는 것이라 좋은 설명을 해야할텐데... 하는 걱정 때문이었습니다ㅠㅠ. 잘 하고 있는 것인지는 잘 모르겠지만, 그래도 일단 준비한 내용으로 글을 시작해보려고 합니다. 이번 글은 Cost Function이라는 아이를 설명하고..</span><span class=\"data_info\"><span class=\"btn_like on\"><span class=\"ico_like2\">공감수</span><span class=\"txt_btn\">1</span></span><span class=\"link_comment\"><span class=\"ico_comment2\">댓글수</span><span class=\"txt_btn\">4</span></span><span class=\"txt_date\">2022. 3. 8.</span></span></span></a></li><li><a href=\"/m/1375\"><span class=\"thumb_img\"><img alt=\"\" src=\"https://img1.daumcdn.net/thumb/C176x176/?fname=https%3A%2F%2Fk.kakaocdn.net%2Fdn%2Fdi3jtn%2Fbtrt4hZ40ab%2FnRHlCk55woWsbXkCk77q5K%2Fimg.png\"></span><span class=\"desc_post\"><strong class=\"tit_blog\">소리나 음원, 음악 데이터에서 주파수 특성 분석 - librosa</strong><span class=\"txt_post\">오늘은 소리나 음원, 음악 데이터에서 STFT나 Chroma 분석을 수행하는데 편한 librosa를 소개하고, 이를 이용해서 소리 데이터에서 특성을 추출하는 기초에 대한 이야기를 해보려고 합니다. 먼저 STFT에 대해서는 얼마전에 이야기를 했었는데요. https://pinkwink.kr/1370 Python으로 수행하는 주파수 분석 - FFT, STFT 아주 예전에 Python으로 수행하는 FFT라는 주제의 글을 작성한 적이 있습니다. 이번에는 이 글에서 조금 더 나가서 STFT라는 개념도 이야기를 해 보려고 합니다. 시간영역에서의 신호를 분석할 때 pinkwink.kr 위 글에서 FFT와 STFT에 대한 이야기를 했었습니다. 저 글에서는 scipy와 numpy를 사용했는데요. 이번에는 소리 데이터 분석..</span><span class=\"data_info\"><span class=\"btn_like on\"><span class=\"ico_like2\">공감수</span><span class=\"txt_btn\">4</span></span><span class=\"link_comment\"><span class=\"ico_comment2\">댓글수</span><span class=\"txt_btn\">6</span></span><span class=\"txt_date\">2022. 2. 24.</span></span></span></a></li><li><a href=\"/m/1370\"><span class=\"thumb_img\"><img alt=\"\" src=\"https://img1.daumcdn.net/thumb/C176x176/?fname=https%3A%2F%2Fk.kakaocdn.net%2Fdn%2FniSNt%2FbtrsOiep7uF%2F6D4W9nELuR0NrQAE1d97S0%2Fimg.png\"></span><span class=\"desc_post\"><strong class=\"tit_blog\">Python으로 수행하는 주파수 분석 - FFT, STFT</strong><span class=\"txt_post\">아주 예전에 Python으로 수행하는 FFT라는 주제의 글을 작성한 적이 있습니다. 이번에는 이 글에서 조금 더 나가서 STFT라는 개념도 이야기를 해 보려고 합니다. 시간영역에서의 신호를 분석할 때 많이 사용하는 것이 FFT인데요. 여기서 시간 구간에 대한 한계를 만날 수 있기 때문에 STFT Short Time Fourier Transform을 사용합니다. 오늘은 이 이야기를 해 보려고 합니다. https://pinkwink.kr/708 Python에서 수행해 본 간단한 FFT 코드 일요일 아침(이 글은 평일에 예약 발행되겠지만)이네요.. 오늘 아침은 꽤 상쾌하고 약간 몽롱한.. 뭐 아무튼 기분이 좋아지는 아침이네요^^. 요즘은 뭔가를 마무리하는 단계에서 오는 급급하게 pinkwink.kr 시험 데이..</span><span class=\"data_info\"><span class=\"btn_like on\"><span class=\"ico_like2\">공감수</span><span class=\"txt_btn\">8</span></span><span class=\"link_comment\"><span class=\"ico_comment2\">댓글수</span><span class=\"txt_btn\">0</span></span><span class=\"txt_date\">2022. 2. 9.</span></span></span></a></li><li><a href=\"/m/1358\"><span class=\"thumb_img\"><img alt=\"\" src=\"https://img1.daumcdn.net/thumb/C176x176/?fname=https%3A%2F%2Fk.kakaocdn.net%2Fdn%2FUSf6r%2Fbtq7SM2U8XP%2F9pnbfoB0xbheKrYaICOn61%2Fimg.jpg\"></span><span class=\"desc_post\"><strong class=\"tit_blog\">DJI 드론을 이용해서 사람인식 및 포즈인식하기 작품소개</strong><span class=\"txt_post\">이 글은 2021년 봄부터 이른 여름까지 수업을 한 패스트캠퍼스 성수 스쿨(지금은 스노우볼)에서 수업한 데이터사이언스 스쿨 16기의 프로젝트 중 하나를 소개하는 글입니다. 부족한 강사를 만나 더 좋은 성과를 낼 수 있었지만 그러지 못한 것이 미안할 따름입니다. 이번에는 제가 진행하는 수업의 수강생 중 한 팀이 시도한 프로젝트를 소개하려고 합니다. 원래 딥러닝 수업이었는데 본인들이 드론에 관심이 많아서 드론을 자비로 구매한 후 프로젝트를 진행했습니다. 흠.. 저렇게 자기멋에 살아야하는것이 현대인이죠^^. 프로젝트를 진행하는데 좋은 습관인 의문을 가지고 해결하려는 노력을 많이 하는 팀이었습니다. 학습은 colab으로 진행하고 드론과 통신은 <b>python</b>으로 수행을 했습니다.~ DJI의 텔로라는 드론인데 성능이..</span><span class=\"data_info\"><span class=\"btn_like on\"><span class=\"ico_like2\">공감수</span><span class=\"txt_btn\">2</span></span><span class=\"link_comment\"><span class=\"ico_comment2\">댓글수</span><span class=\"txt_btn\">2</span></span><span class=\"txt_date\">2021. 6. 23.</span></span></span></a></li><li><a href=\"/m/1357\"><span class=\"thumb_img\"><img alt=\"\" src=\"https://img1.daumcdn.net/thumb/C176x176/?fname=https%3A%2F%2Fk.kakaocdn.net%2Fdn%2FHFCrb%2Fbtq6jiPeUV5%2F6PmDcL487WXRvv50qOKNKk%2Fimg.png\"></span><span class=\"desc_post\"><strong class=\"tit_blog\">Jetson nano에 Inference 추론기 설치하고 간단히 사용해보</strong><span class=\"txt_post\">Jetson nano 보드는 딥러닝을 동작시킬때 동급의 보드(Raspberry Pi 4)보다 좋은 성능을 보여줍니다. 이번에는 그럴때 사용하는 Jetson nano용 코드를 설치하는 것을 다루고 있습니다. 이번에는 젯슨 나노보드에 직접 HDMI 케이블로 모니터를 연결하고, 키보드와 마우스도 직접 연결했습니다. 일단 당연하지만 여러분들이 Jetson nano 보드를 가지고 있다고 보고, MIPI 카메라 (흔히 라즈베리파이 카메라)도 연결했다고 보겠습니다. 그리고 또한 Jetson Download Center에서 SD 카드 이미지로 된 Jetpack을 받아서 (이글은 Jetpack 4.5가 설치되었다고 보고 있습니다.) 여러분의 Jetson nano 보드에 설치했다고 가정합니다. 위 그림에서 보이는 Jets..</span><span class=\"data_info\"><span class=\"btn_like on\"><span class=\"ico_like2\">공감수</span><span class=\"txt_btn\">9</span></span><span class=\"link_comment\"><span class=\"ico_comment2\">댓글수</span><span class=\"txt_btn\">2</span></span><span class=\"txt_date\">2021. 6. 2.</span></span></span></a></li><li><a href=\"/m/1355\"><span class=\"thumb_img\"><img alt=\"\" src=\"https://img1.daumcdn.net/thumb/C176x176/?fname=https%3A%2F%2Fk.kakaocdn.net%2Fdn%2FcssWXg%2Fbtq4wv9zYAa%2FGixV6FH1njaLsvaWSSc4lk%2Fimg.png\"></span><span class=\"desc_post\"><strong class=\"tit_blog\">Mac M1에 Tensorflow 설치하기</strong><span class=\"txt_post\">얼마전에 저는 운좋게도 Mac M1칩이 탑재된 맥북을 만져볼 기회를 얻어서 터미널을 iTerm으로 세팅하는 과정을 이야기했었는데요. pinkwink.kr/1354?category=600041 Mac M1 노트북 (Mac silicon) 터미널 세팅 - iTerm2 요즘 노트북 세계에 한 가지 큰 이슈라면 애플에서 나온 맥 m1 노트북이 아닐까요. 정말 많은 이슈를 만들고 있는 것 같습니다. 저는 예전에 맥북 사용에서 해두면 편한 몇 가지 설정을 이야기한 pinkwink.kr 이번에는 내친김에 텐서플로우를 설정하는 방법을 이야기하려고 합니다. 애플의 공식 github에서와 조금 달리 conda에서 설치하는 법을 공개해준 많은 블로그들의 글을 참조해서 저도 한 번 수행해 보았습니다. 시작전에 이 과정의 문제..</span><span class=\"data_info\"><span class=\"btn_like on\"><span class=\"ico_like2\">공감수</span><span class=\"txt_btn\">4</span></span><span class=\"link_comment\"><span class=\"ico_comment2\">댓글수</span><span class=\"txt_btn\">10</span></span><span class=\"txt_date\">2021. 5. 10.</span></span></span></a></li><li><a href=\"/m/1354\"><span class=\"thumb_img\"><img alt=\"\" src=\"https://img1.daumcdn.net/thumb/C176x176/?fname=https%3A%2F%2Fk.kakaocdn.net%2Fdn%2Fl1hay%2Fbtq4q3F1Day%2Fx6meNcP6RXrKPrE1bRKWU0%2Fimg.png\"></span><span class=\"desc_post\"><strong class=\"tit_blog\">Mac M1 노트북 (Mac silicon) 터미널 세팅 - iTerm2</strong><span class=\"txt_post\">요즘 노트북 세계에 한 가지 큰 이슈라면 애플에서 나온 맥 m1 노트북이 아닐까요. 정말 많은 이슈를 만들고 있는 것 같습니다. 저는 예전에 맥북 사용에서 해두면 편한 몇 가지 설정을 이야기한 적이 있습니다. pinkwink.kr/1186?category=600041 맥 설정 - 초보를 위한 가이드 맥북을 처음 쓰는 유저라면 맥을 처음 기동하고 약간 머뭇거릴지도 모릅니다. 그리고 나서 어떻게 설정하면 이쁘게(^^) 편하게 사용할 수 있을지 또 고민할지 모릅니다.&amp;^^ 이번에 제 맥북을 초기 pinkwink.kr 일면 맥 초보를 위한 가이드라고~ 별 내용없으면서 거창하게 이야기를 했었죠.ㅎㅎ. 그 글에는 맥 터미널 대산 사용하면 편한 iTerm 이야기도 있습니다. 이제 M1이 나오면서 그것부터 설정을 다시..</span><span class=\"data_info\"><span class=\"btn_like on\"><span class=\"ico_like2\">공감수</span><span class=\"txt_btn\">4</span></span><span class=\"link_comment\"><span class=\"ico_comment2\">댓글수</span><span class=\"txt_btn\">6</span></span><span class=\"txt_date\">2021. 5. 9.</span></span></span></a></li><li><a href=\"/m/1351\"><span class=\"thumb_img\"><img alt=\"\" src=\"https://img1.daumcdn.net/thumb/C176x176/?fname=https%3A%2F%2Fk.kakaocdn.net%2Fdn%2FlrfUc%2Fbtq12wqNkMY%2FFrPnAB6FKZ8lfJm5XspdJK%2Fimg.png\"></span><span class=\"desc_post\"><strong class=\"tit_blog\">Jupyter Notebook을 원격으로 접속하기</strong><span class=\"txt_post\">저는 어떤 숭고한(^^) 목적으로 RTX3090을 확보했습니다. 음... 지금은 가격이 더 올랐네요^^. 아무튼, 이 아이를 구매하고 PC가 조립되는 과정은 매우 많은 분들이 도와주셨지요. 오모로봇의 대표님과 연구소장님입니다. ㅋㅋ 이 글을 빌어 감사의 마음을 전합니다. ㅋㅋ^^ 아무튼 그렇게 세팅한 저 데스크탑은 리눅스를 세팅하고 원격으로 사용할 건데요. Jupyter notebook을 데스트탑에서 기동하고, 제 노트북에서 원격으로 접속하려고 합니다^^ 저런 구성을 하고 싶은거죠^^ 일단, 데스크탑의 ip를 알아서 ssh로 접근합니다. ip를 알아내는 방법은 한번 모니터, 키보드, 마우스를 연결하고 ifconfig명령을 이용해서 ip를 확인하면 됩니다. 이제 ssh로 원격으로 데스크탑에 접근을 완료합니..</span><span class=\"data_info\"><span class=\"btn_like on\"><span class=\"ico_like2\">공감수</span><span class=\"txt_btn\">0</span></span><span class=\"link_comment\"><span class=\"ico_comment2\">댓글수</span><span class=\"txt_btn\">4</span></span><span class=\"txt_date\">2021. 4. 8.</span></span></span></a></li><li><a href=\"/m/1350\"><span class=\"thumb_img\"><img alt=\"\" src=\"https://img1.daumcdn.net/thumb/C176x176/?fname=https%3A%2F%2Fk.kakaocdn.net%2Fdn%2Fc7HFt0%2Fbtq1Qm1MqoB%2FdlqwFt55bmoSkpYuP64dck%2Fimg.jpg\"></span><span class=\"desc_post\"><strong class=\"tit_blog\">Python scikit learn의 Label Encoder와 MinMax, Standard, Robust Scaler 이해하기</strong><span class=\"txt_post\">얼핏 관계가 없어 보일 수도 있으나, 이번에는 scikit learn의 Label Encoder와 MinMax, Standard, Robust Scaler를 이야기 해보려고 합니다. 이 아이들 모두 데이터를 만지작 거리다 보면 자주 만나게 되는 아이들입니다. Label Encoder 먼저 연습용 데이터를 즉석에서 만들어 보죠. 그냥 A 컬럼은 문자로, B 컬럼은 흔히 보는 숫자로 되어 있습니다. 네 위와 같이 만들어 지죠. 만약 A컬럼의 문자 a, b, c를 각각 번호 0, 1, 2를 매겨서 변환하고 싶다면 LabelEncoder를 사용하면 됩니다. 먼저 LabelEncoder를 불러와서 A컬럼을 기준으로 fit을 시키면, 어떤 아이를 0이라고 할지, 또 어떤아이를 1이라고 할지를 정합니다. 그 내용이 ..</span><span class=\"data_info\"><span class=\"btn_like on\"><span class=\"ico_like2\">공감수</span><span class=\"txt_btn\">7</span></span><span class=\"link_comment\"><span class=\"ico_comment2\">댓글수</span><span class=\"txt_btn\">6</span></span><span class=\"txt_date\">2021. 4. 5.</span></span></span></a></li><li><a href=\"/m/1347\"><span class=\"thumb_img\"><img alt=\"\" src=\"https://img1.daumcdn.net/thumb/C176x176/?fname=https%3A%2F%2Fk.kakaocdn.net%2Fdn%2FcrKrCk%2Fbtq0zvNRbO6%2Fv42BeSqI8EH5G8774TPKhk%2Fimg.png\"></span><span class=\"desc_post\"><strong class=\"tit_blog\">ROS 토픽을 터미널에서 그래픽하게 보여주는 rosshow</strong><span class=\"txt_post\">오늘은 터미널에서 토픽을 그래픽하게 보여주는 매우 재미있는 패키지를 소개해드릴려고 합니다. 요즘 제가 로봇에 탑재된 젯슨나노 같은 보드에 원격으로 접속할때가 많은데요. 그런 상황에서 정말 간단히 토픽- 특히 라이다나 이미지 토픽을 확인하고 싶을때 ssh로 접근한 경우는 힘든데요. 그때 바로 확인할 수 있습니다. 먼저 rosshow의 공식 github에서 설치 안내를 볼 수 있습니다. 먼저 <b>python</b>-pip를 설치하고 pip 명령으로 pip를 업그레이드 합니다. 이제 git clone 명령으로 소스를 받아오는데, 왠만하면 catkin_ws가 아니라 다운로드같은 다른 폴더에 받습니다. 이유는 빌드가 안되는 다른 폴더를 포함하고 있기 때문입니다. 이제 패키지를 받아보면 rosshow라는 폴더가 또 그 안에 ..</span><span class=\"data_info\"><span class=\"btn_like on\"><span class=\"ico_like2\">공감수</span><span class=\"txt_btn\">1</span></span><span class=\"link_comment\"><span class=\"ico_comment2\">댓글수</span><span class=\"txt_btn\">2</span></span><span class=\"txt_date\">2021. 3. 21.</span></span></span></a></li><li><a href=\"/m/1345\"><span class=\"thumb_img\"><img alt=\"\" src=\"https://img1.daumcdn.net/thumb/C176x176/?fname=https%3A%2F%2Fk.kakaocdn.net%2Fdn%2FcY2kGP%2FbtqZrgcQAOn%2F521Kna577Mp5Rg8ZOGLahk%2Fimg.png\"></span><span class=\"desc_post\"><strong class=\"tit_blog\">Python class로 만드는 1차 저역통과필터 Low Pass Filter</strong><span class=\"txt_post\">디지털 필터에 대해서는 예전에 많이 다루었는데요. 당시에 다룰때는 간단히 Python의 함수(def)를 사용해서 많이 다루었습니다. 이번에는 class를 이용해서 조금 사용성을 높인 코드를 보여드리는 것이 어떨까하고 글을 작성합니다. 일단 1차 저역통과필터는 예전에 소개한 글에서 수식을 가져오겠습니다. 저 식을 코드로 단순 변환 시켜보면 out = (tau * pre_out + ts * data) / (tau + ts) 입니다. 수식에서 분모가 같으니 tau + ts는 빼서 보면 저렇게 되죠. 문제는 pre_out입니다. 현재 출력값 out, 수식에서는 yn의 이전 값이거든요. 그래서 저 코드가 실행된 직후 현재 출력을 별도로 저장해야 합니다. 만약 class를 사용하지 않는다면, 1차 저역통과필터가 필..</span><span class=\"data_info\"><span class=\"btn_like on\"><span class=\"ico_like2\">공감수</span><span class=\"txt_btn\">2</span></span><span class=\"link_comment\"><span class=\"ico_comment2\">댓글수</span><span class=\"txt_btn\">10</span></span><span class=\"txt_date\">2021. 3. 19.</span></span></span></a></li><li><a href=\"/m/1346\"><span class=\"thumb_img\"><img alt=\"\" src=\"https://img1.daumcdn.net/thumb/C176x176/?fname=https%3A%2F%2Fk.kakaocdn.net%2Fdn%2FbrmYdn%2FbtqZSweUZGB%2F83opiiCHi0QXc1vjEzwKO0%2Fimg.jpg\"></span><span class=\"desc_post\"><strong class=\"tit_blog\">ROS에서 odom 정보를 기초로 로봇에 위치 명령 인가하기</strong><span class=\"txt_post\">ROS에서 주행로봇을 움직이게 하는 유명한~ 토픽(topic)은 바로 cmd_vel입니다. 그 이름에서도 나타나 있지만, velocity 속도 명령입니다. 주행로봇을 만약 내가 원하는 어떤 지점으로 보내고 싶다면 보통 많이 하는 절차는 SLAM을 이용해서 지도를 만들고, 그 속에서 amcl 패키지로 맵 안에서 로봇의 위치를 추정하고, move_base를 이용해서 이동 명령을 주게 됩니다. [Theory/Lecture] - ROS move_base를 이용한 주행 - <b>python</b> 편 - ROS move_base를 이용한 주행 - <b>python</b> 편 - 최근에 저는 국민대학교에서 주행로봇을 이용해서 겨울방학 특강을 진행했었는데요. 그리고 그 강의가 원격으로 진행되다 보니 수강하는 학생들에게 부족한 부분을 보완하기..</span><span class=\"data_info\"><span class=\"btn_like on\"><span class=\"ico_like2\">공감수</span><span class=\"txt_btn\">3</span></span><span class=\"link_comment\"><span class=\"ico_comment2\">댓글수</span><span class=\"txt_btn\">8</span></span><span class=\"txt_date\">2021. 3. 14.</span></span></span></a></li><li><a href=\"/m/1344\"><span class=\"thumb_img\"><img alt=\"\" src=\"https://img1.daumcdn.net/thumb/C176x176/?fname=https%3A%2F%2Fk.kakaocdn.net%2Fdn%2FbUOPvB%2FbtqZpgc4CZz%2FaG1md7ZqkGD7O8K044Sd50%2Fimg.png\"></span><span class=\"desc_post\"><strong class=\"tit_blog\">ROS move_base를 이용한 주행 - <b>python</b> 편 -</strong><span class=\"txt_post\">최근에 저는 국민대학교에서 주행로봇을 이용해서 겨울방학 특강을 진행했었는데요. 그리고 그 강의가 원격으로 진행되다 보니 수강하는 학생들에게 부족한 부분을 보완하기 위해 영상을 유투브에 공개하기로 결정을 했죠. www.youtube.com/playlist?list=PL83j7f4UkozHPUshNQfPpogJBE0gSnCYH OMO R1mini로 진행하는 AI Robot 수업 www.youtube.com 그 강의 목록이 위의 링크입니다. 강의 당시 강의에서는 틈틈이 이야기를 했는데 강의를 다시 유투브에 올리는 과정에서 빼먹은 내용이 몇 가지 있습니다. 오늘은 그 중 하나를 이야기를 하려고 합니다. youtu.be/8r6x4sKu4EM 강의를 진행하던 중 저는 Jupyter Notebook으로 로봇을 다루는..</span><span class=\"data_info\"><span class=\"btn_like on\"><span class=\"ico_like2\">공감수</span><span class=\"txt_btn\">4</span></span><span class=\"link_comment\"><span class=\"ico_comment2\">댓글수</span><span class=\"txt_btn\">10</span></span><span class=\"txt_date\">2021. 3. 9.</span></span></span></a></li><li><a href=\"/m/1340\"><span class=\"thumb_img\"><img alt=\"\" src=\"https://img1.daumcdn.net/thumb/C176x176/?fname=https%3A%2F%2Fk.kakaocdn.net%2Fdn%2F7wxhs%2FbtqXU3GlnlU%2FpKLwlk0lykfYjwEeZtk6K1%2Fimg.png\"></span><span class=\"desc_post\"><strong class=\"tit_blog\">Ubuntu 20.04에서 ROS1 Noetic과 ROS2 Foxy 같이 설치하기</strong><span class=\"txt_post\">언제나 그렇듯 저는 Ubuntu 20.04 Focal (실제 저는 Mint 20.1 Ulyssa에서지만)에서 ROS1 Noetic 버전과 ROS2 Melodic 버전을 설치하는 과정을 이야기 해보려고 합니다. 물론 이런 글이 없어도 되는 분들도 있지만, 저는 여러 이유에서 이런 글을 올리는 것을 좋아합니다. 일종의 설치기~라고 생각해주세요^^ 요즘 제 컨셉인데 이 글도 동영상으로 그 과정을 보여드리고 있습니다. Ubuntu 20.04 Focal과 Mint 20.1 Ulyssa는 몇몇 이슈를 빼면 동일하다고 생각하시면 됩니다. 일단 구글에서 ROS1 Noetic 설치 페이지를 찾습니다. 매우 쉽게 찾아질겁니다. 저는 항상 설치할때는 공식 설치 안내페이지에서 합니다. 뭐 그게 혹시 모를 여러 변경 사항들을 ..</span><span class=\"data_info\"><span class=\"btn_like on\"><span class=\"ico_like2\">공감수</span><span class=\"txt_btn\">5</span></span><span class=\"link_comment\"><span class=\"ico_comment2\">댓글수</span><span class=\"txt_btn\">6</span></span><span class=\"txt_date\">2021. 2. 22.</span></span></span></a></li><li><a href=\"/m/1339\"><span class=\"thumb_img\"><img alt=\"\" src=\"https://img1.daumcdn.net/thumb/C176x176/?fname=https%3A%2F%2Fk.kakaocdn.net%2Fdn%2Fbg4ZgE%2FbtqXrB9DtSj%2F0DGsoKqoPR0Kg96EhiPoj0%2Fimg.png\"></span><span class=\"desc_post\"><strong class=\"tit_blog\">Ubuntu 20.04 (Mint 20.1) CUDA 11.1, cuDNN 8.0.5, Tensorflow 2.4</strong><span class=\"txt_post\">이번에는 우분투 20.04에서 CUDA 11.1과 cuDNN 8.0.5를 설치하고 이어서 Tensorflow 2.4를 설치하는 과정을 설명하려고 합니다. 화면은 이미 눈치를 채셨을 수도 있지만, 우분투 20.04에 대응하는 Mint 버전인 Mint 20.1 Ulyssa에서 저는 진행했습니다. Ubuntu Focal과 Mint Ulyssa는 거의 동일하다고 생각하셔도 됩니다. 위 영상에서도 동일한 이야기가 진행됩니다. 먼저 cuda toolkit 11.1을 검색합니다. 구글신님을 이용해서~ 오늘 설치할 버전은 CUDA Toolkit 11.1 update 1을 받습니다. 위 그림처럼 Linux -&gt; x86_64 -&gt; Ubuntu -&gt; 20.04를 차례로 선택합니다. 그리고 runfile [local]을 선택..</span><span class=\"data_info\"><span class=\"btn_like on\"><span class=\"ico_like2\">공감수</span><span class=\"txt_btn\">3</span></span><span class=\"link_comment\"><span class=\"ico_comment2\">댓글수</span><span class=\"txt_btn\">6</span></span><span class=\"txt_date\">2021. 2. 17.</span></span></span></a></li><li><a href=\"/m/1337\"><span class=\"thumb_img\"><img alt=\"\" src=\"https://img1.daumcdn.net/thumb/C176x176/?fname=https%3A%2F%2Fk.kakaocdn.net%2Fdn%2FcwDc82%2FbtqW1sZzB3a%2Ff1UEGI0tQNuVshl0PtEeD1%2Fimg.png\"></span><span class=\"desc_post\"><strong class=\"tit_blog\">Noetic에서 catkin tools 설치 및 alias 설정</strong><span class=\"txt_post\">본 내용은 제 평상시 저의 ROS 스승님으로 생각하고 있는 ahnbk.com님의 도움을 매우~ 받았습니다.^^. 지난번에 Noetic을 설치하는 과정을 이야기했는데요. 그리고 catkin tools를 이번에는 설치하기 어렵다고 생각했는데 아니었습니다. 그 과정을 짧지만 정리해 둡니다. 요즘 유투브에 동영상을 올릴때 사용하는 첫화면인데.. 아직까지는 마음에 듭니다.^^ 넵. 지난번 Noetic 설치에서 이어지는 내용입니다. 먼저 sudo apt install <b>python</b>3-osrf-pycommon을 설치합니다. 그리고 sudo apt insall <b>python</b>3-catkin-tools를 설치합니다. 음.. 이게 끝입니다.^^ 이제 워크 스페이스에서 catkin init을 하고 아무런 소스코드가 없어서 그냥 ..</span><span class=\"data_info\"><span class=\"btn_like on\"><span class=\"ico_like2\">공감수</span><span class=\"txt_btn\">2</span></span><span class=\"link_comment\"><span class=\"ico_comment2\">댓글수</span><span class=\"txt_btn\">8</span></span><span class=\"txt_date\">2021. 2. 16.</span></span></span></a></li><div style=\"width: 100%; height: 2px; display: block;\"></div><div class=\"loading_tistory\">로딩중입니다.</div></ul></div></div></div></div></div>\\n  \\n  <!-- 페이지 -->\\n  \\n\\n  \\n\\n  \\n\\n\\n<script type=\"text/javascript\">\\n    (function() {\\n        if (!window.T) {\\n            window.T = {}\\n        }\\n        window.T.config = {\"TOP_URL\":\"http://www.tistory.com\",\"TOP_SSL_URL\":\"https://www.tistory.com\",\"DEFAULT_URL\":\"https://pinkwink.kr\",\"LOGIN_URL\":\"https://www.tistory.com/auth/login/?redirectUrl=https%3A%2F%2Fpinkwink.kr%2Fm%2Fsearch\",\"LOGOUT_URL\":\"https://www.tistory.com/auth/logout/?redirectUrl=https%3A%2F%2Fpinkwink.kr%2Fm%2Fsearch\",\"JOIN_URL\":\"https://www.tistory.com/member/join\",\"NEED_COMMENT_LOGIN\":false,\"COMMENT_LOGIN_CONFIRM_MESSAGE\":\"\",\"VIEWER\":{\"name\":\"\",\"homepage\":\"\",\"role\":\"guest\",\"roleGroup\":\"visitor\",\"subscriptionStatusMap\":{\"isConnected\":false,\"isPending\":false}},\"BLOG\":{\"id\":371175,\"name\":\"pinkwink\",\"title\":\"PinkWink\"},\"IS_PREVIEW\":false};\\n        window.appInfo = {\"domain\":\"tistory.com\",\"topUrl\":\"http://www.tistory.com\",\"loginUrl\":\"https://www.tistory.com/auth/login\",\"logoutUrl\":\"https://www.tistory.com/auth/logout\"};\\n    })();\\n</script>\\n<div style=\"margin:0; padding:0; border:none; background:none; float:none; clear:none; z-index:0\"></div>\\n\\n</body></html>'"
      ]
     },
     "execution_count": 32,
     "metadata": {},
     "output_type": "execute_result"
    }
   ],
   "source": [
    "driver.page_source"
   ]
  },
  {
   "cell_type": "code",
   "execution_count": 33,
   "id": "5e315ded",
   "metadata": {},
   "outputs": [],
   "source": [
    "from bs4 import BeautifulSoup\n",
    "\n",
    "req = driver.page_source\n",
    "soup = BeautifulSoup(req, \"html.parser\")"
   ]
  },
  {
   "cell_type": "code",
   "execution_count": 34,
   "id": "eb992354",
   "metadata": {},
   "outputs": [
    {
     "data": {
      "text/plain": [
       "[<strong class=\"tit_blog\">ROS2 혼자 공부하기 좋은 책 추천 - ROS2 혼자 공부하는 로봇 SW</strong>]"
      ]
     },
     "execution_count": 34,
     "metadata": {},
     "output_type": "execute_result"
    }
   ],
   "source": [
    "# Copy selector   #post > ul > li:nth-child(1) > a > span.desc_post > strong\n",
    "# css 형식\n",
    "soup.select(\"#post > ul > li:nth-child(1) > a > span.desc_post > strong\")"
   ]
  },
  {
   "cell_type": "code",
   "execution_count": 38,
   "id": "e599da84",
   "metadata": {},
   "outputs": [
    {
     "data": {
      "text/plain": [
       "'제목을 \"ROS2 혼자 공부하기 좋은 책\"이라고 잡으니 첫 문장부터 창피합니다. 최근 몇 개월간 작업한 ROS2 기초 책을 출판했습니다. 정확히는 9월 7일 출판예정인데, 이미 주요 온라인 서점에는 등록이 되어서 이렇게 저도 블로그에 소개하게 되었습니다. 책 표지입니다. 이 중 제가 이 책의 컨셉으로 생각한 내용이 표지 뒷면에 있는데요. 본 책은 ROS2를 먼저 공부한 선배가 ROS2의 사용방법을 옆에서 알려주는 것 처럼 진행하고 있습니다. 이야기를 듣듯이 편하게 따라해보세요. 위 내용입니다. ROS2 혼자 공부하는 로봇 SW 목차 및 내용 이 책의 내용 자체는 제가 평상시 생각한 아주 기초적인 내용입니다. 먼저 책에서 ROS2를 공부하기 위한 환경설정부분과 필요한 몇몇 앱과 ROS2 설치를 이야기하고 ..'"
      ]
     },
     "execution_count": 38,
     "metadata": {},
     "output_type": "execute_result"
    }
   ],
   "source": [
    "elements = soup.select(\".txt_post\")\n",
    "elements[0].text"
   ]
  },
  {
   "cell_type": "code",
   "execution_count": null,
   "id": "354a18a6",
   "metadata": {},
   "outputs": [],
   "source": []
  }
 ],
 "metadata": {
  "kernelspec": {
   "display_name": "ds_study",
   "language": "python",
   "name": "ds_study"
  },
  "language_info": {
   "codemirror_mode": {
    "name": "ipython",
    "version": 3
   },
   "file_extension": ".py",
   "mimetype": "text/x-python",
   "name": "python",
   "nbconvert_exporter": "python",
   "pygments_lexer": "ipython3",
   "version": "3.8.13"
  }
 },
 "nbformat": 4,
 "nbformat_minor": 5
}
