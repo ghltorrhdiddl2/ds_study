{
 "cells": [
  {
   "cell_type": "markdown",
   "id": "fae00663",
   "metadata": {},
   "source": [
    "# 01. Analysis Seoul CCTV"
   ]
  },
  {
   "cell_type": "markdown",
   "id": "6a1c4937",
   "metadata": {},
   "source": [
    "## 1. 데이터 읽기"
   ]
  },
  {
   "cell_type": "code",
   "execution_count": 433,
   "id": "303d52c4",
   "metadata": {},
   "outputs": [],
   "source": [
    "import pandas as pd"
   ]
  },
  {
   "cell_type": "code",
   "execution_count": 434,
   "id": "4801f312",
   "metadata": {},
   "outputs": [],
   "source": [
    "CCTV_Seoul = pd.read_csv(\"../data/01. Seoul_CCTV.csv\", encoding=\"utf-8\")  #tab키 누르면 파일 뜬다"
   ]
  },
  {
   "cell_type": "code",
   "execution_count": 435,
   "id": "8171f6ee",
   "metadata": {},
   "outputs": [
    {
     "data": {
      "text/html": [
       "<div>\n",
       "<style scoped>\n",
       "    .dataframe tbody tr th:only-of-type {\n",
       "        vertical-align: middle;\n",
       "    }\n",
       "\n",
       "    .dataframe tbody tr th {\n",
       "        vertical-align: top;\n",
       "    }\n",
       "\n",
       "    .dataframe thead th {\n",
       "        text-align: right;\n",
       "    }\n",
       "</style>\n",
       "<table border=\"1\" class=\"dataframe\">\n",
       "  <thead>\n",
       "    <tr style=\"text-align: right;\">\n",
       "      <th></th>\n",
       "      <th>기관명</th>\n",
       "      <th>소계</th>\n",
       "      <th>2013년도 이전</th>\n",
       "      <th>2014년</th>\n",
       "      <th>2015년</th>\n",
       "      <th>2016년</th>\n",
       "    </tr>\n",
       "  </thead>\n",
       "  <tbody>\n",
       "    <tr>\n",
       "      <th>0</th>\n",
       "      <td>강남구</td>\n",
       "      <td>3238</td>\n",
       "      <td>1292</td>\n",
       "      <td>430</td>\n",
       "      <td>584</td>\n",
       "      <td>932</td>\n",
       "    </tr>\n",
       "    <tr>\n",
       "      <th>1</th>\n",
       "      <td>강동구</td>\n",
       "      <td>1010</td>\n",
       "      <td>379</td>\n",
       "      <td>99</td>\n",
       "      <td>155</td>\n",
       "      <td>377</td>\n",
       "    </tr>\n",
       "    <tr>\n",
       "      <th>2</th>\n",
       "      <td>강북구</td>\n",
       "      <td>831</td>\n",
       "      <td>369</td>\n",
       "      <td>120</td>\n",
       "      <td>138</td>\n",
       "      <td>204</td>\n",
       "    </tr>\n",
       "    <tr>\n",
       "      <th>3</th>\n",
       "      <td>강서구</td>\n",
       "      <td>911</td>\n",
       "      <td>388</td>\n",
       "      <td>258</td>\n",
       "      <td>184</td>\n",
       "      <td>81</td>\n",
       "    </tr>\n",
       "    <tr>\n",
       "      <th>4</th>\n",
       "      <td>관악구</td>\n",
       "      <td>2109</td>\n",
       "      <td>846</td>\n",
       "      <td>260</td>\n",
       "      <td>390</td>\n",
       "      <td>613</td>\n",
       "    </tr>\n",
       "  </tbody>\n",
       "</table>\n",
       "</div>"
      ],
      "text/plain": [
       "   기관명    소계  2013년도 이전  2014년  2015년  2016년\n",
       "0  강남구  3238       1292    430    584    932\n",
       "1  강동구  1010        379     99    155    377\n",
       "2  강북구   831        369    120    138    204\n",
       "3  강서구   911        388    258    184     81\n",
       "4  관악구  2109        846    260    390    613"
      ]
     },
     "execution_count": 435,
     "metadata": {},
     "output_type": "execute_result"
    }
   ],
   "source": [
    "CCTV_Seoul.head()  #상위 5개 목록 읽어오기"
   ]
  },
  {
   "cell_type": "code",
   "execution_count": 436,
   "id": "7e3bbd26",
   "metadata": {},
   "outputs": [
    {
     "data": {
      "text/html": [
       "<div>\n",
       "<style scoped>\n",
       "    .dataframe tbody tr th:only-of-type {\n",
       "        vertical-align: middle;\n",
       "    }\n",
       "\n",
       "    .dataframe tbody tr th {\n",
       "        vertical-align: top;\n",
       "    }\n",
       "\n",
       "    .dataframe thead th {\n",
       "        text-align: right;\n",
       "    }\n",
       "</style>\n",
       "<table border=\"1\" class=\"dataframe\">\n",
       "  <thead>\n",
       "    <tr style=\"text-align: right;\">\n",
       "      <th></th>\n",
       "      <th>기관명</th>\n",
       "      <th>소계</th>\n",
       "      <th>2013년도 이전</th>\n",
       "      <th>2014년</th>\n",
       "      <th>2015년</th>\n",
       "      <th>2016년</th>\n",
       "    </tr>\n",
       "  </thead>\n",
       "  <tbody>\n",
       "    <tr>\n",
       "      <th>20</th>\n",
       "      <td>용산구</td>\n",
       "      <td>2096</td>\n",
       "      <td>1368</td>\n",
       "      <td>218</td>\n",
       "      <td>112</td>\n",
       "      <td>398</td>\n",
       "    </tr>\n",
       "    <tr>\n",
       "      <th>21</th>\n",
       "      <td>은평구</td>\n",
       "      <td>2108</td>\n",
       "      <td>1138</td>\n",
       "      <td>224</td>\n",
       "      <td>278</td>\n",
       "      <td>468</td>\n",
       "    </tr>\n",
       "    <tr>\n",
       "      <th>22</th>\n",
       "      <td>종로구</td>\n",
       "      <td>1619</td>\n",
       "      <td>464</td>\n",
       "      <td>314</td>\n",
       "      <td>211</td>\n",
       "      <td>630</td>\n",
       "    </tr>\n",
       "    <tr>\n",
       "      <th>23</th>\n",
       "      <td>중구</td>\n",
       "      <td>1023</td>\n",
       "      <td>413</td>\n",
       "      <td>190</td>\n",
       "      <td>72</td>\n",
       "      <td>348</td>\n",
       "    </tr>\n",
       "    <tr>\n",
       "      <th>24</th>\n",
       "      <td>중랑구</td>\n",
       "      <td>916</td>\n",
       "      <td>509</td>\n",
       "      <td>121</td>\n",
       "      <td>177</td>\n",
       "      <td>109</td>\n",
       "    </tr>\n",
       "  </tbody>\n",
       "</table>\n",
       "</div>"
      ],
      "text/plain": [
       "    기관명    소계  2013년도 이전  2014년  2015년  2016년\n",
       "20  용산구  2096       1368    218    112    398\n",
       "21  은평구  2108       1138    224    278    468\n",
       "22  종로구  1619        464    314    211    630\n",
       "23   중구  1023        413    190     72    348\n",
       "24  중랑구   916        509    121    177    109"
      ]
     },
     "execution_count": 436,
     "metadata": {},
     "output_type": "execute_result"
    }
   ],
   "source": [
    "CCTV_Seoul.tail()  #하위 5개 목록 읽어보기"
   ]
  },
  {
   "cell_type": "code",
   "execution_count": 437,
   "id": "eb80b9a6",
   "metadata": {},
   "outputs": [
    {
     "data": {
      "text/plain": [
       "Index(['기관명', '소계', '2013년도 이전', '2014년', '2015년', '2016년'], dtype='object')"
      ]
     },
     "execution_count": 437,
     "metadata": {},
     "output_type": "execute_result"
    }
   ],
   "source": [
    "CCTV_Seoul.columns"
   ]
  },
  {
   "cell_type": "code",
   "execution_count": 438,
   "id": "9db804a2",
   "metadata": {},
   "outputs": [
    {
     "data": {
      "text/plain": [
       "'기관명'"
      ]
     },
     "execution_count": 438,
     "metadata": {},
     "output_type": "execute_result"
    }
   ],
   "source": [
    "CCTV_Seoul.columns[0]"
   ]
  },
  {
   "cell_type": "code",
   "execution_count": 439,
   "id": "ec4d9944",
   "metadata": {},
   "outputs": [],
   "source": [
    "CCTV_Seoul.rename(columns={CCTV_Seoul.columns[0]: \"구별\"}, inplace=True)"
   ]
  },
  {
   "cell_type": "code",
   "execution_count": 440,
   "id": "fd54559d",
   "metadata": {},
   "outputs": [
    {
     "data": {
      "text/html": [
       "<div>\n",
       "<style scoped>\n",
       "    .dataframe tbody tr th:only-of-type {\n",
       "        vertical-align: middle;\n",
       "    }\n",
       "\n",
       "    .dataframe tbody tr th {\n",
       "        vertical-align: top;\n",
       "    }\n",
       "\n",
       "    .dataframe thead th {\n",
       "        text-align: right;\n",
       "    }\n",
       "</style>\n",
       "<table border=\"1\" class=\"dataframe\">\n",
       "  <thead>\n",
       "    <tr style=\"text-align: right;\">\n",
       "      <th></th>\n",
       "      <th>구별</th>\n",
       "      <th>소계</th>\n",
       "      <th>2013년도 이전</th>\n",
       "      <th>2014년</th>\n",
       "      <th>2015년</th>\n",
       "      <th>2016년</th>\n",
       "    </tr>\n",
       "  </thead>\n",
       "  <tbody>\n",
       "    <tr>\n",
       "      <th>0</th>\n",
       "      <td>강남구</td>\n",
       "      <td>3238</td>\n",
       "      <td>1292</td>\n",
       "      <td>430</td>\n",
       "      <td>584</td>\n",
       "      <td>932</td>\n",
       "    </tr>\n",
       "    <tr>\n",
       "      <th>1</th>\n",
       "      <td>강동구</td>\n",
       "      <td>1010</td>\n",
       "      <td>379</td>\n",
       "      <td>99</td>\n",
       "      <td>155</td>\n",
       "      <td>377</td>\n",
       "    </tr>\n",
       "    <tr>\n",
       "      <th>2</th>\n",
       "      <td>강북구</td>\n",
       "      <td>831</td>\n",
       "      <td>369</td>\n",
       "      <td>120</td>\n",
       "      <td>138</td>\n",
       "      <td>204</td>\n",
       "    </tr>\n",
       "    <tr>\n",
       "      <th>3</th>\n",
       "      <td>강서구</td>\n",
       "      <td>911</td>\n",
       "      <td>388</td>\n",
       "      <td>258</td>\n",
       "      <td>184</td>\n",
       "      <td>81</td>\n",
       "    </tr>\n",
       "    <tr>\n",
       "      <th>4</th>\n",
       "      <td>관악구</td>\n",
       "      <td>2109</td>\n",
       "      <td>846</td>\n",
       "      <td>260</td>\n",
       "      <td>390</td>\n",
       "      <td>613</td>\n",
       "    </tr>\n",
       "  </tbody>\n",
       "</table>\n",
       "</div>"
      ],
      "text/plain": [
       "    구별    소계  2013년도 이전  2014년  2015년  2016년\n",
       "0  강남구  3238       1292    430    584    932\n",
       "1  강동구  1010        379     99    155    377\n",
       "2  강북구   831        369    120    138    204\n",
       "3  강서구   911        388    258    184     81\n",
       "4  관악구  2109        846    260    390    613"
      ]
     },
     "execution_count": 440,
     "metadata": {},
     "output_type": "execute_result"
    }
   ],
   "source": [
    "CCTV_Seoul.head()"
   ]
  },
  {
   "cell_type": "code",
   "execution_count": 441,
   "id": "e058d47e",
   "metadata": {},
   "outputs": [],
   "source": [
    "pop_Seoul = pd.read_excel(\n",
    "    \"../data/01. Seoul_Population.xls\", header=2, usecols=\"B, D, G, J, N\"\n",
    ") #가독성"
   ]
  },
  {
   "cell_type": "code",
   "execution_count": 442,
   "id": "6899c424",
   "metadata": {},
   "outputs": [
    {
     "data": {
      "text/html": [
       "<div>\n",
       "<style scoped>\n",
       "    .dataframe tbody tr th:only-of-type {\n",
       "        vertical-align: middle;\n",
       "    }\n",
       "\n",
       "    .dataframe tbody tr th {\n",
       "        vertical-align: top;\n",
       "    }\n",
       "\n",
       "    .dataframe thead th {\n",
       "        text-align: right;\n",
       "    }\n",
       "</style>\n",
       "<table border=\"1\" class=\"dataframe\">\n",
       "  <thead>\n",
       "    <tr style=\"text-align: right;\">\n",
       "      <th></th>\n",
       "      <th>자치구</th>\n",
       "      <th>계</th>\n",
       "      <th>계.1</th>\n",
       "      <th>계.2</th>\n",
       "      <th>65세이상고령자</th>\n",
       "    </tr>\n",
       "  </thead>\n",
       "  <tbody>\n",
       "    <tr>\n",
       "      <th>0</th>\n",
       "      <td>합계</td>\n",
       "      <td>10124579</td>\n",
       "      <td>9857426</td>\n",
       "      <td>267153</td>\n",
       "      <td>1365126</td>\n",
       "    </tr>\n",
       "    <tr>\n",
       "      <th>1</th>\n",
       "      <td>종로구</td>\n",
       "      <td>164257</td>\n",
       "      <td>154770</td>\n",
       "      <td>9487</td>\n",
       "      <td>26182</td>\n",
       "    </tr>\n",
       "    <tr>\n",
       "      <th>2</th>\n",
       "      <td>중구</td>\n",
       "      <td>134593</td>\n",
       "      <td>125709</td>\n",
       "      <td>8884</td>\n",
       "      <td>21384</td>\n",
       "    </tr>\n",
       "    <tr>\n",
       "      <th>3</th>\n",
       "      <td>용산구</td>\n",
       "      <td>244444</td>\n",
       "      <td>229161</td>\n",
       "      <td>15283</td>\n",
       "      <td>36882</td>\n",
       "    </tr>\n",
       "    <tr>\n",
       "      <th>4</th>\n",
       "      <td>성동구</td>\n",
       "      <td>312711</td>\n",
       "      <td>304808</td>\n",
       "      <td>7903</td>\n",
       "      <td>41273</td>\n",
       "    </tr>\n",
       "  </tbody>\n",
       "</table>\n",
       "</div>"
      ],
      "text/plain": [
       "   자치구         계      계.1     계.2  65세이상고령자\n",
       "0   합계  10124579  9857426  267153   1365126\n",
       "1  종로구    164257   154770    9487     26182\n",
       "2   중구    134593   125709    8884     21384\n",
       "3  용산구    244444   229161   15283     36882\n",
       "4  성동구    312711   304808    7903     41273"
      ]
     },
     "execution_count": 442,
     "metadata": {},
     "output_type": "execute_result"
    }
   ],
   "source": [
    "pop_Seoul.head()"
   ]
  },
  {
   "cell_type": "code",
   "execution_count": 443,
   "id": "07abfbca",
   "metadata": {},
   "outputs": [
    {
     "data": {
      "text/html": [
       "<div>\n",
       "<style scoped>\n",
       "    .dataframe tbody tr th:only-of-type {\n",
       "        vertical-align: middle;\n",
       "    }\n",
       "\n",
       "    .dataframe tbody tr th {\n",
       "        vertical-align: top;\n",
       "    }\n",
       "\n",
       "    .dataframe thead th {\n",
       "        text-align: right;\n",
       "    }\n",
       "</style>\n",
       "<table border=\"1\" class=\"dataframe\">\n",
       "  <thead>\n",
       "    <tr style=\"text-align: right;\">\n",
       "      <th></th>\n",
       "      <th>구별</th>\n",
       "      <th>인구수</th>\n",
       "      <th>한국인</th>\n",
       "      <th>외국인</th>\n",
       "      <th>고령자</th>\n",
       "    </tr>\n",
       "  </thead>\n",
       "  <tbody>\n",
       "    <tr>\n",
       "      <th>0</th>\n",
       "      <td>합계</td>\n",
       "      <td>10124579</td>\n",
       "      <td>9857426</td>\n",
       "      <td>267153</td>\n",
       "      <td>1365126</td>\n",
       "    </tr>\n",
       "    <tr>\n",
       "      <th>1</th>\n",
       "      <td>종로구</td>\n",
       "      <td>164257</td>\n",
       "      <td>154770</td>\n",
       "      <td>9487</td>\n",
       "      <td>26182</td>\n",
       "    </tr>\n",
       "    <tr>\n",
       "      <th>2</th>\n",
       "      <td>중구</td>\n",
       "      <td>134593</td>\n",
       "      <td>125709</td>\n",
       "      <td>8884</td>\n",
       "      <td>21384</td>\n",
       "    </tr>\n",
       "    <tr>\n",
       "      <th>3</th>\n",
       "      <td>용산구</td>\n",
       "      <td>244444</td>\n",
       "      <td>229161</td>\n",
       "      <td>15283</td>\n",
       "      <td>36882</td>\n",
       "    </tr>\n",
       "    <tr>\n",
       "      <th>4</th>\n",
       "      <td>성동구</td>\n",
       "      <td>312711</td>\n",
       "      <td>304808</td>\n",
       "      <td>7903</td>\n",
       "      <td>41273</td>\n",
       "    </tr>\n",
       "  </tbody>\n",
       "</table>\n",
       "</div>"
      ],
      "text/plain": [
       "    구별       인구수      한국인     외국인      고령자\n",
       "0   합계  10124579  9857426  267153  1365126\n",
       "1  종로구    164257   154770    9487    26182\n",
       "2   중구    134593   125709    8884    21384\n",
       "3  용산구    244444   229161   15283    36882\n",
       "4  성동구    312711   304808    7903    41273"
      ]
     },
     "execution_count": 443,
     "metadata": {},
     "output_type": "execute_result"
    }
   ],
   "source": [
    "pop_Seoul.rename(\n",
    "    columns={\n",
    "        pop_Seoul.columns[0]: \"구별\",\n",
    "        pop_Seoul.columns[1]: \"인구수\",\n",
    "        pop_Seoul.columns[2]: \"한국인\",\n",
    "        pop_Seoul.columns[3]: \"외국인\",\n",
    "        pop_Seoul.columns[4]: \"고령자\",\n",
    "    },\n",
    "    inplace=\"True\"\n",
    ")\n",
    "pop_Seoul.head()"
   ]
  },
  {
   "cell_type": "markdown",
   "id": "48d507d4",
   "metadata": {},
   "source": [
    "---"
   ]
  },
  {
   "cell_type": "markdown",
   "id": "70c5dc13",
   "metadata": {},
   "source": [
    "## Pandas 기초\n",
    "- Python에서 R 만큼의 강력한 데이터 핸들링 성능을 제공하는 모듈\n",
    "- 단일 프로세스에서는 최대 효율\n",
    "- 코딩 가능하고 응용 가능한 엑셀로 받아들여도 됨\n",
    "- 누군가 스테로이드를 맞은 엑셀로 표현함"
   ]
  },
  {
   "cell_type": "markdown",
   "id": "2457fa69",
   "metadata": {},
   "source": [
    "### Seris\n",
    "- index와 value로 이루어져 있습니다.\n",
    "- 한 가지 데이터 타입만 가질 수 있습니다."
   ]
  },
  {
   "cell_type": "code",
   "execution_count": 444,
   "id": "b894982b",
   "metadata": {},
   "outputs": [],
   "source": [
    "import pandas as pd\n",
    "import numpy as np"
   ]
  },
  {
   "cell_type": "markdown",
   "id": "e60fb692",
   "metadata": {},
   "source": [
    "- pandas는 통상 pd\n",
    "- numpy는 통상 np"
   ]
  },
  {
   "cell_type": "code",
   "execution_count": 445,
   "id": "6428a7bd",
   "metadata": {},
   "outputs": [
    {
     "name": "stderr",
     "output_type": "stream",
     "text": [
      "C:\\Temp\\ipykernel_1500\\2031691219.py:1: FutureWarning: The default dtype for empty Series will be 'object' instead of 'float64' in a future version. Specify a dtype explicitly to silence this warning.\n",
      "  pd.Series()\n"
     ]
    },
    {
     "data": {
      "text/plain": [
       "Series([], dtype: float64)"
      ]
     },
     "execution_count": 445,
     "metadata": {},
     "output_type": "execute_result"
    }
   ],
   "source": [
    "pd.Series()"
   ]
  },
  {
   "cell_type": "code",
   "execution_count": 446,
   "id": "8bb19721",
   "metadata": {},
   "outputs": [
    {
     "data": {
      "text/plain": [
       "0    1\n",
       "1    2\n",
       "2    3\n",
       "3    4\n",
       "dtype: int64"
      ]
     },
     "execution_count": 446,
     "metadata": {},
     "output_type": "execute_result"
    }
   ],
   "source": [
    "pd.Series([1,2,3,4])"
   ]
  },
  {
   "cell_type": "code",
   "execution_count": 447,
   "id": "2c59e7de",
   "metadata": {},
   "outputs": [],
   "source": [
    "#pd.Series([1,2,3,4], dtype=float64)"
   ]
  },
  {
   "cell_type": "code",
   "execution_count": 448,
   "id": "5a189044",
   "metadata": {},
   "outputs": [
    {
     "data": {
      "text/plain": [
       "0    1.0\n",
       "1    2.0\n",
       "2    3.0\n",
       "3    4.0\n",
       "dtype: float64"
      ]
     },
     "execution_count": 448,
     "metadata": {},
     "output_type": "execute_result"
    }
   ],
   "source": [
    "pd.Series([1,2,3,4], dtype=np.float64)  #정수형에서 실수형 데이터로 변환"
   ]
  },
  {
   "cell_type": "code",
   "execution_count": 449,
   "id": "b769977a",
   "metadata": {},
   "outputs": [
    {
     "data": {
      "text/plain": [
       "0    1\n",
       "1    2\n",
       "2    3\n",
       "3    4\n",
       "dtype: object"
      ]
     },
     "execution_count": 449,
     "metadata": {},
     "output_type": "execute_result"
    }
   ],
   "source": [
    "pd.Series([1,2,3,4], dtype=str)  #object는 문자열 데이터"
   ]
  },
  {
   "cell_type": "code",
   "execution_count": 450,
   "id": "dbd5e3ee",
   "metadata": {},
   "outputs": [
    {
     "data": {
      "text/plain": [
       "0    1\n",
       "1    2\n",
       "2    3\n",
       "dtype: int32"
      ]
     },
     "execution_count": 450,
     "metadata": {},
     "output_type": "execute_result"
    }
   ],
   "source": [
    "pd.Series(np.array([1,2,3]))"
   ]
  },
  {
   "cell_type": "code",
   "execution_count": 451,
   "id": "3c77dd31",
   "metadata": {},
   "outputs": [
    {
     "data": {
      "text/plain": [
       "Key    Value\n",
       "dtype: object"
      ]
     },
     "execution_count": 451,
     "metadata": {},
     "output_type": "execute_result"
    }
   ],
   "source": [
    "pd.Series({\"Key\": \"Value\"})"
   ]
  },
  {
   "cell_type": "code",
   "execution_count": 452,
   "id": "2cfb474d",
   "metadata": {},
   "outputs": [
    {
     "data": {
      "text/plain": [
       "0    1\n",
       "1    2\n",
       "2    3\n",
       "3    4\n",
       "4    5\n",
       "dtype: object"
      ]
     },
     "execution_count": 452,
     "metadata": {},
     "output_type": "execute_result"
    }
   ],
   "source": [
    "data = pd.Series([1,2,3,4,\"5\"])  #문자가 하나라도 들어가면 object(문자열)로 인식\n",
    "data"
   ]
  },
  {
   "cell_type": "code",
   "execution_count": 453,
   "id": "1696a283",
   "metadata": {},
   "outputs": [],
   "source": [
    "# 짝수 찾기\n",
    "#data % 2"
   ]
  },
  {
   "cell_type": "code",
   "execution_count": 454,
   "id": "11a3e598",
   "metadata": {},
   "outputs": [
    {
     "data": {
      "text/plain": [
       "0    1\n",
       "1    0\n",
       "2    1\n",
       "3    0\n",
       "dtype: int64"
      ]
     },
     "execution_count": 454,
     "metadata": {},
     "output_type": "execute_result"
    }
   ],
   "source": [
    "data = pd.Series([1,2,3,4])\n",
    "data % 2"
   ]
  },
  {
   "cell_type": "markdown",
   "id": "150e50dd",
   "metadata": {},
   "source": [
    "### 날짜 데이터"
   ]
  },
  {
   "cell_type": "code",
   "execution_count": 455,
   "id": "5dfc6870",
   "metadata": {},
   "outputs": [
    {
     "data": {
      "text/plain": [
       "DatetimeIndex(['2021-01-01', '2021-01-02', '2021-01-03', '2021-01-04',\n",
       "               '2021-01-05', '2021-01-06'],\n",
       "              dtype='datetime64[ns]', freq='D')"
      ]
     },
     "execution_count": 455,
     "metadata": {},
     "output_type": "execute_result"
    }
   ],
   "source": [
    "datas = pd.date_range(\"20210101\", periods=6)\n",
    "datas"
   ]
  },
  {
   "cell_type": "markdown",
   "id": "f239562b",
   "metadata": {},
   "source": [
    "### DataFrame\n",
    "- pd.Series()\n",
    "    - index, value\n",
    "- pd.DataFrame()\n",
    "    - index, value, column"
   ]
  },
  {
   "cell_type": "code",
   "execution_count": 456,
   "id": "a307c111",
   "metadata": {},
   "outputs": [
    {
     "data": {
      "text/plain": [
       "array([[-0.59992877, -0.72407602,  0.05869487, -1.26205851],\n",
       "       [-0.30644302, -0.02506914,  0.591461  , -0.42574351],\n",
       "       [-0.69188502, -1.98142832, -0.31926129, -0.11342277],\n",
       "       [ 1.43753908, -0.5684455 ,  1.38435526,  0.14722446],\n",
       "       [-0.33046473, -1.32337352,  0.6504599 ,  0.85339348],\n",
       "       [-1.17625489,  0.25956174,  1.28245526, -0.31363805]])"
      ]
     },
     "execution_count": 456,
     "metadata": {},
     "output_type": "execute_result"
    }
   ],
   "source": [
    "#표준정규분포에서 샘플링한 난수 생성\n",
    "data = np.random.randn(6,4)  #6행 4열, periods=6 맞춰줌\n",
    "data"
   ]
  },
  {
   "cell_type": "code",
   "execution_count": 457,
   "id": "9a82f973",
   "metadata": {},
   "outputs": [
    {
     "data": {
      "text/html": [
       "<div>\n",
       "<style scoped>\n",
       "    .dataframe tbody tr th:only-of-type {\n",
       "        vertical-align: middle;\n",
       "    }\n",
       "\n",
       "    .dataframe tbody tr th {\n",
       "        vertical-align: top;\n",
       "    }\n",
       "\n",
       "    .dataframe thead th {\n",
       "        text-align: right;\n",
       "    }\n",
       "</style>\n",
       "<table border=\"1\" class=\"dataframe\">\n",
       "  <thead>\n",
       "    <tr style=\"text-align: right;\">\n",
       "      <th></th>\n",
       "      <th>A</th>\n",
       "      <th>B</th>\n",
       "      <th>C</th>\n",
       "      <th>D</th>\n",
       "    </tr>\n",
       "  </thead>\n",
       "  <tbody>\n",
       "    <tr>\n",
       "      <th>2021-01-01</th>\n",
       "      <td>-0.599929</td>\n",
       "      <td>-0.724076</td>\n",
       "      <td>0.058695</td>\n",
       "      <td>-1.262059</td>\n",
       "    </tr>\n",
       "    <tr>\n",
       "      <th>2021-01-02</th>\n",
       "      <td>-0.306443</td>\n",
       "      <td>-0.025069</td>\n",
       "      <td>0.591461</td>\n",
       "      <td>-0.425744</td>\n",
       "    </tr>\n",
       "    <tr>\n",
       "      <th>2021-01-03</th>\n",
       "      <td>-0.691885</td>\n",
       "      <td>-1.981428</td>\n",
       "      <td>-0.319261</td>\n",
       "      <td>-0.113423</td>\n",
       "    </tr>\n",
       "    <tr>\n",
       "      <th>2021-01-04</th>\n",
       "      <td>1.437539</td>\n",
       "      <td>-0.568446</td>\n",
       "      <td>1.384355</td>\n",
       "      <td>0.147224</td>\n",
       "    </tr>\n",
       "    <tr>\n",
       "      <th>2021-01-05</th>\n",
       "      <td>-0.330465</td>\n",
       "      <td>-1.323374</td>\n",
       "      <td>0.650460</td>\n",
       "      <td>0.853393</td>\n",
       "    </tr>\n",
       "    <tr>\n",
       "      <th>2021-01-06</th>\n",
       "      <td>-1.176255</td>\n",
       "      <td>0.259562</td>\n",
       "      <td>1.282455</td>\n",
       "      <td>-0.313638</td>\n",
       "    </tr>\n",
       "  </tbody>\n",
       "</table>\n",
       "</div>"
      ],
      "text/plain": [
       "                   A         B         C         D\n",
       "2021-01-01 -0.599929 -0.724076  0.058695 -1.262059\n",
       "2021-01-02 -0.306443 -0.025069  0.591461 -0.425744\n",
       "2021-01-03 -0.691885 -1.981428 -0.319261 -0.113423\n",
       "2021-01-04  1.437539 -0.568446  1.384355  0.147224\n",
       "2021-01-05 -0.330465 -1.323374  0.650460  0.853393\n",
       "2021-01-06 -1.176255  0.259562  1.282455 -0.313638"
      ]
     },
     "execution_count": 457,
     "metadata": {},
     "output_type": "execute_result"
    }
   ],
   "source": [
    "df = pd.DataFrame(data, index=datas, columns=[\"A\",\"B\",\"C\",\"D\"])  #6행 열 DataFrame\n",
    "df"
   ]
  },
  {
   "cell_type": "markdown",
   "id": "0d75ba38",
   "metadata": {},
   "source": [
    "### 데이터 프레임 정보 탐색"
   ]
  },
  {
   "cell_type": "markdown",
   "id": "ddc750e1",
   "metadata": {},
   "source": [
    "- df.head()"
   ]
  },
  {
   "cell_type": "code",
   "execution_count": 458,
   "id": "10388abd",
   "metadata": {},
   "outputs": [
    {
     "data": {
      "text/html": [
       "<div>\n",
       "<style scoped>\n",
       "    .dataframe tbody tr th:only-of-type {\n",
       "        vertical-align: middle;\n",
       "    }\n",
       "\n",
       "    .dataframe tbody tr th {\n",
       "        vertical-align: top;\n",
       "    }\n",
       "\n",
       "    .dataframe thead th {\n",
       "        text-align: right;\n",
       "    }\n",
       "</style>\n",
       "<table border=\"1\" class=\"dataframe\">\n",
       "  <thead>\n",
       "    <tr style=\"text-align: right;\">\n",
       "      <th></th>\n",
       "      <th>A</th>\n",
       "      <th>B</th>\n",
       "      <th>C</th>\n",
       "      <th>D</th>\n",
       "    </tr>\n",
       "  </thead>\n",
       "  <tbody>\n",
       "    <tr>\n",
       "      <th>2021-01-01</th>\n",
       "      <td>-0.599929</td>\n",
       "      <td>-0.724076</td>\n",
       "      <td>0.058695</td>\n",
       "      <td>-1.262059</td>\n",
       "    </tr>\n",
       "    <tr>\n",
       "      <th>2021-01-02</th>\n",
       "      <td>-0.306443</td>\n",
       "      <td>-0.025069</td>\n",
       "      <td>0.591461</td>\n",
       "      <td>-0.425744</td>\n",
       "    </tr>\n",
       "    <tr>\n",
       "      <th>2021-01-03</th>\n",
       "      <td>-0.691885</td>\n",
       "      <td>-1.981428</td>\n",
       "      <td>-0.319261</td>\n",
       "      <td>-0.113423</td>\n",
       "    </tr>\n",
       "    <tr>\n",
       "      <th>2021-01-04</th>\n",
       "      <td>1.437539</td>\n",
       "      <td>-0.568446</td>\n",
       "      <td>1.384355</td>\n",
       "      <td>0.147224</td>\n",
       "    </tr>\n",
       "    <tr>\n",
       "      <th>2021-01-05</th>\n",
       "      <td>-0.330465</td>\n",
       "      <td>-1.323374</td>\n",
       "      <td>0.650460</td>\n",
       "      <td>0.853393</td>\n",
       "    </tr>\n",
       "  </tbody>\n",
       "</table>\n",
       "</div>"
      ],
      "text/plain": [
       "                   A         B         C         D\n",
       "2021-01-01 -0.599929 -0.724076  0.058695 -1.262059\n",
       "2021-01-02 -0.306443 -0.025069  0.591461 -0.425744\n",
       "2021-01-03 -0.691885 -1.981428 -0.319261 -0.113423\n",
       "2021-01-04  1.437539 -0.568446  1.384355  0.147224\n",
       "2021-01-05 -0.330465 -1.323374  0.650460  0.853393"
      ]
     },
     "execution_count": 458,
     "metadata": {},
     "output_type": "execute_result"
    }
   ],
   "source": [
    "df.head()"
   ]
  },
  {
   "cell_type": "markdown",
   "id": "70103b75",
   "metadata": {},
   "source": [
    "- df.tail()"
   ]
  },
  {
   "cell_type": "code",
   "execution_count": 459,
   "id": "cc9c3c4d",
   "metadata": {},
   "outputs": [
    {
     "data": {
      "text/html": [
       "<div>\n",
       "<style scoped>\n",
       "    .dataframe tbody tr th:only-of-type {\n",
       "        vertical-align: middle;\n",
       "    }\n",
       "\n",
       "    .dataframe tbody tr th {\n",
       "        vertical-align: top;\n",
       "    }\n",
       "\n",
       "    .dataframe thead th {\n",
       "        text-align: right;\n",
       "    }\n",
       "</style>\n",
       "<table border=\"1\" class=\"dataframe\">\n",
       "  <thead>\n",
       "    <tr style=\"text-align: right;\">\n",
       "      <th></th>\n",
       "      <th>A</th>\n",
       "      <th>B</th>\n",
       "      <th>C</th>\n",
       "      <th>D</th>\n",
       "    </tr>\n",
       "  </thead>\n",
       "  <tbody>\n",
       "    <tr>\n",
       "      <th>2021-01-02</th>\n",
       "      <td>-0.306443</td>\n",
       "      <td>-0.025069</td>\n",
       "      <td>0.591461</td>\n",
       "      <td>-0.425744</td>\n",
       "    </tr>\n",
       "    <tr>\n",
       "      <th>2021-01-03</th>\n",
       "      <td>-0.691885</td>\n",
       "      <td>-1.981428</td>\n",
       "      <td>-0.319261</td>\n",
       "      <td>-0.113423</td>\n",
       "    </tr>\n",
       "    <tr>\n",
       "      <th>2021-01-04</th>\n",
       "      <td>1.437539</td>\n",
       "      <td>-0.568446</td>\n",
       "      <td>1.384355</td>\n",
       "      <td>0.147224</td>\n",
       "    </tr>\n",
       "    <tr>\n",
       "      <th>2021-01-05</th>\n",
       "      <td>-0.330465</td>\n",
       "      <td>-1.323374</td>\n",
       "      <td>0.650460</td>\n",
       "      <td>0.853393</td>\n",
       "    </tr>\n",
       "    <tr>\n",
       "      <th>2021-01-06</th>\n",
       "      <td>-1.176255</td>\n",
       "      <td>0.259562</td>\n",
       "      <td>1.282455</td>\n",
       "      <td>-0.313638</td>\n",
       "    </tr>\n",
       "  </tbody>\n",
       "</table>\n",
       "</div>"
      ],
      "text/plain": [
       "                   A         B         C         D\n",
       "2021-01-02 -0.306443 -0.025069  0.591461 -0.425744\n",
       "2021-01-03 -0.691885 -1.981428 -0.319261 -0.113423\n",
       "2021-01-04  1.437539 -0.568446  1.384355  0.147224\n",
       "2021-01-05 -0.330465 -1.323374  0.650460  0.853393\n",
       "2021-01-06 -1.176255  0.259562  1.282455 -0.313638"
      ]
     },
     "execution_count": 459,
     "metadata": {},
     "output_type": "execute_result"
    }
   ],
   "source": [
    "df.tail()"
   ]
  },
  {
   "cell_type": "markdown",
   "id": "67cb4ec6",
   "metadata": {},
   "source": [
    "- df.index"
   ]
  },
  {
   "cell_type": "code",
   "execution_count": 460,
   "id": "6474d80e",
   "metadata": {},
   "outputs": [
    {
     "data": {
      "text/plain": [
       "DatetimeIndex(['2021-01-01', '2021-01-02', '2021-01-03', '2021-01-04',\n",
       "               '2021-01-05', '2021-01-06'],\n",
       "              dtype='datetime64[ns]', freq='D')"
      ]
     },
     "execution_count": 460,
     "metadata": {},
     "output_type": "execute_result"
    }
   ],
   "source": [
    "df.index    #리스트형태로 index값들 반환"
   ]
  },
  {
   "cell_type": "code",
   "execution_count": 461,
   "id": "cf9d47c1",
   "metadata": {},
   "outputs": [
    {
     "data": {
      "text/plain": [
       "Index(['A', 'B', 'C', 'D'], dtype='object')"
      ]
     },
     "execution_count": 461,
     "metadata": {},
     "output_type": "execute_result"
    }
   ],
   "source": [
    "df.columns"
   ]
  },
  {
   "cell_type": "code",
   "execution_count": 462,
   "id": "9b7a7c4e",
   "metadata": {},
   "outputs": [
    {
     "data": {
      "text/plain": [
       "array([[-0.59992877, -0.72407602,  0.05869487, -1.26205851],\n",
       "       [-0.30644302, -0.02506914,  0.591461  , -0.42574351],\n",
       "       [-0.69188502, -1.98142832, -0.31926129, -0.11342277],\n",
       "       [ 1.43753908, -0.5684455 ,  1.38435526,  0.14722446],\n",
       "       [-0.33046473, -1.32337352,  0.6504599 ,  0.85339348],\n",
       "       [-1.17625489,  0.25956174,  1.28245526, -0.31363805]])"
      ]
     },
     "execution_count": 462,
     "metadata": {},
     "output_type": "execute_result"
    }
   ],
   "source": [
    "df.values"
   ]
  },
  {
   "cell_type": "markdown",
   "id": "2eef13a5",
   "metadata": {},
   "source": [
    "- df.info(): 데이터 프레임의 기본 정보 확인"
   ]
  },
  {
   "cell_type": "code",
   "execution_count": 463,
   "id": "18b70b3b",
   "metadata": {},
   "outputs": [
    {
     "name": "stdout",
     "output_type": "stream",
     "text": [
      "<class 'pandas.core.frame.DataFrame'>\n",
      "DatetimeIndex: 6 entries, 2021-01-01 to 2021-01-06\n",
      "Freq: D\n",
      "Data columns (total 4 columns):\n",
      " #   Column  Non-Null Count  Dtype  \n",
      "---  ------  --------------  -----  \n",
      " 0   A       6 non-null      float64\n",
      " 1   B       6 non-null      float64\n",
      " 2   C       6 non-null      float64\n",
      " 3   D       6 non-null      float64\n",
      "dtypes: float64(4)\n",
      "memory usage: 240.0 bytes\n"
     ]
    }
   ],
   "source": [
    "df.info()"
   ]
  },
  {
   "cell_type": "markdown",
   "id": "04c6f087",
   "metadata": {},
   "source": [
    "- df.describe(): 데이터 프레임의 기술통계 정보 확인"
   ]
  },
  {
   "cell_type": "code",
   "execution_count": 464,
   "id": "32200eb7",
   "metadata": {},
   "outputs": [
    {
     "data": {
      "text/html": [
       "<div>\n",
       "<style scoped>\n",
       "    .dataframe tbody tr th:only-of-type {\n",
       "        vertical-align: middle;\n",
       "    }\n",
       "\n",
       "    .dataframe tbody tr th {\n",
       "        vertical-align: top;\n",
       "    }\n",
       "\n",
       "    .dataframe thead th {\n",
       "        text-align: right;\n",
       "    }\n",
       "</style>\n",
       "<table border=\"1\" class=\"dataframe\">\n",
       "  <thead>\n",
       "    <tr style=\"text-align: right;\">\n",
       "      <th></th>\n",
       "      <th>A</th>\n",
       "      <th>B</th>\n",
       "      <th>C</th>\n",
       "      <th>D</th>\n",
       "    </tr>\n",
       "  </thead>\n",
       "  <tbody>\n",
       "    <tr>\n",
       "      <th>count</th>\n",
       "      <td>6.000000</td>\n",
       "      <td>6.000000</td>\n",
       "      <td>6.000000</td>\n",
       "      <td>6.000000</td>\n",
       "    </tr>\n",
       "    <tr>\n",
       "      <th>mean</th>\n",
       "      <td>-0.277906</td>\n",
       "      <td>-0.727138</td>\n",
       "      <td>0.608027</td>\n",
       "      <td>-0.185707</td>\n",
       "    </tr>\n",
       "    <tr>\n",
       "      <th>std</th>\n",
       "      <td>0.897601</td>\n",
       "      <td>0.827093</td>\n",
       "      <td>0.666520</td>\n",
       "      <td>0.696895</td>\n",
       "    </tr>\n",
       "    <tr>\n",
       "      <th>min</th>\n",
       "      <td>-1.176255</td>\n",
       "      <td>-1.981428</td>\n",
       "      <td>-0.319261</td>\n",
       "      <td>-1.262059</td>\n",
       "    </tr>\n",
       "    <tr>\n",
       "      <th>25%</th>\n",
       "      <td>-0.668896</td>\n",
       "      <td>-1.173549</td>\n",
       "      <td>0.191886</td>\n",
       "      <td>-0.397717</td>\n",
       "    </tr>\n",
       "    <tr>\n",
       "      <th>50%</th>\n",
       "      <td>-0.465197</td>\n",
       "      <td>-0.646261</td>\n",
       "      <td>0.620960</td>\n",
       "      <td>-0.213530</td>\n",
       "    </tr>\n",
       "    <tr>\n",
       "      <th>75%</th>\n",
       "      <td>-0.312448</td>\n",
       "      <td>-0.160913</td>\n",
       "      <td>1.124456</td>\n",
       "      <td>0.082063</td>\n",
       "    </tr>\n",
       "    <tr>\n",
       "      <th>max</th>\n",
       "      <td>1.437539</td>\n",
       "      <td>0.259562</td>\n",
       "      <td>1.384355</td>\n",
       "      <td>0.853393</td>\n",
       "    </tr>\n",
       "  </tbody>\n",
       "</table>\n",
       "</div>"
      ],
      "text/plain": [
       "              A         B         C         D\n",
       "count  6.000000  6.000000  6.000000  6.000000\n",
       "mean  -0.277906 -0.727138  0.608027 -0.185707\n",
       "std    0.897601  0.827093  0.666520  0.696895\n",
       "min   -1.176255 -1.981428 -0.319261 -1.262059\n",
       "25%   -0.668896 -1.173549  0.191886 -0.397717\n",
       "50%   -0.465197 -0.646261  0.620960 -0.213530\n",
       "75%   -0.312448 -0.160913  1.124456  0.082063\n",
       "max    1.437539  0.259562  1.384355  0.853393"
      ]
     },
     "execution_count": 464,
     "metadata": {},
     "output_type": "execute_result"
    }
   ],
   "source": [
    "df.describe()"
   ]
  },
  {
   "cell_type": "markdown",
   "id": "f2cc1489",
   "metadata": {},
   "source": [
    "### 데이터 정렬\n",
    "- sort_values()"
   ]
  },
  {
   "cell_type": "code",
   "execution_count": 465,
   "id": "e842b6dd",
   "metadata": {},
   "outputs": [
    {
     "data": {
      "text/html": [
       "<div>\n",
       "<style scoped>\n",
       "    .dataframe tbody tr th:only-of-type {\n",
       "        vertical-align: middle;\n",
       "    }\n",
       "\n",
       "    .dataframe tbody tr th {\n",
       "        vertical-align: top;\n",
       "    }\n",
       "\n",
       "    .dataframe thead th {\n",
       "        text-align: right;\n",
       "    }\n",
       "</style>\n",
       "<table border=\"1\" class=\"dataframe\">\n",
       "  <thead>\n",
       "    <tr style=\"text-align: right;\">\n",
       "      <th></th>\n",
       "      <th>A</th>\n",
       "      <th>B</th>\n",
       "      <th>C</th>\n",
       "      <th>D</th>\n",
       "    </tr>\n",
       "  </thead>\n",
       "  <tbody>\n",
       "    <tr>\n",
       "      <th>2021-01-01</th>\n",
       "      <td>-0.599929</td>\n",
       "      <td>-0.724076</td>\n",
       "      <td>0.058695</td>\n",
       "      <td>-1.262059</td>\n",
       "    </tr>\n",
       "    <tr>\n",
       "      <th>2021-01-02</th>\n",
       "      <td>-0.306443</td>\n",
       "      <td>-0.025069</td>\n",
       "      <td>0.591461</td>\n",
       "      <td>-0.425744</td>\n",
       "    </tr>\n",
       "    <tr>\n",
       "      <th>2021-01-03</th>\n",
       "      <td>-0.691885</td>\n",
       "      <td>-1.981428</td>\n",
       "      <td>-0.319261</td>\n",
       "      <td>-0.113423</td>\n",
       "    </tr>\n",
       "    <tr>\n",
       "      <th>2021-01-04</th>\n",
       "      <td>1.437539</td>\n",
       "      <td>-0.568446</td>\n",
       "      <td>1.384355</td>\n",
       "      <td>0.147224</td>\n",
       "    </tr>\n",
       "    <tr>\n",
       "      <th>2021-01-05</th>\n",
       "      <td>-0.330465</td>\n",
       "      <td>-1.323374</td>\n",
       "      <td>0.650460</td>\n",
       "      <td>0.853393</td>\n",
       "    </tr>\n",
       "    <tr>\n",
       "      <th>2021-01-06</th>\n",
       "      <td>-1.176255</td>\n",
       "      <td>0.259562</td>\n",
       "      <td>1.282455</td>\n",
       "      <td>-0.313638</td>\n",
       "    </tr>\n",
       "  </tbody>\n",
       "</table>\n",
       "</div>"
      ],
      "text/plain": [
       "                   A         B         C         D\n",
       "2021-01-01 -0.599929 -0.724076  0.058695 -1.262059\n",
       "2021-01-02 -0.306443 -0.025069  0.591461 -0.425744\n",
       "2021-01-03 -0.691885 -1.981428 -0.319261 -0.113423\n",
       "2021-01-04  1.437539 -0.568446  1.384355  0.147224\n",
       "2021-01-05 -0.330465 -1.323374  0.650460  0.853393\n",
       "2021-01-06 -1.176255  0.259562  1.282455 -0.313638"
      ]
     },
     "execution_count": 465,
     "metadata": {},
     "output_type": "execute_result"
    }
   ],
   "source": [
    "df"
   ]
  },
  {
   "cell_type": "code",
   "execution_count": 466,
   "id": "9adfe37d",
   "metadata": {},
   "outputs": [
    {
     "data": {
      "text/html": [
       "<div>\n",
       "<style scoped>\n",
       "    .dataframe tbody tr th:only-of-type {\n",
       "        vertical-align: middle;\n",
       "    }\n",
       "\n",
       "    .dataframe tbody tr th {\n",
       "        vertical-align: top;\n",
       "    }\n",
       "\n",
       "    .dataframe thead th {\n",
       "        text-align: right;\n",
       "    }\n",
       "</style>\n",
       "<table border=\"1\" class=\"dataframe\">\n",
       "  <thead>\n",
       "    <tr style=\"text-align: right;\">\n",
       "      <th></th>\n",
       "      <th>A</th>\n",
       "      <th>B</th>\n",
       "      <th>C</th>\n",
       "      <th>D</th>\n",
       "    </tr>\n",
       "  </thead>\n",
       "  <tbody>\n",
       "    <tr>\n",
       "      <th>2021-01-03</th>\n",
       "      <td>-0.691885</td>\n",
       "      <td>-1.981428</td>\n",
       "      <td>-0.319261</td>\n",
       "      <td>-0.113423</td>\n",
       "    </tr>\n",
       "    <tr>\n",
       "      <th>2021-01-05</th>\n",
       "      <td>-0.330465</td>\n",
       "      <td>-1.323374</td>\n",
       "      <td>0.650460</td>\n",
       "      <td>0.853393</td>\n",
       "    </tr>\n",
       "    <tr>\n",
       "      <th>2021-01-01</th>\n",
       "      <td>-0.599929</td>\n",
       "      <td>-0.724076</td>\n",
       "      <td>0.058695</td>\n",
       "      <td>-1.262059</td>\n",
       "    </tr>\n",
       "    <tr>\n",
       "      <th>2021-01-04</th>\n",
       "      <td>1.437539</td>\n",
       "      <td>-0.568446</td>\n",
       "      <td>1.384355</td>\n",
       "      <td>0.147224</td>\n",
       "    </tr>\n",
       "    <tr>\n",
       "      <th>2021-01-02</th>\n",
       "      <td>-0.306443</td>\n",
       "      <td>-0.025069</td>\n",
       "      <td>0.591461</td>\n",
       "      <td>-0.425744</td>\n",
       "    </tr>\n",
       "    <tr>\n",
       "      <th>2021-01-06</th>\n",
       "      <td>-1.176255</td>\n",
       "      <td>0.259562</td>\n",
       "      <td>1.282455</td>\n",
       "      <td>-0.313638</td>\n",
       "    </tr>\n",
       "  </tbody>\n",
       "</table>\n",
       "</div>"
      ],
      "text/plain": [
       "                   A         B         C         D\n",
       "2021-01-03 -0.691885 -1.981428 -0.319261 -0.113423\n",
       "2021-01-05 -0.330465 -1.323374  0.650460  0.853393\n",
       "2021-01-01 -0.599929 -0.724076  0.058695 -1.262059\n",
       "2021-01-04  1.437539 -0.568446  1.384355  0.147224\n",
       "2021-01-02 -0.306443 -0.025069  0.591461 -0.425744\n",
       "2021-01-06 -1.176255  0.259562  1.282455 -0.313638"
      ]
     },
     "execution_count": 466,
     "metadata": {},
     "output_type": "execute_result"
    }
   ],
   "source": [
    "df.sort_values(by=\"B\")  #오름차순 정렬"
   ]
  },
  {
   "cell_type": "code",
   "execution_count": 467,
   "id": "98fa1b44",
   "metadata": {},
   "outputs": [],
   "source": [
    "df.sort_values(by=\"B\", ascending=False, inplace=True)  #내림차순 정렬 inplace=True로 업데이트"
   ]
  },
  {
   "cell_type": "code",
   "execution_count": 468,
   "id": "bd49a493",
   "metadata": {},
   "outputs": [
    {
     "data": {
      "text/html": [
       "<div>\n",
       "<style scoped>\n",
       "    .dataframe tbody tr th:only-of-type {\n",
       "        vertical-align: middle;\n",
       "    }\n",
       "\n",
       "    .dataframe tbody tr th {\n",
       "        vertical-align: top;\n",
       "    }\n",
       "\n",
       "    .dataframe thead th {\n",
       "        text-align: right;\n",
       "    }\n",
       "</style>\n",
       "<table border=\"1\" class=\"dataframe\">\n",
       "  <thead>\n",
       "    <tr style=\"text-align: right;\">\n",
       "      <th></th>\n",
       "      <th>A</th>\n",
       "      <th>B</th>\n",
       "      <th>C</th>\n",
       "      <th>D</th>\n",
       "    </tr>\n",
       "  </thead>\n",
       "  <tbody>\n",
       "    <tr>\n",
       "      <th>2021-01-06</th>\n",
       "      <td>-1.176255</td>\n",
       "      <td>0.259562</td>\n",
       "      <td>1.282455</td>\n",
       "      <td>-0.313638</td>\n",
       "    </tr>\n",
       "    <tr>\n",
       "      <th>2021-01-02</th>\n",
       "      <td>-0.306443</td>\n",
       "      <td>-0.025069</td>\n",
       "      <td>0.591461</td>\n",
       "      <td>-0.425744</td>\n",
       "    </tr>\n",
       "    <tr>\n",
       "      <th>2021-01-04</th>\n",
       "      <td>1.437539</td>\n",
       "      <td>-0.568446</td>\n",
       "      <td>1.384355</td>\n",
       "      <td>0.147224</td>\n",
       "    </tr>\n",
       "    <tr>\n",
       "      <th>2021-01-01</th>\n",
       "      <td>-0.599929</td>\n",
       "      <td>-0.724076</td>\n",
       "      <td>0.058695</td>\n",
       "      <td>-1.262059</td>\n",
       "    </tr>\n",
       "    <tr>\n",
       "      <th>2021-01-05</th>\n",
       "      <td>-0.330465</td>\n",
       "      <td>-1.323374</td>\n",
       "      <td>0.650460</td>\n",
       "      <td>0.853393</td>\n",
       "    </tr>\n",
       "    <tr>\n",
       "      <th>2021-01-03</th>\n",
       "      <td>-0.691885</td>\n",
       "      <td>-1.981428</td>\n",
       "      <td>-0.319261</td>\n",
       "      <td>-0.113423</td>\n",
       "    </tr>\n",
       "  </tbody>\n",
       "</table>\n",
       "</div>"
      ],
      "text/plain": [
       "                   A         B         C         D\n",
       "2021-01-06 -1.176255  0.259562  1.282455 -0.313638\n",
       "2021-01-02 -0.306443 -0.025069  0.591461 -0.425744\n",
       "2021-01-04  1.437539 -0.568446  1.384355  0.147224\n",
       "2021-01-01 -0.599929 -0.724076  0.058695 -1.262059\n",
       "2021-01-05 -0.330465 -1.323374  0.650460  0.853393\n",
       "2021-01-03 -0.691885 -1.981428 -0.319261 -0.113423"
      ]
     },
     "execution_count": 468,
     "metadata": {},
     "output_type": "execute_result"
    }
   ],
   "source": [
    "df"
   ]
  },
  {
   "cell_type": "markdown",
   "id": "a05056e6",
   "metadata": {},
   "source": [
    "### 데이터 선택"
   ]
  },
  {
   "cell_type": "code",
   "execution_count": 469,
   "id": "74df6550",
   "metadata": {},
   "outputs": [
    {
     "data": {
      "text/html": [
       "<div>\n",
       "<style scoped>\n",
       "    .dataframe tbody tr th:only-of-type {\n",
       "        vertical-align: middle;\n",
       "    }\n",
       "\n",
       "    .dataframe tbody tr th {\n",
       "        vertical-align: top;\n",
       "    }\n",
       "\n",
       "    .dataframe thead th {\n",
       "        text-align: right;\n",
       "    }\n",
       "</style>\n",
       "<table border=\"1\" class=\"dataframe\">\n",
       "  <thead>\n",
       "    <tr style=\"text-align: right;\">\n",
       "      <th></th>\n",
       "      <th>A</th>\n",
       "      <th>B</th>\n",
       "      <th>C</th>\n",
       "      <th>D</th>\n",
       "    </tr>\n",
       "  </thead>\n",
       "  <tbody>\n",
       "    <tr>\n",
       "      <th>2021-01-06</th>\n",
       "      <td>-1.176255</td>\n",
       "      <td>0.259562</td>\n",
       "      <td>1.282455</td>\n",
       "      <td>-0.313638</td>\n",
       "    </tr>\n",
       "    <tr>\n",
       "      <th>2021-01-02</th>\n",
       "      <td>-0.306443</td>\n",
       "      <td>-0.025069</td>\n",
       "      <td>0.591461</td>\n",
       "      <td>-0.425744</td>\n",
       "    </tr>\n",
       "    <tr>\n",
       "      <th>2021-01-04</th>\n",
       "      <td>1.437539</td>\n",
       "      <td>-0.568446</td>\n",
       "      <td>1.384355</td>\n",
       "      <td>0.147224</td>\n",
       "    </tr>\n",
       "    <tr>\n",
       "      <th>2021-01-01</th>\n",
       "      <td>-0.599929</td>\n",
       "      <td>-0.724076</td>\n",
       "      <td>0.058695</td>\n",
       "      <td>-1.262059</td>\n",
       "    </tr>\n",
       "    <tr>\n",
       "      <th>2021-01-05</th>\n",
       "      <td>-0.330465</td>\n",
       "      <td>-1.323374</td>\n",
       "      <td>0.650460</td>\n",
       "      <td>0.853393</td>\n",
       "    </tr>\n",
       "    <tr>\n",
       "      <th>2021-01-03</th>\n",
       "      <td>-0.691885</td>\n",
       "      <td>-1.981428</td>\n",
       "      <td>-0.319261</td>\n",
       "      <td>-0.113423</td>\n",
       "    </tr>\n",
       "  </tbody>\n",
       "</table>\n",
       "</div>"
      ],
      "text/plain": [
       "                   A         B         C         D\n",
       "2021-01-06 -1.176255  0.259562  1.282455 -0.313638\n",
       "2021-01-02 -0.306443 -0.025069  0.591461 -0.425744\n",
       "2021-01-04  1.437539 -0.568446  1.384355  0.147224\n",
       "2021-01-01 -0.599929 -0.724076  0.058695 -1.262059\n",
       "2021-01-05 -0.330465 -1.323374  0.650460  0.853393\n",
       "2021-01-03 -0.691885 -1.981428 -0.319261 -0.113423"
      ]
     },
     "execution_count": 469,
     "metadata": {},
     "output_type": "execute_result"
    }
   ],
   "source": [
    "df"
   ]
  },
  {
   "cell_type": "code",
   "execution_count": 470,
   "id": "47a0824b",
   "metadata": {},
   "outputs": [
    {
     "data": {
      "text/plain": [
       "2021-01-06   -1.176255\n",
       "2021-01-02   -0.306443\n",
       "2021-01-04    1.437539\n",
       "2021-01-01   -0.599929\n",
       "2021-01-05   -0.330465\n",
       "2021-01-03   -0.691885\n",
       "Name: A, dtype: float64"
      ]
     },
     "execution_count": 470,
     "metadata": {},
     "output_type": "execute_result"
    }
   ],
   "source": [
    "# 한 개 컬럼 선택\n",
    "df[\"A\"]"
   ]
  },
  {
   "cell_type": "code",
   "execution_count": 471,
   "id": "47949148",
   "metadata": {},
   "outputs": [
    {
     "data": {
      "text/plain": [
       "pandas.core.series.Series"
      ]
     },
     "execution_count": 471,
     "metadata": {},
     "output_type": "execute_result"
    }
   ],
   "source": [
    "type(df[\"A\"])"
   ]
  },
  {
   "cell_type": "code",
   "execution_count": 472,
   "id": "0566799e",
   "metadata": {},
   "outputs": [
    {
     "data": {
      "text/plain": [
       "2021-01-06   -1.176255\n",
       "2021-01-02   -0.306443\n",
       "2021-01-04    1.437539\n",
       "2021-01-01   -0.599929\n",
       "2021-01-05   -0.330465\n",
       "2021-01-03   -0.691885\n",
       "Name: A, dtype: float64"
      ]
     },
     "execution_count": 472,
     "metadata": {},
     "output_type": "execute_result"
    }
   ],
   "source": [
    "df.A   #컬럼이 알파벳인 경우 []없이 가능"
   ]
  },
  {
   "cell_type": "code",
   "execution_count": 473,
   "id": "9fb08e93",
   "metadata": {},
   "outputs": [
    {
     "data": {
      "text/html": [
       "<div>\n",
       "<style scoped>\n",
       "    .dataframe tbody tr th:only-of-type {\n",
       "        vertical-align: middle;\n",
       "    }\n",
       "\n",
       "    .dataframe tbody tr th {\n",
       "        vertical-align: top;\n",
       "    }\n",
       "\n",
       "    .dataframe thead th {\n",
       "        text-align: right;\n",
       "    }\n",
       "</style>\n",
       "<table border=\"1\" class=\"dataframe\">\n",
       "  <thead>\n",
       "    <tr style=\"text-align: right;\">\n",
       "      <th></th>\n",
       "      <th>A</th>\n",
       "      <th>B</th>\n",
       "      <th>C</th>\n",
       "      <th>D</th>\n",
       "    </tr>\n",
       "  </thead>\n",
       "  <tbody>\n",
       "    <tr>\n",
       "      <th>2021-01-01</th>\n",
       "      <td>-0.599929</td>\n",
       "      <td>-0.724076</td>\n",
       "      <td>0.058695</td>\n",
       "      <td>-1.262059</td>\n",
       "    </tr>\n",
       "    <tr>\n",
       "      <th>2021-01-02</th>\n",
       "      <td>-0.306443</td>\n",
       "      <td>-0.025069</td>\n",
       "      <td>0.591461</td>\n",
       "      <td>-0.425744</td>\n",
       "    </tr>\n",
       "    <tr>\n",
       "      <th>2021-01-03</th>\n",
       "      <td>-0.691885</td>\n",
       "      <td>-1.981428</td>\n",
       "      <td>-0.319261</td>\n",
       "      <td>-0.113423</td>\n",
       "    </tr>\n",
       "    <tr>\n",
       "      <th>2021-01-04</th>\n",
       "      <td>1.437539</td>\n",
       "      <td>-0.568446</td>\n",
       "      <td>1.384355</td>\n",
       "      <td>0.147224</td>\n",
       "    </tr>\n",
       "    <tr>\n",
       "      <th>2021-01-05</th>\n",
       "      <td>-0.330465</td>\n",
       "      <td>-1.323374</td>\n",
       "      <td>0.650460</td>\n",
       "      <td>0.853393</td>\n",
       "    </tr>\n",
       "    <tr>\n",
       "      <th>2021-01-06</th>\n",
       "      <td>-1.176255</td>\n",
       "      <td>0.259562</td>\n",
       "      <td>1.282455</td>\n",
       "      <td>-0.313638</td>\n",
       "    </tr>\n",
       "  </tbody>\n",
       "</table>\n",
       "</div>"
      ],
      "text/plain": [
       "                   A         B         C         D\n",
       "2021-01-01 -0.599929 -0.724076  0.058695 -1.262059\n",
       "2021-01-02 -0.306443 -0.025069  0.591461 -0.425744\n",
       "2021-01-03 -0.691885 -1.981428 -0.319261 -0.113423\n",
       "2021-01-04  1.437539 -0.568446  1.384355  0.147224\n",
       "2021-01-05 -0.330465 -1.323374  0.650460  0.853393\n",
       "2021-01-06 -1.176255  0.259562  1.282455 -0.313638"
      ]
     },
     "execution_count": 473,
     "metadata": {},
     "output_type": "execute_result"
    }
   ],
   "source": [
    "df = pd.DataFrame(data, index=datas, columns=[\"A\",\"B\",\"C\", \"D\"])  #6행 열 DataFrame\n",
    "df"
   ]
  },
  {
   "cell_type": "code",
   "execution_count": 474,
   "id": "0e8fffb0",
   "metadata": {},
   "outputs": [
    {
     "data": {
      "text/plain": [
       "2021-01-01   -1.262059\n",
       "2021-01-02   -0.425744\n",
       "2021-01-03   -0.113423\n",
       "2021-01-04    0.147224\n",
       "2021-01-05    0.853393\n",
       "2021-01-06   -0.313638\n",
       "Freq: D, Name: D, dtype: float64"
      ]
     },
     "execution_count": 474,
     "metadata": {},
     "output_type": "execute_result"
    }
   ],
   "source": [
    "df.D"
   ]
  },
  {
   "cell_type": "code",
   "execution_count": 475,
   "id": "8dcd4484",
   "metadata": {},
   "outputs": [
    {
     "data": {
      "text/html": [
       "<div>\n",
       "<style scoped>\n",
       "    .dataframe tbody tr th:only-of-type {\n",
       "        vertical-align: middle;\n",
       "    }\n",
       "\n",
       "    .dataframe tbody tr th {\n",
       "        vertical-align: top;\n",
       "    }\n",
       "\n",
       "    .dataframe thead th {\n",
       "        text-align: right;\n",
       "    }\n",
       "</style>\n",
       "<table border=\"1\" class=\"dataframe\">\n",
       "  <thead>\n",
       "    <tr style=\"text-align: right;\">\n",
       "      <th></th>\n",
       "      <th>A</th>\n",
       "      <th>B</th>\n",
       "    </tr>\n",
       "  </thead>\n",
       "  <tbody>\n",
       "    <tr>\n",
       "      <th>2021-01-01</th>\n",
       "      <td>-0.599929</td>\n",
       "      <td>-0.724076</td>\n",
       "    </tr>\n",
       "    <tr>\n",
       "      <th>2021-01-02</th>\n",
       "      <td>-0.306443</td>\n",
       "      <td>-0.025069</td>\n",
       "    </tr>\n",
       "    <tr>\n",
       "      <th>2021-01-03</th>\n",
       "      <td>-0.691885</td>\n",
       "      <td>-1.981428</td>\n",
       "    </tr>\n",
       "    <tr>\n",
       "      <th>2021-01-04</th>\n",
       "      <td>1.437539</td>\n",
       "      <td>-0.568446</td>\n",
       "    </tr>\n",
       "    <tr>\n",
       "      <th>2021-01-05</th>\n",
       "      <td>-0.330465</td>\n",
       "      <td>-1.323374</td>\n",
       "    </tr>\n",
       "    <tr>\n",
       "      <th>2021-01-06</th>\n",
       "      <td>-1.176255</td>\n",
       "      <td>0.259562</td>\n",
       "    </tr>\n",
       "  </tbody>\n",
       "</table>\n",
       "</div>"
      ],
      "text/plain": [
       "                   A         B\n",
       "2021-01-01 -0.599929 -0.724076\n",
       "2021-01-02 -0.306443 -0.025069\n",
       "2021-01-03 -0.691885 -1.981428\n",
       "2021-01-04  1.437539 -0.568446\n",
       "2021-01-05 -0.330465 -1.323374\n",
       "2021-01-06 -1.176255  0.259562"
      ]
     },
     "execution_count": 475,
     "metadata": {},
     "output_type": "execute_result"
    }
   ],
   "source": [
    "# 두 개 이상 컬럼 선택\n",
    "df[[\"A\",\"B\"]]   #[\"A\",\"B\"]리스트 안에 담아준다"
   ]
  },
  {
   "cell_type": "markdown",
   "id": "4946040f",
   "metadata": {},
   "source": [
    "### offset index\n",
    "- [n:m] : n부터 m-1 까지 \n",
    "- 인덱스나 컬럼의 이름으로 slice 하는 경우는 끝을 포함한다."
   ]
  },
  {
   "cell_type": "code",
   "execution_count": 476,
   "id": "c9732fb0",
   "metadata": {},
   "outputs": [
    {
     "data": {
      "text/html": [
       "<div>\n",
       "<style scoped>\n",
       "    .dataframe tbody tr th:only-of-type {\n",
       "        vertical-align: middle;\n",
       "    }\n",
       "\n",
       "    .dataframe tbody tr th {\n",
       "        vertical-align: top;\n",
       "    }\n",
       "\n",
       "    .dataframe thead th {\n",
       "        text-align: right;\n",
       "    }\n",
       "</style>\n",
       "<table border=\"1\" class=\"dataframe\">\n",
       "  <thead>\n",
       "    <tr style=\"text-align: right;\">\n",
       "      <th></th>\n",
       "      <th>A</th>\n",
       "      <th>B</th>\n",
       "      <th>C</th>\n",
       "      <th>D</th>\n",
       "    </tr>\n",
       "  </thead>\n",
       "  <tbody>\n",
       "    <tr>\n",
       "      <th>2021-01-01</th>\n",
       "      <td>-0.599929</td>\n",
       "      <td>-0.724076</td>\n",
       "      <td>0.058695</td>\n",
       "      <td>-1.262059</td>\n",
       "    </tr>\n",
       "    <tr>\n",
       "      <th>2021-01-02</th>\n",
       "      <td>-0.306443</td>\n",
       "      <td>-0.025069</td>\n",
       "      <td>0.591461</td>\n",
       "      <td>-0.425744</td>\n",
       "    </tr>\n",
       "    <tr>\n",
       "      <th>2021-01-03</th>\n",
       "      <td>-0.691885</td>\n",
       "      <td>-1.981428</td>\n",
       "      <td>-0.319261</td>\n",
       "      <td>-0.113423</td>\n",
       "    </tr>\n",
       "    <tr>\n",
       "      <th>2021-01-04</th>\n",
       "      <td>1.437539</td>\n",
       "      <td>-0.568446</td>\n",
       "      <td>1.384355</td>\n",
       "      <td>0.147224</td>\n",
       "    </tr>\n",
       "    <tr>\n",
       "      <th>2021-01-05</th>\n",
       "      <td>-0.330465</td>\n",
       "      <td>-1.323374</td>\n",
       "      <td>0.650460</td>\n",
       "      <td>0.853393</td>\n",
       "    </tr>\n",
       "    <tr>\n",
       "      <th>2021-01-06</th>\n",
       "      <td>-1.176255</td>\n",
       "      <td>0.259562</td>\n",
       "      <td>1.282455</td>\n",
       "      <td>-0.313638</td>\n",
       "    </tr>\n",
       "  </tbody>\n",
       "</table>\n",
       "</div>"
      ],
      "text/plain": [
       "                   A         B         C         D\n",
       "2021-01-01 -0.599929 -0.724076  0.058695 -1.262059\n",
       "2021-01-02 -0.306443 -0.025069  0.591461 -0.425744\n",
       "2021-01-03 -0.691885 -1.981428 -0.319261 -0.113423\n",
       "2021-01-04  1.437539 -0.568446  1.384355  0.147224\n",
       "2021-01-05 -0.330465 -1.323374  0.650460  0.853393\n",
       "2021-01-06 -1.176255  0.259562  1.282455 -0.313638"
      ]
     },
     "execution_count": 476,
     "metadata": {},
     "output_type": "execute_result"
    }
   ],
   "source": [
    "df"
   ]
  },
  {
   "cell_type": "code",
   "execution_count": 477,
   "id": "6eff8cb8",
   "metadata": {},
   "outputs": [
    {
     "data": {
      "text/html": [
       "<div>\n",
       "<style scoped>\n",
       "    .dataframe tbody tr th:only-of-type {\n",
       "        vertical-align: middle;\n",
       "    }\n",
       "\n",
       "    .dataframe tbody tr th {\n",
       "        vertical-align: top;\n",
       "    }\n",
       "\n",
       "    .dataframe thead th {\n",
       "        text-align: right;\n",
       "    }\n",
       "</style>\n",
       "<table border=\"1\" class=\"dataframe\">\n",
       "  <thead>\n",
       "    <tr style=\"text-align: right;\">\n",
       "      <th></th>\n",
       "      <th>A</th>\n",
       "      <th>B</th>\n",
       "      <th>C</th>\n",
       "      <th>D</th>\n",
       "    </tr>\n",
       "  </thead>\n",
       "  <tbody>\n",
       "    <tr>\n",
       "      <th>2021-01-01</th>\n",
       "      <td>-0.599929</td>\n",
       "      <td>-0.724076</td>\n",
       "      <td>0.058695</td>\n",
       "      <td>-1.262059</td>\n",
       "    </tr>\n",
       "    <tr>\n",
       "      <th>2021-01-02</th>\n",
       "      <td>-0.306443</td>\n",
       "      <td>-0.025069</td>\n",
       "      <td>0.591461</td>\n",
       "      <td>-0.425744</td>\n",
       "    </tr>\n",
       "    <tr>\n",
       "      <th>2021-01-03</th>\n",
       "      <td>-0.691885</td>\n",
       "      <td>-1.981428</td>\n",
       "      <td>-0.319261</td>\n",
       "      <td>-0.113423</td>\n",
       "    </tr>\n",
       "  </tbody>\n",
       "</table>\n",
       "</div>"
      ],
      "text/plain": [
       "                   A         B         C         D\n",
       "2021-01-01 -0.599929 -0.724076  0.058695 -1.262059\n",
       "2021-01-02 -0.306443 -0.025069  0.591461 -0.425744\n",
       "2021-01-03 -0.691885 -1.981428 -0.319261 -0.113423"
      ]
     },
     "execution_count": 477,
     "metadata": {},
     "output_type": "execute_result"
    }
   ],
   "source": [
    "df[0:3]   #0~2까지 출력됨"
   ]
  },
  {
   "cell_type": "code",
   "execution_count": 478,
   "id": "9be2a53f",
   "metadata": {},
   "outputs": [
    {
     "data": {
      "text/html": [
       "<div>\n",
       "<style scoped>\n",
       "    .dataframe tbody tr th:only-of-type {\n",
       "        vertical-align: middle;\n",
       "    }\n",
       "\n",
       "    .dataframe tbody tr th {\n",
       "        vertical-align: top;\n",
       "    }\n",
       "\n",
       "    .dataframe thead th {\n",
       "        text-align: right;\n",
       "    }\n",
       "</style>\n",
       "<table border=\"1\" class=\"dataframe\">\n",
       "  <thead>\n",
       "    <tr style=\"text-align: right;\">\n",
       "      <th></th>\n",
       "      <th>A</th>\n",
       "      <th>B</th>\n",
       "      <th>C</th>\n",
       "      <th>D</th>\n",
       "    </tr>\n",
       "  </thead>\n",
       "  <tbody>\n",
       "    <tr>\n",
       "      <th>2021-01-01</th>\n",
       "      <td>-0.599929</td>\n",
       "      <td>-0.724076</td>\n",
       "      <td>0.058695</td>\n",
       "      <td>-1.262059</td>\n",
       "    </tr>\n",
       "    <tr>\n",
       "      <th>2021-01-02</th>\n",
       "      <td>-0.306443</td>\n",
       "      <td>-0.025069</td>\n",
       "      <td>0.591461</td>\n",
       "      <td>-0.425744</td>\n",
       "    </tr>\n",
       "    <tr>\n",
       "      <th>2021-01-03</th>\n",
       "      <td>-0.691885</td>\n",
       "      <td>-1.981428</td>\n",
       "      <td>-0.319261</td>\n",
       "      <td>-0.113423</td>\n",
       "    </tr>\n",
       "    <tr>\n",
       "      <th>2021-01-04</th>\n",
       "      <td>1.437539</td>\n",
       "      <td>-0.568446</td>\n",
       "      <td>1.384355</td>\n",
       "      <td>0.147224</td>\n",
       "    </tr>\n",
       "  </tbody>\n",
       "</table>\n",
       "</div>"
      ],
      "text/plain": [
       "                   A         B         C         D\n",
       "2021-01-01 -0.599929 -0.724076  0.058695 -1.262059\n",
       "2021-01-02 -0.306443 -0.025069  0.591461 -0.425744\n",
       "2021-01-03 -0.691885 -1.981428 -0.319261 -0.113423\n",
       "2021-01-04  1.437539 -0.568446  1.384355  0.147224"
      ]
     },
     "execution_count": 478,
     "metadata": {},
     "output_type": "execute_result"
    }
   ],
   "source": [
    "df[\"20210101\":\"20210104\"]  #index slice는 0104까지 포함되어 출력됨"
   ]
  },
  {
   "cell_type": "markdown",
   "id": "3c58d963",
   "metadata": {},
   "source": [
    "- loc : location\n",
    "- index 이름으로 특정 행, 열을 선택"
   ]
  },
  {
   "cell_type": "code",
   "execution_count": 479,
   "id": "5de100a2",
   "metadata": {},
   "outputs": [
    {
     "data": {
      "text/html": [
       "<div>\n",
       "<style scoped>\n",
       "    .dataframe tbody tr th:only-of-type {\n",
       "        vertical-align: middle;\n",
       "    }\n",
       "\n",
       "    .dataframe tbody tr th {\n",
       "        vertical-align: top;\n",
       "    }\n",
       "\n",
       "    .dataframe thead th {\n",
       "        text-align: right;\n",
       "    }\n",
       "</style>\n",
       "<table border=\"1\" class=\"dataframe\">\n",
       "  <thead>\n",
       "    <tr style=\"text-align: right;\">\n",
       "      <th></th>\n",
       "      <th>A</th>\n",
       "      <th>B</th>\n",
       "    </tr>\n",
       "  </thead>\n",
       "  <tbody>\n",
       "    <tr>\n",
       "      <th>2021-01-01</th>\n",
       "      <td>-0.599929</td>\n",
       "      <td>-0.724076</td>\n",
       "    </tr>\n",
       "    <tr>\n",
       "      <th>2021-01-03</th>\n",
       "      <td>-0.691885</td>\n",
       "      <td>-1.981428</td>\n",
       "    </tr>\n",
       "  </tbody>\n",
       "</table>\n",
       "</div>"
      ],
      "text/plain": [
       "                   A         B\n",
       "2021-01-01 -0.599929 -0.724076\n",
       "2021-01-03 -0.691885 -1.981428"
      ]
     },
     "execution_count": 479,
     "metadata": {},
     "output_type": "execute_result"
    }
   ],
   "source": [
    "df.loc[[\"20210101\",\"20210103\"],[\"A\",\"B\"]]   #숫자로 : 형태는 안됨\n",
    "#1일과 3일의 행만 빼옴\n",
    "#1일~3일 행이면 , 대신 []없애고 : 붙여준다"
   ]
  },
  {
   "cell_type": "code",
   "execution_count": 480,
   "id": "ef37fd5d",
   "metadata": {},
   "outputs": [
    {
     "data": {
      "text/html": [
       "<div>\n",
       "<style scoped>\n",
       "    .dataframe tbody tr th:only-of-type {\n",
       "        vertical-align: middle;\n",
       "    }\n",
       "\n",
       "    .dataframe tbody tr th {\n",
       "        vertical-align: top;\n",
       "    }\n",
       "\n",
       "    .dataframe thead th {\n",
       "        text-align: right;\n",
       "    }\n",
       "</style>\n",
       "<table border=\"1\" class=\"dataframe\">\n",
       "  <thead>\n",
       "    <tr style=\"text-align: right;\">\n",
       "      <th></th>\n",
       "      <th>A</th>\n",
       "      <th>B</th>\n",
       "      <th>C</th>\n",
       "      <th>D</th>\n",
       "    </tr>\n",
       "  </thead>\n",
       "  <tbody>\n",
       "    <tr>\n",
       "      <th>2021-01-01</th>\n",
       "      <td>-0.599929</td>\n",
       "      <td>-0.724076</td>\n",
       "      <td>0.058695</td>\n",
       "      <td>-1.262059</td>\n",
       "    </tr>\n",
       "    <tr>\n",
       "      <th>2021-01-02</th>\n",
       "      <td>-0.306443</td>\n",
       "      <td>-0.025069</td>\n",
       "      <td>0.591461</td>\n",
       "      <td>-0.425744</td>\n",
       "    </tr>\n",
       "    <tr>\n",
       "      <th>2021-01-03</th>\n",
       "      <td>-0.691885</td>\n",
       "      <td>-1.981428</td>\n",
       "      <td>-0.319261</td>\n",
       "      <td>-0.113423</td>\n",
       "    </tr>\n",
       "    <tr>\n",
       "      <th>2021-01-04</th>\n",
       "      <td>1.437539</td>\n",
       "      <td>-0.568446</td>\n",
       "      <td>1.384355</td>\n",
       "      <td>0.147224</td>\n",
       "    </tr>\n",
       "    <tr>\n",
       "      <th>2021-01-05</th>\n",
       "      <td>-0.330465</td>\n",
       "      <td>-1.323374</td>\n",
       "      <td>0.650460</td>\n",
       "      <td>0.853393</td>\n",
       "    </tr>\n",
       "    <tr>\n",
       "      <th>2021-01-06</th>\n",
       "      <td>-1.176255</td>\n",
       "      <td>0.259562</td>\n",
       "      <td>1.282455</td>\n",
       "      <td>-0.313638</td>\n",
       "    </tr>\n",
       "  </tbody>\n",
       "</table>\n",
       "</div>"
      ],
      "text/plain": [
       "                   A         B         C         D\n",
       "2021-01-01 -0.599929 -0.724076  0.058695 -1.262059\n",
       "2021-01-02 -0.306443 -0.025069  0.591461 -0.425744\n",
       "2021-01-03 -0.691885 -1.981428 -0.319261 -0.113423\n",
       "2021-01-04  1.437539 -0.568446  1.384355  0.147224\n",
       "2021-01-05 -0.330465 -1.323374  0.650460  0.853393\n",
       "2021-01-06 -1.176255  0.259562  1.282455 -0.313638"
      ]
     },
     "execution_count": 480,
     "metadata": {},
     "output_type": "execute_result"
    }
   ],
   "source": [
    "df"
   ]
  },
  {
   "cell_type": "code",
   "execution_count": 481,
   "id": "a73d43b0",
   "metadata": {},
   "outputs": [
    {
     "data": {
      "text/html": [
       "<div>\n",
       "<style scoped>\n",
       "    .dataframe tbody tr th:only-of-type {\n",
       "        vertical-align: middle;\n",
       "    }\n",
       "\n",
       "    .dataframe tbody tr th {\n",
       "        vertical-align: top;\n",
       "    }\n",
       "\n",
       "    .dataframe thead th {\n",
       "        text-align: right;\n",
       "    }\n",
       "</style>\n",
       "<table border=\"1\" class=\"dataframe\">\n",
       "  <thead>\n",
       "    <tr style=\"text-align: right;\">\n",
       "      <th></th>\n",
       "      <th>A</th>\n",
       "      <th>B</th>\n",
       "    </tr>\n",
       "  </thead>\n",
       "  <tbody>\n",
       "    <tr>\n",
       "      <th>2021-01-01</th>\n",
       "      <td>-0.599929</td>\n",
       "      <td>-0.724076</td>\n",
       "    </tr>\n",
       "    <tr>\n",
       "      <th>2021-01-02</th>\n",
       "      <td>-0.306443</td>\n",
       "      <td>-0.025069</td>\n",
       "    </tr>\n",
       "    <tr>\n",
       "      <th>2021-01-03</th>\n",
       "      <td>-0.691885</td>\n",
       "      <td>-1.981428</td>\n",
       "    </tr>\n",
       "    <tr>\n",
       "      <th>2021-01-04</th>\n",
       "      <td>1.437539</td>\n",
       "      <td>-0.568446</td>\n",
       "    </tr>\n",
       "    <tr>\n",
       "      <th>2021-01-05</th>\n",
       "      <td>-0.330465</td>\n",
       "      <td>-1.323374</td>\n",
       "    </tr>\n",
       "    <tr>\n",
       "      <th>2021-01-06</th>\n",
       "      <td>-1.176255</td>\n",
       "      <td>0.259562</td>\n",
       "    </tr>\n",
       "  </tbody>\n",
       "</table>\n",
       "</div>"
      ],
      "text/plain": [
       "                   A         B\n",
       "2021-01-01 -0.599929 -0.724076\n",
       "2021-01-02 -0.306443 -0.025069\n",
       "2021-01-03 -0.691885 -1.981428\n",
       "2021-01-04  1.437539 -0.568446\n",
       "2021-01-05 -0.330465 -1.323374\n",
       "2021-01-06 -1.176255  0.259562"
      ]
     },
     "execution_count": 481,
     "metadata": {},
     "output_type": "execute_result"
    }
   ],
   "source": [
    "df.loc[:, [\"A\",\"B\"]]"
   ]
  },
  {
   "cell_type": "code",
   "execution_count": 482,
   "id": "0ec6a857",
   "metadata": {},
   "outputs": [
    {
     "data": {
      "text/html": [
       "<div>\n",
       "<style scoped>\n",
       "    .dataframe tbody tr th:only-of-type {\n",
       "        vertical-align: middle;\n",
       "    }\n",
       "\n",
       "    .dataframe tbody tr th {\n",
       "        vertical-align: top;\n",
       "    }\n",
       "\n",
       "    .dataframe thead th {\n",
       "        text-align: right;\n",
       "    }\n",
       "</style>\n",
       "<table border=\"1\" class=\"dataframe\">\n",
       "  <thead>\n",
       "    <tr style=\"text-align: right;\">\n",
       "      <th></th>\n",
       "      <th>A</th>\n",
       "      <th>D</th>\n",
       "    </tr>\n",
       "  </thead>\n",
       "  <tbody>\n",
       "    <tr>\n",
       "      <th>2021-01-02</th>\n",
       "      <td>-0.306443</td>\n",
       "      <td>-0.425744</td>\n",
       "    </tr>\n",
       "    <tr>\n",
       "      <th>2021-01-03</th>\n",
       "      <td>-0.691885</td>\n",
       "      <td>-0.113423</td>\n",
       "    </tr>\n",
       "    <tr>\n",
       "      <th>2021-01-04</th>\n",
       "      <td>1.437539</td>\n",
       "      <td>0.147224</td>\n",
       "    </tr>\n",
       "  </tbody>\n",
       "</table>\n",
       "</div>"
      ],
      "text/plain": [
       "                   A         D\n",
       "2021-01-02 -0.306443 -0.425744\n",
       "2021-01-03 -0.691885 -0.113423\n",
       "2021-01-04  1.437539  0.147224"
      ]
     },
     "execution_count": 482,
     "metadata": {},
     "output_type": "execute_result"
    }
   ],
   "source": [
    "df.loc[\"20210102\":\"20210104\", [\"A\",\"D\"]]"
   ]
  },
  {
   "cell_type": "code",
   "execution_count": 483,
   "id": "902ecc26",
   "metadata": {},
   "outputs": [
    {
     "data": {
      "text/html": [
       "<div>\n",
       "<style scoped>\n",
       "    .dataframe tbody tr th:only-of-type {\n",
       "        vertical-align: middle;\n",
       "    }\n",
       "\n",
       "    .dataframe tbody tr th {\n",
       "        vertical-align: top;\n",
       "    }\n",
       "\n",
       "    .dataframe thead th {\n",
       "        text-align: right;\n",
       "    }\n",
       "</style>\n",
       "<table border=\"1\" class=\"dataframe\">\n",
       "  <thead>\n",
       "    <tr style=\"text-align: right;\">\n",
       "      <th></th>\n",
       "      <th>A</th>\n",
       "      <th>B</th>\n",
       "      <th>C</th>\n",
       "    </tr>\n",
       "  </thead>\n",
       "  <tbody>\n",
       "    <tr>\n",
       "      <th>2021-01-02</th>\n",
       "      <td>-0.306443</td>\n",
       "      <td>-0.025069</td>\n",
       "      <td>0.591461</td>\n",
       "    </tr>\n",
       "    <tr>\n",
       "      <th>2021-01-03</th>\n",
       "      <td>-0.691885</td>\n",
       "      <td>-1.981428</td>\n",
       "      <td>-0.319261</td>\n",
       "    </tr>\n",
       "    <tr>\n",
       "      <th>2021-01-04</th>\n",
       "      <td>1.437539</td>\n",
       "      <td>-0.568446</td>\n",
       "      <td>1.384355</td>\n",
       "    </tr>\n",
       "  </tbody>\n",
       "</table>\n",
       "</div>"
      ],
      "text/plain": [
       "                   A         B         C\n",
       "2021-01-02 -0.306443 -0.025069  0.591461\n",
       "2021-01-03 -0.691885 -1.981428 -0.319261\n",
       "2021-01-04  1.437539 -0.568446  1.384355"
      ]
     },
     "execution_count": 483,
     "metadata": {},
     "output_type": "execute_result"
    }
   ],
   "source": [
    "df.loc[\"20210102\":\"20210104\", \"A\":\"C\"]"
   ]
  },
  {
   "cell_type": "code",
   "execution_count": 484,
   "id": "e7dd2a15",
   "metadata": {},
   "outputs": [
    {
     "data": {
      "text/plain": [
       "A   -0.306443\n",
       "B   -0.025069\n",
       "Name: 2021-01-02 00:00:00, dtype: float64"
      ]
     },
     "execution_count": 484,
     "metadata": {},
     "output_type": "execute_result"
    }
   ],
   "source": [
    "df.loc[\"20210102\", [\"A\",\"B\"]]"
   ]
  },
  {
   "cell_type": "markdown",
   "id": "8d1e68a4",
   "metadata": {},
   "source": [
    "- iloc : inter location\n",
    "    - 컴퓨터가 인식하는 인덱스 값으로 선택"
   ]
  },
  {
   "cell_type": "code",
   "execution_count": 485,
   "id": "7d8c2c52",
   "metadata": {},
   "outputs": [
    {
     "data": {
      "text/html": [
       "<div>\n",
       "<style scoped>\n",
       "    .dataframe tbody tr th:only-of-type {\n",
       "        vertical-align: middle;\n",
       "    }\n",
       "\n",
       "    .dataframe tbody tr th {\n",
       "        vertical-align: top;\n",
       "    }\n",
       "\n",
       "    .dataframe thead th {\n",
       "        text-align: right;\n",
       "    }\n",
       "</style>\n",
       "<table border=\"1\" class=\"dataframe\">\n",
       "  <thead>\n",
       "    <tr style=\"text-align: right;\">\n",
       "      <th></th>\n",
       "      <th>A</th>\n",
       "      <th>B</th>\n",
       "      <th>C</th>\n",
       "      <th>D</th>\n",
       "    </tr>\n",
       "  </thead>\n",
       "  <tbody>\n",
       "    <tr>\n",
       "      <th>2021-01-01</th>\n",
       "      <td>-0.599929</td>\n",
       "      <td>-0.724076</td>\n",
       "      <td>0.058695</td>\n",
       "      <td>-1.262059</td>\n",
       "    </tr>\n",
       "    <tr>\n",
       "      <th>2021-01-02</th>\n",
       "      <td>-0.306443</td>\n",
       "      <td>-0.025069</td>\n",
       "      <td>0.591461</td>\n",
       "      <td>-0.425744</td>\n",
       "    </tr>\n",
       "    <tr>\n",
       "      <th>2021-01-03</th>\n",
       "      <td>-0.691885</td>\n",
       "      <td>-1.981428</td>\n",
       "      <td>-0.319261</td>\n",
       "      <td>-0.113423</td>\n",
       "    </tr>\n",
       "    <tr>\n",
       "      <th>2021-01-04</th>\n",
       "      <td>1.437539</td>\n",
       "      <td>-0.568446</td>\n",
       "      <td>1.384355</td>\n",
       "      <td>0.147224</td>\n",
       "    </tr>\n",
       "    <tr>\n",
       "      <th>2021-01-05</th>\n",
       "      <td>-0.330465</td>\n",
       "      <td>-1.323374</td>\n",
       "      <td>0.650460</td>\n",
       "      <td>0.853393</td>\n",
       "    </tr>\n",
       "    <tr>\n",
       "      <th>2021-01-06</th>\n",
       "      <td>-1.176255</td>\n",
       "      <td>0.259562</td>\n",
       "      <td>1.282455</td>\n",
       "      <td>-0.313638</td>\n",
       "    </tr>\n",
       "  </tbody>\n",
       "</table>\n",
       "</div>"
      ],
      "text/plain": [
       "                   A         B         C         D\n",
       "2021-01-01 -0.599929 -0.724076  0.058695 -1.262059\n",
       "2021-01-02 -0.306443 -0.025069  0.591461 -0.425744\n",
       "2021-01-03 -0.691885 -1.981428 -0.319261 -0.113423\n",
       "2021-01-04  1.437539 -0.568446  1.384355  0.147224\n",
       "2021-01-05 -0.330465 -1.323374  0.650460  0.853393\n",
       "2021-01-06 -1.176255  0.259562  1.282455 -0.313638"
      ]
     },
     "execution_count": 485,
     "metadata": {},
     "output_type": "execute_result"
    }
   ],
   "source": [
    "df"
   ]
  },
  {
   "cell_type": "code",
   "execution_count": 486,
   "id": "d0848fb5",
   "metadata": {},
   "outputs": [
    {
     "data": {
      "text/plain": [
       "A    1.437539\n",
       "B   -0.568446\n",
       "C    1.384355\n",
       "D    0.147224\n",
       "Name: 2021-01-04 00:00:00, dtype: float64"
      ]
     },
     "execution_count": 486,
     "metadata": {},
     "output_type": "execute_result"
    }
   ],
   "source": [
    "df.iloc[3]"
   ]
  },
  {
   "cell_type": "code",
   "execution_count": 487,
   "id": "9fdab86b",
   "metadata": {},
   "outputs": [
    {
     "data": {
      "text/plain": [
       "1.3843552633392477"
      ]
     },
     "execution_count": 487,
     "metadata": {},
     "output_type": "execute_result"
    }
   ],
   "source": [
    "df.iloc[3,2]"
   ]
  },
  {
   "cell_type": "code",
   "execution_count": 488,
   "id": "6a104d06",
   "metadata": {},
   "outputs": [
    {
     "data": {
      "text/html": [
       "<div>\n",
       "<style scoped>\n",
       "    .dataframe tbody tr th:only-of-type {\n",
       "        vertical-align: middle;\n",
       "    }\n",
       "\n",
       "    .dataframe tbody tr th {\n",
       "        vertical-align: top;\n",
       "    }\n",
       "\n",
       "    .dataframe thead th {\n",
       "        text-align: right;\n",
       "    }\n",
       "</style>\n",
       "<table border=\"1\" class=\"dataframe\">\n",
       "  <thead>\n",
       "    <tr style=\"text-align: right;\">\n",
       "      <th></th>\n",
       "      <th>A</th>\n",
       "      <th>B</th>\n",
       "    </tr>\n",
       "  </thead>\n",
       "  <tbody>\n",
       "    <tr>\n",
       "      <th>2021-01-04</th>\n",
       "      <td>1.437539</td>\n",
       "      <td>-0.568446</td>\n",
       "    </tr>\n",
       "    <tr>\n",
       "      <th>2021-01-05</th>\n",
       "      <td>-0.330465</td>\n",
       "      <td>-1.323374</td>\n",
       "    </tr>\n",
       "  </tbody>\n",
       "</table>\n",
       "</div>"
      ],
      "text/plain": [
       "                   A         B\n",
       "2021-01-04  1.437539 -0.568446\n",
       "2021-01-05 -0.330465 -1.323374"
      ]
     },
     "execution_count": 488,
     "metadata": {},
     "output_type": "execute_result"
    }
   ],
   "source": [
    "df.iloc[3:5, 0:2]"
   ]
  },
  {
   "cell_type": "code",
   "execution_count": 489,
   "id": "85292c00",
   "metadata": {},
   "outputs": [
    {
     "data": {
      "text/html": [
       "<div>\n",
       "<style scoped>\n",
       "    .dataframe tbody tr th:only-of-type {\n",
       "        vertical-align: middle;\n",
       "    }\n",
       "\n",
       "    .dataframe tbody tr th {\n",
       "        vertical-align: top;\n",
       "    }\n",
       "\n",
       "    .dataframe thead th {\n",
       "        text-align: right;\n",
       "    }\n",
       "</style>\n",
       "<table border=\"1\" class=\"dataframe\">\n",
       "  <thead>\n",
       "    <tr style=\"text-align: right;\">\n",
       "      <th></th>\n",
       "      <th>A</th>\n",
       "      <th>C</th>\n",
       "    </tr>\n",
       "  </thead>\n",
       "  <tbody>\n",
       "    <tr>\n",
       "      <th>2021-01-02</th>\n",
       "      <td>-0.306443</td>\n",
       "      <td>0.591461</td>\n",
       "    </tr>\n",
       "    <tr>\n",
       "      <th>2021-01-03</th>\n",
       "      <td>-0.691885</td>\n",
       "      <td>-0.319261</td>\n",
       "    </tr>\n",
       "    <tr>\n",
       "      <th>2021-01-05</th>\n",
       "      <td>-0.330465</td>\n",
       "      <td>0.650460</td>\n",
       "    </tr>\n",
       "  </tbody>\n",
       "</table>\n",
       "</div>"
      ],
      "text/plain": [
       "                   A         C\n",
       "2021-01-02 -0.306443  0.591461\n",
       "2021-01-03 -0.691885 -0.319261\n",
       "2021-01-05 -0.330465  0.650460"
      ]
     },
     "execution_count": 489,
     "metadata": {},
     "output_type": "execute_result"
    }
   ],
   "source": [
    "df.iloc[[1,2,4], [0,2]]  #특정 행, 열 뽑기"
   ]
  },
  {
   "cell_type": "code",
   "execution_count": 490,
   "id": "f723f098",
   "metadata": {},
   "outputs": [
    {
     "data": {
      "text/html": [
       "<div>\n",
       "<style scoped>\n",
       "    .dataframe tbody tr th:only-of-type {\n",
       "        vertical-align: middle;\n",
       "    }\n",
       "\n",
       "    .dataframe tbody tr th {\n",
       "        vertical-align: top;\n",
       "    }\n",
       "\n",
       "    .dataframe thead th {\n",
       "        text-align: right;\n",
       "    }\n",
       "</style>\n",
       "<table border=\"1\" class=\"dataframe\">\n",
       "  <thead>\n",
       "    <tr style=\"text-align: right;\">\n",
       "      <th></th>\n",
       "      <th>B</th>\n",
       "      <th>C</th>\n",
       "    </tr>\n",
       "  </thead>\n",
       "  <tbody>\n",
       "    <tr>\n",
       "      <th>2021-01-01</th>\n",
       "      <td>-0.724076</td>\n",
       "      <td>0.058695</td>\n",
       "    </tr>\n",
       "    <tr>\n",
       "      <th>2021-01-02</th>\n",
       "      <td>-0.025069</td>\n",
       "      <td>0.591461</td>\n",
       "    </tr>\n",
       "    <tr>\n",
       "      <th>2021-01-03</th>\n",
       "      <td>-1.981428</td>\n",
       "      <td>-0.319261</td>\n",
       "    </tr>\n",
       "    <tr>\n",
       "      <th>2021-01-04</th>\n",
       "      <td>-0.568446</td>\n",
       "      <td>1.384355</td>\n",
       "    </tr>\n",
       "    <tr>\n",
       "      <th>2021-01-05</th>\n",
       "      <td>-1.323374</td>\n",
       "      <td>0.650460</td>\n",
       "    </tr>\n",
       "    <tr>\n",
       "      <th>2021-01-06</th>\n",
       "      <td>0.259562</td>\n",
       "      <td>1.282455</td>\n",
       "    </tr>\n",
       "  </tbody>\n",
       "</table>\n",
       "</div>"
      ],
      "text/plain": [
       "                   B         C\n",
       "2021-01-01 -0.724076  0.058695\n",
       "2021-01-02 -0.025069  0.591461\n",
       "2021-01-03 -1.981428 -0.319261\n",
       "2021-01-04 -0.568446  1.384355\n",
       "2021-01-05 -1.323374  0.650460\n",
       "2021-01-06  0.259562  1.282455"
      ]
     },
     "execution_count": 490,
     "metadata": {},
     "output_type": "execute_result"
    }
   ],
   "source": [
    "df.iloc[:, 1:3]"
   ]
  },
  {
   "cell_type": "markdown",
   "id": "98b684ec",
   "metadata": {},
   "source": [
    "### condition"
   ]
  },
  {
   "cell_type": "code",
   "execution_count": 491,
   "id": "a199e7bf",
   "metadata": {},
   "outputs": [
    {
     "data": {
      "text/html": [
       "<div>\n",
       "<style scoped>\n",
       "    .dataframe tbody tr th:only-of-type {\n",
       "        vertical-align: middle;\n",
       "    }\n",
       "\n",
       "    .dataframe tbody tr th {\n",
       "        vertical-align: top;\n",
       "    }\n",
       "\n",
       "    .dataframe thead th {\n",
       "        text-align: right;\n",
       "    }\n",
       "</style>\n",
       "<table border=\"1\" class=\"dataframe\">\n",
       "  <thead>\n",
       "    <tr style=\"text-align: right;\">\n",
       "      <th></th>\n",
       "      <th>A</th>\n",
       "      <th>B</th>\n",
       "      <th>C</th>\n",
       "      <th>D</th>\n",
       "    </tr>\n",
       "  </thead>\n",
       "  <tbody>\n",
       "    <tr>\n",
       "      <th>2021-01-01</th>\n",
       "      <td>-0.599929</td>\n",
       "      <td>-0.724076</td>\n",
       "      <td>0.058695</td>\n",
       "      <td>-1.262059</td>\n",
       "    </tr>\n",
       "    <tr>\n",
       "      <th>2021-01-02</th>\n",
       "      <td>-0.306443</td>\n",
       "      <td>-0.025069</td>\n",
       "      <td>0.591461</td>\n",
       "      <td>-0.425744</td>\n",
       "    </tr>\n",
       "    <tr>\n",
       "      <th>2021-01-03</th>\n",
       "      <td>-0.691885</td>\n",
       "      <td>-1.981428</td>\n",
       "      <td>-0.319261</td>\n",
       "      <td>-0.113423</td>\n",
       "    </tr>\n",
       "    <tr>\n",
       "      <th>2021-01-04</th>\n",
       "      <td>1.437539</td>\n",
       "      <td>-0.568446</td>\n",
       "      <td>1.384355</td>\n",
       "      <td>0.147224</td>\n",
       "    </tr>\n",
       "    <tr>\n",
       "      <th>2021-01-05</th>\n",
       "      <td>-0.330465</td>\n",
       "      <td>-1.323374</td>\n",
       "      <td>0.650460</td>\n",
       "      <td>0.853393</td>\n",
       "    </tr>\n",
       "    <tr>\n",
       "      <th>2021-01-06</th>\n",
       "      <td>-1.176255</td>\n",
       "      <td>0.259562</td>\n",
       "      <td>1.282455</td>\n",
       "      <td>-0.313638</td>\n",
       "    </tr>\n",
       "  </tbody>\n",
       "</table>\n",
       "</div>"
      ],
      "text/plain": [
       "                   A         B         C         D\n",
       "2021-01-01 -0.599929 -0.724076  0.058695 -1.262059\n",
       "2021-01-02 -0.306443 -0.025069  0.591461 -0.425744\n",
       "2021-01-03 -0.691885 -1.981428 -0.319261 -0.113423\n",
       "2021-01-04  1.437539 -0.568446  1.384355  0.147224\n",
       "2021-01-05 -0.330465 -1.323374  0.650460  0.853393\n",
       "2021-01-06 -1.176255  0.259562  1.282455 -0.313638"
      ]
     },
     "execution_count": 491,
     "metadata": {},
     "output_type": "execute_result"
    }
   ],
   "source": [
    "df"
   ]
  },
  {
   "cell_type": "code",
   "execution_count": 492,
   "id": "12c4ac21",
   "metadata": {},
   "outputs": [
    {
     "data": {
      "text/plain": [
       "2021-01-01    False\n",
       "2021-01-02    False\n",
       "2021-01-03    False\n",
       "2021-01-04     True\n",
       "2021-01-05    False\n",
       "2021-01-06    False\n",
       "Freq: D, Name: A, dtype: bool"
      ]
     },
     "execution_count": 492,
     "metadata": {},
     "output_type": "execute_result"
    }
   ],
   "source": [
    "# A 컬럼에서 0보다 큰 숫자(양수)만 선택\n",
    "df[\"A\"] > 0"
   ]
  },
  {
   "cell_type": "code",
   "execution_count": 493,
   "id": "ddebab35",
   "metadata": {},
   "outputs": [
    {
     "data": {
      "text/html": [
       "<div>\n",
       "<style scoped>\n",
       "    .dataframe tbody tr th:only-of-type {\n",
       "        vertical-align: middle;\n",
       "    }\n",
       "\n",
       "    .dataframe tbody tr th {\n",
       "        vertical-align: top;\n",
       "    }\n",
       "\n",
       "    .dataframe thead th {\n",
       "        text-align: right;\n",
       "    }\n",
       "</style>\n",
       "<table border=\"1\" class=\"dataframe\">\n",
       "  <thead>\n",
       "    <tr style=\"text-align: right;\">\n",
       "      <th></th>\n",
       "      <th>A</th>\n",
       "      <th>B</th>\n",
       "      <th>C</th>\n",
       "      <th>D</th>\n",
       "    </tr>\n",
       "  </thead>\n",
       "  <tbody>\n",
       "    <tr>\n",
       "      <th>2021-01-04</th>\n",
       "      <td>1.437539</td>\n",
       "      <td>-0.568446</td>\n",
       "      <td>1.384355</td>\n",
       "      <td>0.147224</td>\n",
       "    </tr>\n",
       "  </tbody>\n",
       "</table>\n",
       "</div>"
      ],
      "text/plain": [
       "                   A         B         C         D\n",
       "2021-01-04  1.437539 -0.568446  1.384355  0.147224"
      ]
     },
     "execution_count": 493,
     "metadata": {},
     "output_type": "execute_result"
    }
   ],
   "source": [
    "df[df[\"A\"] > 0]"
   ]
  },
  {
   "cell_type": "code",
   "execution_count": 494,
   "id": "2a026342",
   "metadata": {},
   "outputs": [
    {
     "data": {
      "text/html": [
       "<div>\n",
       "<style scoped>\n",
       "    .dataframe tbody tr th:only-of-type {\n",
       "        vertical-align: middle;\n",
       "    }\n",
       "\n",
       "    .dataframe tbody tr th {\n",
       "        vertical-align: top;\n",
       "    }\n",
       "\n",
       "    .dataframe thead th {\n",
       "        text-align: right;\n",
       "    }\n",
       "</style>\n",
       "<table border=\"1\" class=\"dataframe\">\n",
       "  <thead>\n",
       "    <tr style=\"text-align: right;\">\n",
       "      <th></th>\n",
       "      <th>A</th>\n",
       "      <th>B</th>\n",
       "      <th>C</th>\n",
       "      <th>D</th>\n",
       "    </tr>\n",
       "  </thead>\n",
       "  <tbody>\n",
       "    <tr>\n",
       "      <th>2021-01-01</th>\n",
       "      <td>NaN</td>\n",
       "      <td>NaN</td>\n",
       "      <td>0.058695</td>\n",
       "      <td>NaN</td>\n",
       "    </tr>\n",
       "    <tr>\n",
       "      <th>2021-01-02</th>\n",
       "      <td>NaN</td>\n",
       "      <td>NaN</td>\n",
       "      <td>0.591461</td>\n",
       "      <td>NaN</td>\n",
       "    </tr>\n",
       "    <tr>\n",
       "      <th>2021-01-03</th>\n",
       "      <td>NaN</td>\n",
       "      <td>NaN</td>\n",
       "      <td>NaN</td>\n",
       "      <td>NaN</td>\n",
       "    </tr>\n",
       "    <tr>\n",
       "      <th>2021-01-04</th>\n",
       "      <td>1.437539</td>\n",
       "      <td>NaN</td>\n",
       "      <td>1.384355</td>\n",
       "      <td>0.147224</td>\n",
       "    </tr>\n",
       "    <tr>\n",
       "      <th>2021-01-05</th>\n",
       "      <td>NaN</td>\n",
       "      <td>NaN</td>\n",
       "      <td>0.650460</td>\n",
       "      <td>0.853393</td>\n",
       "    </tr>\n",
       "    <tr>\n",
       "      <th>2021-01-06</th>\n",
       "      <td>NaN</td>\n",
       "      <td>0.259562</td>\n",
       "      <td>1.282455</td>\n",
       "      <td>NaN</td>\n",
       "    </tr>\n",
       "  </tbody>\n",
       "</table>\n",
       "</div>"
      ],
      "text/plain": [
       "                   A         B         C         D\n",
       "2021-01-01       NaN       NaN  0.058695       NaN\n",
       "2021-01-02       NaN       NaN  0.591461       NaN\n",
       "2021-01-03       NaN       NaN       NaN       NaN\n",
       "2021-01-04  1.437539       NaN  1.384355  0.147224\n",
       "2021-01-05       NaN       NaN  0.650460  0.853393\n",
       "2021-01-06       NaN  0.259562  1.282455       NaN"
      ]
     },
     "execution_count": 494,
     "metadata": {},
     "output_type": "execute_result"
    }
   ],
   "source": [
    "df[df>0]"
   ]
  },
  {
   "cell_type": "markdown",
   "id": "a1950008",
   "metadata": {},
   "source": [
    "- NaN : Not a Number  #데이터가 없다"
   ]
  },
  {
   "cell_type": "markdown",
   "id": "89ff17e4",
   "metadata": {},
   "source": [
    "### 컬럼 추가\n",
    "- 기존 컬럼이 있으면 추가\n",
    "- 기존 컬럼이 없으면 수정"
   ]
  },
  {
   "cell_type": "code",
   "execution_count": 495,
   "id": "0f475dad",
   "metadata": {},
   "outputs": [
    {
     "data": {
      "text/html": [
       "<div>\n",
       "<style scoped>\n",
       "    .dataframe tbody tr th:only-of-type {\n",
       "        vertical-align: middle;\n",
       "    }\n",
       "\n",
       "    .dataframe tbody tr th {\n",
       "        vertical-align: top;\n",
       "    }\n",
       "\n",
       "    .dataframe thead th {\n",
       "        text-align: right;\n",
       "    }\n",
       "</style>\n",
       "<table border=\"1\" class=\"dataframe\">\n",
       "  <thead>\n",
       "    <tr style=\"text-align: right;\">\n",
       "      <th></th>\n",
       "      <th>A</th>\n",
       "      <th>B</th>\n",
       "      <th>C</th>\n",
       "      <th>D</th>\n",
       "    </tr>\n",
       "  </thead>\n",
       "  <tbody>\n",
       "    <tr>\n",
       "      <th>2021-01-01</th>\n",
       "      <td>-0.599929</td>\n",
       "      <td>-0.724076</td>\n",
       "      <td>0.058695</td>\n",
       "      <td>-1.262059</td>\n",
       "    </tr>\n",
       "    <tr>\n",
       "      <th>2021-01-02</th>\n",
       "      <td>-0.306443</td>\n",
       "      <td>-0.025069</td>\n",
       "      <td>0.591461</td>\n",
       "      <td>-0.425744</td>\n",
       "    </tr>\n",
       "    <tr>\n",
       "      <th>2021-01-03</th>\n",
       "      <td>-0.691885</td>\n",
       "      <td>-1.981428</td>\n",
       "      <td>-0.319261</td>\n",
       "      <td>-0.113423</td>\n",
       "    </tr>\n",
       "    <tr>\n",
       "      <th>2021-01-04</th>\n",
       "      <td>1.437539</td>\n",
       "      <td>-0.568446</td>\n",
       "      <td>1.384355</td>\n",
       "      <td>0.147224</td>\n",
       "    </tr>\n",
       "    <tr>\n",
       "      <th>2021-01-05</th>\n",
       "      <td>-0.330465</td>\n",
       "      <td>-1.323374</td>\n",
       "      <td>0.650460</td>\n",
       "      <td>0.853393</td>\n",
       "    </tr>\n",
       "    <tr>\n",
       "      <th>2021-01-06</th>\n",
       "      <td>-1.176255</td>\n",
       "      <td>0.259562</td>\n",
       "      <td>1.282455</td>\n",
       "      <td>-0.313638</td>\n",
       "    </tr>\n",
       "  </tbody>\n",
       "</table>\n",
       "</div>"
      ],
      "text/plain": [
       "                   A         B         C         D\n",
       "2021-01-01 -0.599929 -0.724076  0.058695 -1.262059\n",
       "2021-01-02 -0.306443 -0.025069  0.591461 -0.425744\n",
       "2021-01-03 -0.691885 -1.981428 -0.319261 -0.113423\n",
       "2021-01-04  1.437539 -0.568446  1.384355  0.147224\n",
       "2021-01-05 -0.330465 -1.323374  0.650460  0.853393\n",
       "2021-01-06 -1.176255  0.259562  1.282455 -0.313638"
      ]
     },
     "execution_count": 495,
     "metadata": {},
     "output_type": "execute_result"
    }
   ],
   "source": [
    "df"
   ]
  },
  {
   "cell_type": "code",
   "execution_count": 496,
   "id": "767ddf83",
   "metadata": {},
   "outputs": [
    {
     "data": {
      "text/html": [
       "<div>\n",
       "<style scoped>\n",
       "    .dataframe tbody tr th:only-of-type {\n",
       "        vertical-align: middle;\n",
       "    }\n",
       "\n",
       "    .dataframe tbody tr th {\n",
       "        vertical-align: top;\n",
       "    }\n",
       "\n",
       "    .dataframe thead th {\n",
       "        text-align: right;\n",
       "    }\n",
       "</style>\n",
       "<table border=\"1\" class=\"dataframe\">\n",
       "  <thead>\n",
       "    <tr style=\"text-align: right;\">\n",
       "      <th></th>\n",
       "      <th>A</th>\n",
       "      <th>B</th>\n",
       "      <th>C</th>\n",
       "      <th>D</th>\n",
       "      <th>E</th>\n",
       "    </tr>\n",
       "  </thead>\n",
       "  <tbody>\n",
       "    <tr>\n",
       "      <th>2021-01-01</th>\n",
       "      <td>-0.599929</td>\n",
       "      <td>-0.724076</td>\n",
       "      <td>0.058695</td>\n",
       "      <td>-1.262059</td>\n",
       "      <td>one</td>\n",
       "    </tr>\n",
       "    <tr>\n",
       "      <th>2021-01-02</th>\n",
       "      <td>-0.306443</td>\n",
       "      <td>-0.025069</td>\n",
       "      <td>0.591461</td>\n",
       "      <td>-0.425744</td>\n",
       "      <td>two</td>\n",
       "    </tr>\n",
       "    <tr>\n",
       "      <th>2021-01-03</th>\n",
       "      <td>-0.691885</td>\n",
       "      <td>-1.981428</td>\n",
       "      <td>-0.319261</td>\n",
       "      <td>-0.113423</td>\n",
       "      <td>one</td>\n",
       "    </tr>\n",
       "    <tr>\n",
       "      <th>2021-01-04</th>\n",
       "      <td>1.437539</td>\n",
       "      <td>-0.568446</td>\n",
       "      <td>1.384355</td>\n",
       "      <td>0.147224</td>\n",
       "      <td>four</td>\n",
       "    </tr>\n",
       "    <tr>\n",
       "      <th>2021-01-05</th>\n",
       "      <td>-0.330465</td>\n",
       "      <td>-1.323374</td>\n",
       "      <td>0.650460</td>\n",
       "      <td>0.853393</td>\n",
       "      <td>five</td>\n",
       "    </tr>\n",
       "    <tr>\n",
       "      <th>2021-01-06</th>\n",
       "      <td>-1.176255</td>\n",
       "      <td>0.259562</td>\n",
       "      <td>1.282455</td>\n",
       "      <td>-0.313638</td>\n",
       "      <td>six</td>\n",
       "    </tr>\n",
       "  </tbody>\n",
       "</table>\n",
       "</div>"
      ],
      "text/plain": [
       "                   A         B         C         D     E\n",
       "2021-01-01 -0.599929 -0.724076  0.058695 -1.262059   one\n",
       "2021-01-02 -0.306443 -0.025069  0.591461 -0.425744   two\n",
       "2021-01-03 -0.691885 -1.981428 -0.319261 -0.113423   one\n",
       "2021-01-04  1.437539 -0.568446  1.384355  0.147224  four\n",
       "2021-01-05 -0.330465 -1.323374  0.650460  0.853393  five\n",
       "2021-01-06 -1.176255  0.259562  1.282455 -0.313638   six"
      ]
     },
     "execution_count": 496,
     "metadata": {},
     "output_type": "execute_result"
    }
   ],
   "source": [
    "df[\"E\"] = [\"one\", \"two\", \"one\", \"four\", \"five\", \"six\"]  #df의 행에 맞추어 열의 데이터를 넣어준다\n",
    "df"
   ]
  },
  {
   "cell_type": "markdown",
   "id": "9336ab5c",
   "metadata": {},
   "source": [
    "- isin()\n",
    "- 특정 요소가 있는지 확인"
   ]
  },
  {
   "cell_type": "code",
   "execution_count": 497,
   "id": "4f83db8d",
   "metadata": {},
   "outputs": [
    {
     "data": {
      "text/plain": [
       "2021-01-01    False\n",
       "2021-01-02     True\n",
       "2021-01-03    False\n",
       "2021-01-04    False\n",
       "2021-01-05    False\n",
       "2021-01-06    False\n",
       "Freq: D, Name: E, dtype: bool"
      ]
     },
     "execution_count": 497,
     "metadata": {},
     "output_type": "execute_result"
    }
   ],
   "source": [
    "df[\"E\"].isin([\"two\"])"
   ]
  },
  {
   "cell_type": "code",
   "execution_count": 498,
   "id": "e91b1965",
   "metadata": {},
   "outputs": [
    {
     "data": {
      "text/plain": [
       "2021-01-01    False\n",
       "2021-01-02     True\n",
       "2021-01-03    False\n",
       "2021-01-04    False\n",
       "2021-01-05     True\n",
       "2021-01-06    False\n",
       "Freq: D, Name: E, dtype: bool"
      ]
     },
     "execution_count": 498,
     "metadata": {},
     "output_type": "execute_result"
    }
   ],
   "source": [
    "df[\"E\"].isin([\"two\", \"five\"])"
   ]
  },
  {
   "cell_type": "code",
   "execution_count": 499,
   "id": "d3298760",
   "metadata": {},
   "outputs": [
    {
     "data": {
      "text/html": [
       "<div>\n",
       "<style scoped>\n",
       "    .dataframe tbody tr th:only-of-type {\n",
       "        vertical-align: middle;\n",
       "    }\n",
       "\n",
       "    .dataframe tbody tr th {\n",
       "        vertical-align: top;\n",
       "    }\n",
       "\n",
       "    .dataframe thead th {\n",
       "        text-align: right;\n",
       "    }\n",
       "</style>\n",
       "<table border=\"1\" class=\"dataframe\">\n",
       "  <thead>\n",
       "    <tr style=\"text-align: right;\">\n",
       "      <th></th>\n",
       "      <th>A</th>\n",
       "      <th>B</th>\n",
       "      <th>C</th>\n",
       "      <th>D</th>\n",
       "      <th>E</th>\n",
       "    </tr>\n",
       "  </thead>\n",
       "  <tbody>\n",
       "    <tr>\n",
       "      <th>2021-01-02</th>\n",
       "      <td>-0.306443</td>\n",
       "      <td>-0.025069</td>\n",
       "      <td>0.591461</td>\n",
       "      <td>-0.425744</td>\n",
       "      <td>two</td>\n",
       "    </tr>\n",
       "    <tr>\n",
       "      <th>2021-01-05</th>\n",
       "      <td>-0.330465</td>\n",
       "      <td>-1.323374</td>\n",
       "      <td>0.650460</td>\n",
       "      <td>0.853393</td>\n",
       "      <td>five</td>\n",
       "    </tr>\n",
       "  </tbody>\n",
       "</table>\n",
       "</div>"
      ],
      "text/plain": [
       "                   A         B         C         D     E\n",
       "2021-01-02 -0.306443 -0.025069  0.591461 -0.425744   two\n",
       "2021-01-05 -0.330465 -1.323374  0.650460  0.853393  five"
      ]
     },
     "execution_count": 499,
     "metadata": {},
     "output_type": "execute_result"
    }
   ],
   "source": [
    "df[df[\"E\"].isin([\"two\", \"five\"])]  #마스킹: 조건 True 값 반환"
   ]
  },
  {
   "cell_type": "markdown",
   "id": "fa7afb09",
   "metadata": {},
   "source": [
    "### 특정 컬럼 제거"
   ]
  },
  {
   "cell_type": "code",
   "execution_count": 500,
   "id": "8c0062fe",
   "metadata": {},
   "outputs": [
    {
     "data": {
      "text/html": [
       "<div>\n",
       "<style scoped>\n",
       "    .dataframe tbody tr th:only-of-type {\n",
       "        vertical-align: middle;\n",
       "    }\n",
       "\n",
       "    .dataframe tbody tr th {\n",
       "        vertical-align: top;\n",
       "    }\n",
       "\n",
       "    .dataframe thead th {\n",
       "        text-align: right;\n",
       "    }\n",
       "</style>\n",
       "<table border=\"1\" class=\"dataframe\">\n",
       "  <thead>\n",
       "    <tr style=\"text-align: right;\">\n",
       "      <th></th>\n",
       "      <th>A</th>\n",
       "      <th>B</th>\n",
       "      <th>C</th>\n",
       "      <th>D</th>\n",
       "      <th>E</th>\n",
       "    </tr>\n",
       "  </thead>\n",
       "  <tbody>\n",
       "    <tr>\n",
       "      <th>2021-01-01</th>\n",
       "      <td>-0.599929</td>\n",
       "      <td>-0.724076</td>\n",
       "      <td>0.058695</td>\n",
       "      <td>-1.262059</td>\n",
       "      <td>one</td>\n",
       "    </tr>\n",
       "    <tr>\n",
       "      <th>2021-01-02</th>\n",
       "      <td>-0.306443</td>\n",
       "      <td>-0.025069</td>\n",
       "      <td>0.591461</td>\n",
       "      <td>-0.425744</td>\n",
       "      <td>two</td>\n",
       "    </tr>\n",
       "    <tr>\n",
       "      <th>2021-01-03</th>\n",
       "      <td>-0.691885</td>\n",
       "      <td>-1.981428</td>\n",
       "      <td>-0.319261</td>\n",
       "      <td>-0.113423</td>\n",
       "      <td>one</td>\n",
       "    </tr>\n",
       "    <tr>\n",
       "      <th>2021-01-04</th>\n",
       "      <td>1.437539</td>\n",
       "      <td>-0.568446</td>\n",
       "      <td>1.384355</td>\n",
       "      <td>0.147224</td>\n",
       "      <td>four</td>\n",
       "    </tr>\n",
       "    <tr>\n",
       "      <th>2021-01-05</th>\n",
       "      <td>-0.330465</td>\n",
       "      <td>-1.323374</td>\n",
       "      <td>0.650460</td>\n",
       "      <td>0.853393</td>\n",
       "      <td>five</td>\n",
       "    </tr>\n",
       "    <tr>\n",
       "      <th>2021-01-06</th>\n",
       "      <td>-1.176255</td>\n",
       "      <td>0.259562</td>\n",
       "      <td>1.282455</td>\n",
       "      <td>-0.313638</td>\n",
       "      <td>six</td>\n",
       "    </tr>\n",
       "  </tbody>\n",
       "</table>\n",
       "</div>"
      ],
      "text/plain": [
       "                   A         B         C         D     E\n",
       "2021-01-01 -0.599929 -0.724076  0.058695 -1.262059   one\n",
       "2021-01-02 -0.306443 -0.025069  0.591461 -0.425744   two\n",
       "2021-01-03 -0.691885 -1.981428 -0.319261 -0.113423   one\n",
       "2021-01-04  1.437539 -0.568446  1.384355  0.147224  four\n",
       "2021-01-05 -0.330465 -1.323374  0.650460  0.853393  five\n",
       "2021-01-06 -1.176255  0.259562  1.282455 -0.313638   six"
      ]
     },
     "execution_count": 500,
     "metadata": {},
     "output_type": "execute_result"
    }
   ],
   "source": [
    "df"
   ]
  },
  {
   "cell_type": "code",
   "execution_count": 501,
   "id": "3787e037",
   "metadata": {},
   "outputs": [
    {
     "data": {
      "text/html": [
       "<div>\n",
       "<style scoped>\n",
       "    .dataframe tbody tr th:only-of-type {\n",
       "        vertical-align: middle;\n",
       "    }\n",
       "\n",
       "    .dataframe tbody tr th {\n",
       "        vertical-align: top;\n",
       "    }\n",
       "\n",
       "    .dataframe thead th {\n",
       "        text-align: right;\n",
       "    }\n",
       "</style>\n",
       "<table border=\"1\" class=\"dataframe\">\n",
       "  <thead>\n",
       "    <tr style=\"text-align: right;\">\n",
       "      <th></th>\n",
       "      <th>A</th>\n",
       "      <th>B</th>\n",
       "      <th>C</th>\n",
       "      <th>D</th>\n",
       "    </tr>\n",
       "  </thead>\n",
       "  <tbody>\n",
       "    <tr>\n",
       "      <th>2021-01-01</th>\n",
       "      <td>-0.599929</td>\n",
       "      <td>-0.724076</td>\n",
       "      <td>0.058695</td>\n",
       "      <td>-1.262059</td>\n",
       "    </tr>\n",
       "    <tr>\n",
       "      <th>2021-01-02</th>\n",
       "      <td>-0.306443</td>\n",
       "      <td>-0.025069</td>\n",
       "      <td>0.591461</td>\n",
       "      <td>-0.425744</td>\n",
       "    </tr>\n",
       "    <tr>\n",
       "      <th>2021-01-03</th>\n",
       "      <td>-0.691885</td>\n",
       "      <td>-1.981428</td>\n",
       "      <td>-0.319261</td>\n",
       "      <td>-0.113423</td>\n",
       "    </tr>\n",
       "    <tr>\n",
       "      <th>2021-01-04</th>\n",
       "      <td>1.437539</td>\n",
       "      <td>-0.568446</td>\n",
       "      <td>1.384355</td>\n",
       "      <td>0.147224</td>\n",
       "    </tr>\n",
       "    <tr>\n",
       "      <th>2021-01-05</th>\n",
       "      <td>-0.330465</td>\n",
       "      <td>-1.323374</td>\n",
       "      <td>0.650460</td>\n",
       "      <td>0.853393</td>\n",
       "    </tr>\n",
       "    <tr>\n",
       "      <th>2021-01-06</th>\n",
       "      <td>-1.176255</td>\n",
       "      <td>0.259562</td>\n",
       "      <td>1.282455</td>\n",
       "      <td>-0.313638</td>\n",
       "    </tr>\n",
       "  </tbody>\n",
       "</table>\n",
       "</div>"
      ],
      "text/plain": [
       "                   A         B         C         D\n",
       "2021-01-01 -0.599929 -0.724076  0.058695 -1.262059\n",
       "2021-01-02 -0.306443 -0.025069  0.591461 -0.425744\n",
       "2021-01-03 -0.691885 -1.981428 -0.319261 -0.113423\n",
       "2021-01-04  1.437539 -0.568446  1.384355  0.147224\n",
       "2021-01-05 -0.330465 -1.323374  0.650460  0.853393\n",
       "2021-01-06 -1.176255  0.259562  1.282455 -0.313638"
      ]
     },
     "execution_count": 501,
     "metadata": {},
     "output_type": "execute_result"
    }
   ],
   "source": [
    "del df[\"E\"]\n",
    "df"
   ]
  },
  {
   "cell_type": "code",
   "execution_count": 502,
   "id": "463b9acb",
   "metadata": {},
   "outputs": [
    {
     "data": {
      "text/html": [
       "<div>\n",
       "<style scoped>\n",
       "    .dataframe tbody tr th:only-of-type {\n",
       "        vertical-align: middle;\n",
       "    }\n",
       "\n",
       "    .dataframe tbody tr th {\n",
       "        vertical-align: top;\n",
       "    }\n",
       "\n",
       "    .dataframe thead th {\n",
       "        text-align: right;\n",
       "    }\n",
       "</style>\n",
       "<table border=\"1\" class=\"dataframe\">\n",
       "  <thead>\n",
       "    <tr style=\"text-align: right;\">\n",
       "      <th></th>\n",
       "      <th>A</th>\n",
       "      <th>B</th>\n",
       "      <th>C</th>\n",
       "      <th>D</th>\n",
       "    </tr>\n",
       "  </thead>\n",
       "  <tbody>\n",
       "    <tr>\n",
       "      <th>2021-01-01</th>\n",
       "      <td>-0.599929</td>\n",
       "      <td>-0.724076</td>\n",
       "      <td>0.058695</td>\n",
       "      <td>-1.262059</td>\n",
       "    </tr>\n",
       "    <tr>\n",
       "      <th>2021-01-02</th>\n",
       "      <td>-0.306443</td>\n",
       "      <td>-0.025069</td>\n",
       "      <td>0.591461</td>\n",
       "      <td>-0.425744</td>\n",
       "    </tr>\n",
       "    <tr>\n",
       "      <th>2021-01-03</th>\n",
       "      <td>-0.691885</td>\n",
       "      <td>-1.981428</td>\n",
       "      <td>-0.319261</td>\n",
       "      <td>-0.113423</td>\n",
       "    </tr>\n",
       "    <tr>\n",
       "      <th>2021-01-04</th>\n",
       "      <td>1.437539</td>\n",
       "      <td>-0.568446</td>\n",
       "      <td>1.384355</td>\n",
       "      <td>0.147224</td>\n",
       "    </tr>\n",
       "    <tr>\n",
       "      <th>2021-01-05</th>\n",
       "      <td>-0.330465</td>\n",
       "      <td>-1.323374</td>\n",
       "      <td>0.650460</td>\n",
       "      <td>0.853393</td>\n",
       "    </tr>\n",
       "    <tr>\n",
       "      <th>2021-01-06</th>\n",
       "      <td>-1.176255</td>\n",
       "      <td>0.259562</td>\n",
       "      <td>1.282455</td>\n",
       "      <td>-0.313638</td>\n",
       "    </tr>\n",
       "  </tbody>\n",
       "</table>\n",
       "</div>"
      ],
      "text/plain": [
       "                   A         B         C         D\n",
       "2021-01-01 -0.599929 -0.724076  0.058695 -1.262059\n",
       "2021-01-02 -0.306443 -0.025069  0.591461 -0.425744\n",
       "2021-01-03 -0.691885 -1.981428 -0.319261 -0.113423\n",
       "2021-01-04  1.437539 -0.568446  1.384355  0.147224\n",
       "2021-01-05 -0.330465 -1.323374  0.650460  0.853393\n",
       "2021-01-06 -1.176255  0.259562  1.282455 -0.313638"
      ]
     },
     "execution_count": 502,
     "metadata": {},
     "output_type": "execute_result"
    }
   ],
   "source": [
    "df"
   ]
  },
  {
   "cell_type": "code",
   "execution_count": 503,
   "id": "12e70ac4",
   "metadata": {},
   "outputs": [
    {
     "data": {
      "text/html": [
       "<div>\n",
       "<style scoped>\n",
       "    .dataframe tbody tr th:only-of-type {\n",
       "        vertical-align: middle;\n",
       "    }\n",
       "\n",
       "    .dataframe tbody tr th {\n",
       "        vertical-align: top;\n",
       "    }\n",
       "\n",
       "    .dataframe thead th {\n",
       "        text-align: right;\n",
       "    }\n",
       "</style>\n",
       "<table border=\"1\" class=\"dataframe\">\n",
       "  <thead>\n",
       "    <tr style=\"text-align: right;\">\n",
       "      <th></th>\n",
       "      <th>A</th>\n",
       "      <th>B</th>\n",
       "      <th>C</th>\n",
       "    </tr>\n",
       "  </thead>\n",
       "  <tbody>\n",
       "    <tr>\n",
       "      <th>2021-01-01</th>\n",
       "      <td>-0.599929</td>\n",
       "      <td>-0.724076</td>\n",
       "      <td>0.058695</td>\n",
       "    </tr>\n",
       "    <tr>\n",
       "      <th>2021-01-02</th>\n",
       "      <td>-0.306443</td>\n",
       "      <td>-0.025069</td>\n",
       "      <td>0.591461</td>\n",
       "    </tr>\n",
       "    <tr>\n",
       "      <th>2021-01-03</th>\n",
       "      <td>-0.691885</td>\n",
       "      <td>-1.981428</td>\n",
       "      <td>-0.319261</td>\n",
       "    </tr>\n",
       "    <tr>\n",
       "      <th>2021-01-04</th>\n",
       "      <td>1.437539</td>\n",
       "      <td>-0.568446</td>\n",
       "      <td>1.384355</td>\n",
       "    </tr>\n",
       "    <tr>\n",
       "      <th>2021-01-05</th>\n",
       "      <td>-0.330465</td>\n",
       "      <td>-1.323374</td>\n",
       "      <td>0.650460</td>\n",
       "    </tr>\n",
       "    <tr>\n",
       "      <th>2021-01-06</th>\n",
       "      <td>-1.176255</td>\n",
       "      <td>0.259562</td>\n",
       "      <td>1.282455</td>\n",
       "    </tr>\n",
       "  </tbody>\n",
       "</table>\n",
       "</div>"
      ],
      "text/plain": [
       "                   A         B         C\n",
       "2021-01-01 -0.599929 -0.724076  0.058695\n",
       "2021-01-02 -0.306443 -0.025069  0.591461\n",
       "2021-01-03 -0.691885 -1.981428 -0.319261\n",
       "2021-01-04  1.437539 -0.568446  1.384355\n",
       "2021-01-05 -0.330465 -1.323374  0.650460\n",
       "2021-01-06 -1.176255  0.259562  1.282455"
      ]
     },
     "execution_count": 503,
     "metadata": {},
     "output_type": "execute_result"
    }
   ],
   "source": [
    "df.drop([\"D\"], axis=1)  #axis=0 가로(행), axis=1 세로(열)"
   ]
  },
  {
   "cell_type": "code",
   "execution_count": 504,
   "id": "4275380a",
   "metadata": {},
   "outputs": [
    {
     "data": {
      "text/html": [
       "<div>\n",
       "<style scoped>\n",
       "    .dataframe tbody tr th:only-of-type {\n",
       "        vertical-align: middle;\n",
       "    }\n",
       "\n",
       "    .dataframe tbody tr th {\n",
       "        vertical-align: top;\n",
       "    }\n",
       "\n",
       "    .dataframe thead th {\n",
       "        text-align: right;\n",
       "    }\n",
       "</style>\n",
       "<table border=\"1\" class=\"dataframe\">\n",
       "  <thead>\n",
       "    <tr style=\"text-align: right;\">\n",
       "      <th></th>\n",
       "      <th>A</th>\n",
       "      <th>B</th>\n",
       "      <th>C</th>\n",
       "      <th>D</th>\n",
       "    </tr>\n",
       "  </thead>\n",
       "  <tbody>\n",
       "    <tr>\n",
       "      <th>2021-01-01</th>\n",
       "      <td>-0.599929</td>\n",
       "      <td>-0.724076</td>\n",
       "      <td>0.058695</td>\n",
       "      <td>-1.262059</td>\n",
       "    </tr>\n",
       "    <tr>\n",
       "      <th>2021-01-02</th>\n",
       "      <td>-0.306443</td>\n",
       "      <td>-0.025069</td>\n",
       "      <td>0.591461</td>\n",
       "      <td>-0.425744</td>\n",
       "    </tr>\n",
       "    <tr>\n",
       "      <th>2021-01-03</th>\n",
       "      <td>-0.691885</td>\n",
       "      <td>-1.981428</td>\n",
       "      <td>-0.319261</td>\n",
       "      <td>-0.113423</td>\n",
       "    </tr>\n",
       "    <tr>\n",
       "      <th>2021-01-04</th>\n",
       "      <td>1.437539</td>\n",
       "      <td>-0.568446</td>\n",
       "      <td>1.384355</td>\n",
       "      <td>0.147224</td>\n",
       "    </tr>\n",
       "    <tr>\n",
       "      <th>2021-01-05</th>\n",
       "      <td>-0.330465</td>\n",
       "      <td>-1.323374</td>\n",
       "      <td>0.650460</td>\n",
       "      <td>0.853393</td>\n",
       "    </tr>\n",
       "    <tr>\n",
       "      <th>2021-01-06</th>\n",
       "      <td>-1.176255</td>\n",
       "      <td>0.259562</td>\n",
       "      <td>1.282455</td>\n",
       "      <td>-0.313638</td>\n",
       "    </tr>\n",
       "  </tbody>\n",
       "</table>\n",
       "</div>"
      ],
      "text/plain": [
       "                   A         B         C         D\n",
       "2021-01-01 -0.599929 -0.724076  0.058695 -1.262059\n",
       "2021-01-02 -0.306443 -0.025069  0.591461 -0.425744\n",
       "2021-01-03 -0.691885 -1.981428 -0.319261 -0.113423\n",
       "2021-01-04  1.437539 -0.568446  1.384355  0.147224\n",
       "2021-01-05 -0.330465 -1.323374  0.650460  0.853393\n",
       "2021-01-06 -1.176255  0.259562  1.282455 -0.313638"
      ]
     },
     "execution_count": 504,
     "metadata": {},
     "output_type": "execute_result"
    }
   ],
   "source": [
    "df"
   ]
  },
  {
   "cell_type": "code",
   "execution_count": 505,
   "id": "c0accf09",
   "metadata": {},
   "outputs": [
    {
     "data": {
      "text/html": [
       "<div>\n",
       "<style scoped>\n",
       "    .dataframe tbody tr th:only-of-type {\n",
       "        vertical-align: middle;\n",
       "    }\n",
       "\n",
       "    .dataframe tbody tr th {\n",
       "        vertical-align: top;\n",
       "    }\n",
       "\n",
       "    .dataframe thead th {\n",
       "        text-align: right;\n",
       "    }\n",
       "</style>\n",
       "<table border=\"1\" class=\"dataframe\">\n",
       "  <thead>\n",
       "    <tr style=\"text-align: right;\">\n",
       "      <th></th>\n",
       "      <th>A</th>\n",
       "      <th>B</th>\n",
       "      <th>C</th>\n",
       "      <th>D</th>\n",
       "    </tr>\n",
       "  </thead>\n",
       "  <tbody>\n",
       "    <tr>\n",
       "      <th>2021-01-01</th>\n",
       "      <td>-0.599929</td>\n",
       "      <td>-0.724076</td>\n",
       "      <td>0.058695</td>\n",
       "      <td>-1.262059</td>\n",
       "    </tr>\n",
       "    <tr>\n",
       "      <th>2021-01-02</th>\n",
       "      <td>-0.306443</td>\n",
       "      <td>-0.025069</td>\n",
       "      <td>0.591461</td>\n",
       "      <td>-0.425744</td>\n",
       "    </tr>\n",
       "    <tr>\n",
       "      <th>2021-01-03</th>\n",
       "      <td>-0.691885</td>\n",
       "      <td>-1.981428</td>\n",
       "      <td>-0.319261</td>\n",
       "      <td>-0.113423</td>\n",
       "    </tr>\n",
       "    <tr>\n",
       "      <th>2021-01-05</th>\n",
       "      <td>-0.330465</td>\n",
       "      <td>-1.323374</td>\n",
       "      <td>0.650460</td>\n",
       "      <td>0.853393</td>\n",
       "    </tr>\n",
       "    <tr>\n",
       "      <th>2021-01-06</th>\n",
       "      <td>-1.176255</td>\n",
       "      <td>0.259562</td>\n",
       "      <td>1.282455</td>\n",
       "      <td>-0.313638</td>\n",
       "    </tr>\n",
       "  </tbody>\n",
       "</table>\n",
       "</div>"
      ],
      "text/plain": [
       "                   A         B         C         D\n",
       "2021-01-01 -0.599929 -0.724076  0.058695 -1.262059\n",
       "2021-01-02 -0.306443 -0.025069  0.591461 -0.425744\n",
       "2021-01-03 -0.691885 -1.981428 -0.319261 -0.113423\n",
       "2021-01-05 -0.330465 -1.323374  0.650460  0.853393\n",
       "2021-01-06 -1.176255  0.259562  1.282455 -0.313638"
      ]
     },
     "execution_count": 505,
     "metadata": {},
     "output_type": "execute_result"
    }
   ],
   "source": [
    "df.drop([\"20210104\"], axis=0)"
   ]
  },
  {
   "cell_type": "markdown",
   "id": "026aa58c",
   "metadata": {},
   "source": [
    "### apply()"
   ]
  },
  {
   "cell_type": "code",
   "execution_count": 506,
   "id": "3d055003",
   "metadata": {},
   "outputs": [
    {
     "data": {
      "text/html": [
       "<div>\n",
       "<style scoped>\n",
       "    .dataframe tbody tr th:only-of-type {\n",
       "        vertical-align: middle;\n",
       "    }\n",
       "\n",
       "    .dataframe tbody tr th {\n",
       "        vertical-align: top;\n",
       "    }\n",
       "\n",
       "    .dataframe thead th {\n",
       "        text-align: right;\n",
       "    }\n",
       "</style>\n",
       "<table border=\"1\" class=\"dataframe\">\n",
       "  <thead>\n",
       "    <tr style=\"text-align: right;\">\n",
       "      <th></th>\n",
       "      <th>A</th>\n",
       "      <th>B</th>\n",
       "      <th>C</th>\n",
       "      <th>D</th>\n",
       "    </tr>\n",
       "  </thead>\n",
       "  <tbody>\n",
       "    <tr>\n",
       "      <th>2021-01-01</th>\n",
       "      <td>-0.599929</td>\n",
       "      <td>-0.724076</td>\n",
       "      <td>0.058695</td>\n",
       "      <td>-1.262059</td>\n",
       "    </tr>\n",
       "    <tr>\n",
       "      <th>2021-01-02</th>\n",
       "      <td>-0.306443</td>\n",
       "      <td>-0.025069</td>\n",
       "      <td>0.591461</td>\n",
       "      <td>-0.425744</td>\n",
       "    </tr>\n",
       "    <tr>\n",
       "      <th>2021-01-03</th>\n",
       "      <td>-0.691885</td>\n",
       "      <td>-1.981428</td>\n",
       "      <td>-0.319261</td>\n",
       "      <td>-0.113423</td>\n",
       "    </tr>\n",
       "    <tr>\n",
       "      <th>2021-01-04</th>\n",
       "      <td>1.437539</td>\n",
       "      <td>-0.568446</td>\n",
       "      <td>1.384355</td>\n",
       "      <td>0.147224</td>\n",
       "    </tr>\n",
       "    <tr>\n",
       "      <th>2021-01-05</th>\n",
       "      <td>-0.330465</td>\n",
       "      <td>-1.323374</td>\n",
       "      <td>0.650460</td>\n",
       "      <td>0.853393</td>\n",
       "    </tr>\n",
       "    <tr>\n",
       "      <th>2021-01-06</th>\n",
       "      <td>-1.176255</td>\n",
       "      <td>0.259562</td>\n",
       "      <td>1.282455</td>\n",
       "      <td>-0.313638</td>\n",
       "    </tr>\n",
       "  </tbody>\n",
       "</table>\n",
       "</div>"
      ],
      "text/plain": [
       "                   A         B         C         D\n",
       "2021-01-01 -0.599929 -0.724076  0.058695 -1.262059\n",
       "2021-01-02 -0.306443 -0.025069  0.591461 -0.425744\n",
       "2021-01-03 -0.691885 -1.981428 -0.319261 -0.113423\n",
       "2021-01-04  1.437539 -0.568446  1.384355  0.147224\n",
       "2021-01-05 -0.330465 -1.323374  0.650460  0.853393\n",
       "2021-01-06 -1.176255  0.259562  1.282455 -0.313638"
      ]
     },
     "execution_count": 506,
     "metadata": {},
     "output_type": "execute_result"
    }
   ],
   "source": [
    "df"
   ]
  },
  {
   "cell_type": "code",
   "execution_count": 507,
   "id": "de1653e4",
   "metadata": {},
   "outputs": [
    {
     "data": {
      "text/plain": [
       "-1.667437347060811"
      ]
     },
     "execution_count": 507,
     "metadata": {},
     "output_type": "execute_result"
    }
   ],
   "source": [
    "df[\"A\"].apply(\"sum\")"
   ]
  },
  {
   "cell_type": "code",
   "execution_count": 508,
   "id": "0c8611ff",
   "metadata": {},
   "outputs": [
    {
     "data": {
      "text/plain": [
       "-0.2779062245101352"
      ]
     },
     "execution_count": 508,
     "metadata": {},
     "output_type": "execute_result"
    }
   ],
   "source": [
    "df[\"A\"].apply(\"mean\")  #평균"
   ]
  },
  {
   "cell_type": "code",
   "execution_count": 509,
   "id": "ca48988b",
   "metadata": {},
   "outputs": [
    {
     "data": {
      "text/plain": [
       "(-1.1762548869561391, 1.4375390772545538)"
      ]
     },
     "execution_count": 509,
     "metadata": {},
     "output_type": "execute_result"
    }
   ],
   "source": [
    "df[\"A\"].apply(\"min\"), df[\"A\"].apply(\"max\")"
   ]
  },
  {
   "cell_type": "code",
   "execution_count": 510,
   "id": "f2bddef0",
   "metadata": {},
   "outputs": [
    {
     "data": {
      "text/plain": [
       "A   -1.667437\n",
       "D   -1.114245\n",
       "dtype: float64"
      ]
     },
     "execution_count": 510,
     "metadata": {},
     "output_type": "execute_result"
    }
   ],
   "source": [
    "df[[\"A\",\"D\"]].apply(\"sum\")"
   ]
  },
  {
   "cell_type": "code",
   "execution_count": 511,
   "id": "5ce33800",
   "metadata": {},
   "outputs": [
    {
     "data": {
      "text/plain": [
       "A   -1.667437\n",
       "B   -4.362831\n",
       "C    3.648165\n",
       "D   -1.114245\n",
       "dtype: float64"
      ]
     },
     "execution_count": 511,
     "metadata": {},
     "output_type": "execute_result"
    }
   ],
   "source": [
    "df.apply(np.sum)"
   ]
  },
  {
   "cell_type": "code",
   "execution_count": 512,
   "id": "770a0e95",
   "metadata": {},
   "outputs": [
    {
     "data": {
      "text/plain": [
       "A   -0.277906\n",
       "B   -0.727138\n",
       "C    0.608027\n",
       "D   -0.185707\n",
       "dtype: float64"
      ]
     },
     "execution_count": 512,
     "metadata": {},
     "output_type": "execute_result"
    }
   ],
   "source": [
    "df.apply(np.mean)  #평균"
   ]
  },
  {
   "cell_type": "code",
   "execution_count": 513,
   "id": "174e44a8",
   "metadata": {},
   "outputs": [
    {
     "data": {
      "text/plain": [
       "A    0.819394\n",
       "B    0.755029\n",
       "C    0.608447\n",
       "D    0.636175\n",
       "dtype: float64"
      ]
     },
     "execution_count": 513,
     "metadata": {},
     "output_type": "execute_result"
    }
   ],
   "source": [
    "df.apply(np.std)  #표준편차"
   ]
  },
  {
   "cell_type": "code",
   "execution_count": 514,
   "id": "e4f9a49e",
   "metadata": {},
   "outputs": [
    {
     "data": {
      "text/html": [
       "<div>\n",
       "<style scoped>\n",
       "    .dataframe tbody tr th:only-of-type {\n",
       "        vertical-align: middle;\n",
       "    }\n",
       "\n",
       "    .dataframe tbody tr th {\n",
       "        vertical-align: top;\n",
       "    }\n",
       "\n",
       "    .dataframe thead th {\n",
       "        text-align: right;\n",
       "    }\n",
       "</style>\n",
       "<table border=\"1\" class=\"dataframe\">\n",
       "  <thead>\n",
       "    <tr style=\"text-align: right;\">\n",
       "      <th></th>\n",
       "      <th>A</th>\n",
       "      <th>B</th>\n",
       "      <th>C</th>\n",
       "      <th>D</th>\n",
       "    </tr>\n",
       "  </thead>\n",
       "  <tbody>\n",
       "    <tr>\n",
       "      <th>2021-01-01</th>\n",
       "      <td>-0.599929</td>\n",
       "      <td>-0.724076</td>\n",
       "      <td>0.058695</td>\n",
       "      <td>-1.262059</td>\n",
       "    </tr>\n",
       "    <tr>\n",
       "      <th>2021-01-02</th>\n",
       "      <td>-0.306443</td>\n",
       "      <td>-0.025069</td>\n",
       "      <td>0.591461</td>\n",
       "      <td>-0.425744</td>\n",
       "    </tr>\n",
       "    <tr>\n",
       "      <th>2021-01-03</th>\n",
       "      <td>-0.691885</td>\n",
       "      <td>-1.981428</td>\n",
       "      <td>-0.319261</td>\n",
       "      <td>-0.113423</td>\n",
       "    </tr>\n",
       "    <tr>\n",
       "      <th>2021-01-04</th>\n",
       "      <td>1.437539</td>\n",
       "      <td>-0.568446</td>\n",
       "      <td>1.384355</td>\n",
       "      <td>0.147224</td>\n",
       "    </tr>\n",
       "    <tr>\n",
       "      <th>2021-01-05</th>\n",
       "      <td>-0.330465</td>\n",
       "      <td>-1.323374</td>\n",
       "      <td>0.650460</td>\n",
       "      <td>0.853393</td>\n",
       "    </tr>\n",
       "    <tr>\n",
       "      <th>2021-01-06</th>\n",
       "      <td>-1.176255</td>\n",
       "      <td>0.259562</td>\n",
       "      <td>1.282455</td>\n",
       "      <td>-0.313638</td>\n",
       "    </tr>\n",
       "  </tbody>\n",
       "</table>\n",
       "</div>"
      ],
      "text/plain": [
       "                   A         B         C         D\n",
       "2021-01-01 -0.599929 -0.724076  0.058695 -1.262059\n",
       "2021-01-02 -0.306443 -0.025069  0.591461 -0.425744\n",
       "2021-01-03 -0.691885 -1.981428 -0.319261 -0.113423\n",
       "2021-01-04  1.437539 -0.568446  1.384355  0.147224\n",
       "2021-01-05 -0.330465 -1.323374  0.650460  0.853393\n",
       "2021-01-06 -1.176255  0.259562  1.282455 -0.313638"
      ]
     },
     "execution_count": 514,
     "metadata": {},
     "output_type": "execute_result"
    }
   ],
   "source": [
    "df"
   ]
  },
  {
   "cell_type": "code",
   "execution_count": 515,
   "id": "17d5b051",
   "metadata": {},
   "outputs": [],
   "source": [
    "#def로 함수 만들기\n",
    "def plusminus(num):\n",
    "    return \"plus\" if num > 0 else \"minus\""
   ]
  },
  {
   "cell_type": "code",
   "execution_count": 516,
   "id": "8e706f4c",
   "metadata": {},
   "outputs": [
    {
     "data": {
      "text/plain": [
       "2021-01-01    minus\n",
       "2021-01-02    minus\n",
       "2021-01-03    minus\n",
       "2021-01-04     plus\n",
       "2021-01-05    minus\n",
       "2021-01-06    minus\n",
       "Freq: D, Name: A, dtype: object"
      ]
     },
     "execution_count": 516,
     "metadata": {},
     "output_type": "execute_result"
    }
   ],
   "source": [
    "df[\"A\"].apply(plusminus)  #apply(함수)로 적용"
   ]
  },
  {
   "cell_type": "code",
   "execution_count": 517,
   "id": "7b331a15",
   "metadata": {},
   "outputs": [
    {
     "data": {
      "text/plain": [
       "2021-01-01    minus\n",
       "2021-01-02    minus\n",
       "2021-01-03    minus\n",
       "2021-01-04     plus\n",
       "2021-01-05    minus\n",
       "2021-01-06    minus\n",
       "Freq: D, Name: A, dtype: object"
      ]
     },
     "execution_count": 517,
     "metadata": {},
     "output_type": "execute_result"
    }
   ],
   "source": [
    "#lambda 함수\n",
    "df[\"A\"].apply(lambda num: \"plus\" if num > 0 else \"minus\")"
   ]
  },
  {
   "cell_type": "markdown",
   "id": "ae529bf7",
   "metadata": {},
   "source": [
    "---"
   ]
  },
  {
   "cell_type": "markdown",
   "id": "8ee242fd",
   "metadata": {},
   "source": [
    "## 2. CCTV 데이터 훑어보기"
   ]
  },
  {
   "cell_type": "code",
   "execution_count": 518,
   "id": "46b66558",
   "metadata": {},
   "outputs": [
    {
     "data": {
      "text/html": [
       "<div>\n",
       "<style scoped>\n",
       "    .dataframe tbody tr th:only-of-type {\n",
       "        vertical-align: middle;\n",
       "    }\n",
       "\n",
       "    .dataframe tbody tr th {\n",
       "        vertical-align: top;\n",
       "    }\n",
       "\n",
       "    .dataframe thead th {\n",
       "        text-align: right;\n",
       "    }\n",
       "</style>\n",
       "<table border=\"1\" class=\"dataframe\">\n",
       "  <thead>\n",
       "    <tr style=\"text-align: right;\">\n",
       "      <th></th>\n",
       "      <th>구별</th>\n",
       "      <th>소계</th>\n",
       "      <th>2013년도 이전</th>\n",
       "      <th>2014년</th>\n",
       "      <th>2015년</th>\n",
       "      <th>2016년</th>\n",
       "    </tr>\n",
       "  </thead>\n",
       "  <tbody>\n",
       "    <tr>\n",
       "      <th>0</th>\n",
       "      <td>강남구</td>\n",
       "      <td>3238</td>\n",
       "      <td>1292</td>\n",
       "      <td>430</td>\n",
       "      <td>584</td>\n",
       "      <td>932</td>\n",
       "    </tr>\n",
       "    <tr>\n",
       "      <th>1</th>\n",
       "      <td>강동구</td>\n",
       "      <td>1010</td>\n",
       "      <td>379</td>\n",
       "      <td>99</td>\n",
       "      <td>155</td>\n",
       "      <td>377</td>\n",
       "    </tr>\n",
       "    <tr>\n",
       "      <th>2</th>\n",
       "      <td>강북구</td>\n",
       "      <td>831</td>\n",
       "      <td>369</td>\n",
       "      <td>120</td>\n",
       "      <td>138</td>\n",
       "      <td>204</td>\n",
       "    </tr>\n",
       "    <tr>\n",
       "      <th>3</th>\n",
       "      <td>강서구</td>\n",
       "      <td>911</td>\n",
       "      <td>388</td>\n",
       "      <td>258</td>\n",
       "      <td>184</td>\n",
       "      <td>81</td>\n",
       "    </tr>\n",
       "    <tr>\n",
       "      <th>4</th>\n",
       "      <td>관악구</td>\n",
       "      <td>2109</td>\n",
       "      <td>846</td>\n",
       "      <td>260</td>\n",
       "      <td>390</td>\n",
       "      <td>613</td>\n",
       "    </tr>\n",
       "  </tbody>\n",
       "</table>\n",
       "</div>"
      ],
      "text/plain": [
       "    구별    소계  2013년도 이전  2014년  2015년  2016년\n",
       "0  강남구  3238       1292    430    584    932\n",
       "1  강동구  1010        379     99    155    377\n",
       "2  강북구   831        369    120    138    204\n",
       "3  강서구   911        388    258    184     81\n",
       "4  관악구  2109        846    260    390    613"
      ]
     },
     "execution_count": 518,
     "metadata": {},
     "output_type": "execute_result"
    }
   ],
   "source": [
    "CCTV_Seoul.head()"
   ]
  },
  {
   "cell_type": "code",
   "execution_count": 519,
   "id": "c9c72d54",
   "metadata": {},
   "outputs": [
    {
     "data": {
      "text/html": [
       "<div>\n",
       "<style scoped>\n",
       "    .dataframe tbody tr th:only-of-type {\n",
       "        vertical-align: middle;\n",
       "    }\n",
       "\n",
       "    .dataframe tbody tr th {\n",
       "        vertical-align: top;\n",
       "    }\n",
       "\n",
       "    .dataframe thead th {\n",
       "        text-align: right;\n",
       "    }\n",
       "</style>\n",
       "<table border=\"1\" class=\"dataframe\">\n",
       "  <thead>\n",
       "    <tr style=\"text-align: right;\">\n",
       "      <th></th>\n",
       "      <th>구별</th>\n",
       "      <th>소계</th>\n",
       "      <th>2013년도 이전</th>\n",
       "      <th>2014년</th>\n",
       "      <th>2015년</th>\n",
       "      <th>2016년</th>\n",
       "    </tr>\n",
       "  </thead>\n",
       "  <tbody>\n",
       "    <tr>\n",
       "      <th>20</th>\n",
       "      <td>용산구</td>\n",
       "      <td>2096</td>\n",
       "      <td>1368</td>\n",
       "      <td>218</td>\n",
       "      <td>112</td>\n",
       "      <td>398</td>\n",
       "    </tr>\n",
       "    <tr>\n",
       "      <th>21</th>\n",
       "      <td>은평구</td>\n",
       "      <td>2108</td>\n",
       "      <td>1138</td>\n",
       "      <td>224</td>\n",
       "      <td>278</td>\n",
       "      <td>468</td>\n",
       "    </tr>\n",
       "    <tr>\n",
       "      <th>22</th>\n",
       "      <td>종로구</td>\n",
       "      <td>1619</td>\n",
       "      <td>464</td>\n",
       "      <td>314</td>\n",
       "      <td>211</td>\n",
       "      <td>630</td>\n",
       "    </tr>\n",
       "    <tr>\n",
       "      <th>23</th>\n",
       "      <td>중구</td>\n",
       "      <td>1023</td>\n",
       "      <td>413</td>\n",
       "      <td>190</td>\n",
       "      <td>72</td>\n",
       "      <td>348</td>\n",
       "    </tr>\n",
       "    <tr>\n",
       "      <th>24</th>\n",
       "      <td>중랑구</td>\n",
       "      <td>916</td>\n",
       "      <td>509</td>\n",
       "      <td>121</td>\n",
       "      <td>177</td>\n",
       "      <td>109</td>\n",
       "    </tr>\n",
       "  </tbody>\n",
       "</table>\n",
       "</div>"
      ],
      "text/plain": [
       "     구별    소계  2013년도 이전  2014년  2015년  2016년\n",
       "20  용산구  2096       1368    218    112    398\n",
       "21  은평구  2108       1138    224    278    468\n",
       "22  종로구  1619        464    314    211    630\n",
       "23   중구  1023        413    190     72    348\n",
       "24  중랑구   916        509    121    177    109"
      ]
     },
     "execution_count": 519,
     "metadata": {},
     "output_type": "execute_result"
    }
   ],
   "source": [
    "CCTV_Seoul.tail()   #head()와 tail()이 이 데이터가 25개의 데이터인 것을 파악"
   ]
  },
  {
   "cell_type": "code",
   "execution_count": 520,
   "id": "14fd93c2",
   "metadata": {},
   "outputs": [
    {
     "data": {
      "text/html": [
       "<div>\n",
       "<style scoped>\n",
       "    .dataframe tbody tr th:only-of-type {\n",
       "        vertical-align: middle;\n",
       "    }\n",
       "\n",
       "    .dataframe tbody tr th {\n",
       "        vertical-align: top;\n",
       "    }\n",
       "\n",
       "    .dataframe thead th {\n",
       "        text-align: right;\n",
       "    }\n",
       "</style>\n",
       "<table border=\"1\" class=\"dataframe\">\n",
       "  <thead>\n",
       "    <tr style=\"text-align: right;\">\n",
       "      <th></th>\n",
       "      <th>구별</th>\n",
       "      <th>소계</th>\n",
       "      <th>2013년도 이전</th>\n",
       "      <th>2014년</th>\n",
       "      <th>2015년</th>\n",
       "      <th>2016년</th>\n",
       "    </tr>\n",
       "  </thead>\n",
       "  <tbody>\n",
       "    <tr>\n",
       "      <th>9</th>\n",
       "      <td>도봉구</td>\n",
       "      <td>825</td>\n",
       "      <td>238</td>\n",
       "      <td>159</td>\n",
       "      <td>42</td>\n",
       "      <td>386</td>\n",
       "    </tr>\n",
       "    <tr>\n",
       "      <th>2</th>\n",
       "      <td>강북구</td>\n",
       "      <td>831</td>\n",
       "      <td>369</td>\n",
       "      <td>120</td>\n",
       "      <td>138</td>\n",
       "      <td>204</td>\n",
       "    </tr>\n",
       "    <tr>\n",
       "      <th>5</th>\n",
       "      <td>광진구</td>\n",
       "      <td>878</td>\n",
       "      <td>573</td>\n",
       "      <td>78</td>\n",
       "      <td>53</td>\n",
       "      <td>174</td>\n",
       "    </tr>\n",
       "    <tr>\n",
       "      <th>3</th>\n",
       "      <td>강서구</td>\n",
       "      <td>911</td>\n",
       "      <td>388</td>\n",
       "      <td>258</td>\n",
       "      <td>184</td>\n",
       "      <td>81</td>\n",
       "    </tr>\n",
       "    <tr>\n",
       "      <th>24</th>\n",
       "      <td>중랑구</td>\n",
       "      <td>916</td>\n",
       "      <td>509</td>\n",
       "      <td>121</td>\n",
       "      <td>177</td>\n",
       "      <td>109</td>\n",
       "    </tr>\n",
       "  </tbody>\n",
       "</table>\n",
       "</div>"
      ],
      "text/plain": [
       "     구별   소계  2013년도 이전  2014년  2015년  2016년\n",
       "9   도봉구  825        238    159     42    386\n",
       "2   강북구  831        369    120    138    204\n",
       "5   광진구  878        573     78     53    174\n",
       "3   강서구  911        388    258    184     81\n",
       "24  중랑구  916        509    121    177    109"
      ]
     },
     "execution_count": 520,
     "metadata": {},
     "output_type": "execute_result"
    }
   ],
   "source": [
    "CCTV_Seoul.sort_values(by=\"소계\", ascending=True).head(5)"
   ]
  },
  {
   "cell_type": "code",
   "execution_count": 521,
   "id": "14040f86",
   "metadata": {},
   "outputs": [
    {
     "data": {
      "text/html": [
       "<div>\n",
       "<style scoped>\n",
       "    .dataframe tbody tr th:only-of-type {\n",
       "        vertical-align: middle;\n",
       "    }\n",
       "\n",
       "    .dataframe tbody tr th {\n",
       "        vertical-align: top;\n",
       "    }\n",
       "\n",
       "    .dataframe thead th {\n",
       "        text-align: right;\n",
       "    }\n",
       "</style>\n",
       "<table border=\"1\" class=\"dataframe\">\n",
       "  <thead>\n",
       "    <tr style=\"text-align: right;\">\n",
       "      <th></th>\n",
       "      <th>구별</th>\n",
       "      <th>소계</th>\n",
       "      <th>2013년도 이전</th>\n",
       "      <th>2014년</th>\n",
       "      <th>2015년</th>\n",
       "      <th>2016년</th>\n",
       "    </tr>\n",
       "  </thead>\n",
       "  <tbody>\n",
       "    <tr>\n",
       "      <th>0</th>\n",
       "      <td>강남구</td>\n",
       "      <td>3238</td>\n",
       "      <td>1292</td>\n",
       "      <td>430</td>\n",
       "      <td>584</td>\n",
       "      <td>932</td>\n",
       "    </tr>\n",
       "    <tr>\n",
       "      <th>18</th>\n",
       "      <td>양천구</td>\n",
       "      <td>2482</td>\n",
       "      <td>1843</td>\n",
       "      <td>142</td>\n",
       "      <td>30</td>\n",
       "      <td>467</td>\n",
       "    </tr>\n",
       "    <tr>\n",
       "      <th>14</th>\n",
       "      <td>서초구</td>\n",
       "      <td>2297</td>\n",
       "      <td>1406</td>\n",
       "      <td>157</td>\n",
       "      <td>336</td>\n",
       "      <td>398</td>\n",
       "    </tr>\n",
       "    <tr>\n",
       "      <th>4</th>\n",
       "      <td>관악구</td>\n",
       "      <td>2109</td>\n",
       "      <td>846</td>\n",
       "      <td>260</td>\n",
       "      <td>390</td>\n",
       "      <td>613</td>\n",
       "    </tr>\n",
       "    <tr>\n",
       "      <th>21</th>\n",
       "      <td>은평구</td>\n",
       "      <td>2108</td>\n",
       "      <td>1138</td>\n",
       "      <td>224</td>\n",
       "      <td>278</td>\n",
       "      <td>468</td>\n",
       "    </tr>\n",
       "  </tbody>\n",
       "</table>\n",
       "</div>"
      ],
      "text/plain": [
       "     구별    소계  2013년도 이전  2014년  2015년  2016년\n",
       "0   강남구  3238       1292    430    584    932\n",
       "18  양천구  2482       1843    142     30    467\n",
       "14  서초구  2297       1406    157    336    398\n",
       "4   관악구  2109        846    260    390    613\n",
       "21  은평구  2108       1138    224    278    468"
      ]
     },
     "execution_count": 521,
     "metadata": {},
     "output_type": "execute_result"
    }
   ],
   "source": [
    "CCTV_Seoul.sort_values(by=\"소계\", ascending=False).head(5)"
   ]
  },
  {
   "cell_type": "code",
   "execution_count": 522,
   "id": "79ebf125",
   "metadata": {},
   "outputs": [
    {
     "data": {
      "text/html": [
       "<div>\n",
       "<style scoped>\n",
       "    .dataframe tbody tr th:only-of-type {\n",
       "        vertical-align: middle;\n",
       "    }\n",
       "\n",
       "    .dataframe tbody tr th {\n",
       "        vertical-align: top;\n",
       "    }\n",
       "\n",
       "    .dataframe thead th {\n",
       "        text-align: right;\n",
       "    }\n",
       "</style>\n",
       "<table border=\"1\" class=\"dataframe\">\n",
       "  <thead>\n",
       "    <tr style=\"text-align: right;\">\n",
       "      <th></th>\n",
       "      <th>구별</th>\n",
       "      <th>소계</th>\n",
       "      <th>2013년도 이전</th>\n",
       "      <th>2014년</th>\n",
       "      <th>2015년</th>\n",
       "      <th>2016년</th>\n",
       "      <th>최근증가율</th>\n",
       "    </tr>\n",
       "  </thead>\n",
       "  <tbody>\n",
       "    <tr>\n",
       "      <th>22</th>\n",
       "      <td>종로구</td>\n",
       "      <td>1619</td>\n",
       "      <td>464</td>\n",
       "      <td>314</td>\n",
       "      <td>211</td>\n",
       "      <td>630</td>\n",
       "      <td>248.922414</td>\n",
       "    </tr>\n",
       "    <tr>\n",
       "      <th>9</th>\n",
       "      <td>도봉구</td>\n",
       "      <td>825</td>\n",
       "      <td>238</td>\n",
       "      <td>159</td>\n",
       "      <td>42</td>\n",
       "      <td>386</td>\n",
       "      <td>246.638655</td>\n",
       "    </tr>\n",
       "    <tr>\n",
       "      <th>12</th>\n",
       "      <td>마포구</td>\n",
       "      <td>980</td>\n",
       "      <td>314</td>\n",
       "      <td>118</td>\n",
       "      <td>169</td>\n",
       "      <td>379</td>\n",
       "      <td>212.101911</td>\n",
       "    </tr>\n",
       "    <tr>\n",
       "      <th>8</th>\n",
       "      <td>노원구</td>\n",
       "      <td>1566</td>\n",
       "      <td>542</td>\n",
       "      <td>57</td>\n",
       "      <td>451</td>\n",
       "      <td>516</td>\n",
       "      <td>188.929889</td>\n",
       "    </tr>\n",
       "    <tr>\n",
       "      <th>1</th>\n",
       "      <td>강동구</td>\n",
       "      <td>1010</td>\n",
       "      <td>379</td>\n",
       "      <td>99</td>\n",
       "      <td>155</td>\n",
       "      <td>377</td>\n",
       "      <td>166.490765</td>\n",
       "    </tr>\n",
       "  </tbody>\n",
       "</table>\n",
       "</div>"
      ],
      "text/plain": [
       "     구별    소계  2013년도 이전  2014년  2015년  2016년       최근증가율\n",
       "22  종로구  1619        464    314    211    630  248.922414\n",
       "9   도봉구   825        238    159     42    386  246.638655\n",
       "12  마포구   980        314    118    169    379  212.101911\n",
       "8   노원구  1566        542     57    451    516  188.929889\n",
       "1   강동구  1010        379     99    155    377  166.490765"
      ]
     },
     "execution_count": 522,
     "metadata": {},
     "output_type": "execute_result"
    }
   ],
   "source": [
    "#기존 컬럼이 있으면 추가, 없으면 수정\n",
    "CCTV_Seoul[\"최근증가율\"] = (\n",
    "    (CCTV_Seoul[\"2016년\"] + CCTV_Seoul[\"2015년\"] + CCTV_Seoul[\"2014년\"]) / CCTV_Seoul[\"2013년도 이전\"] * 100\n",
    ")\n",
    "CCTV_Seoul.sort_values(by=\"최근증가율\", ascending=False).head()"
   ]
  },
  {
   "cell_type": "markdown",
   "id": "37eae8f9",
   "metadata": {},
   "source": [
    "## 3. 인구현황 데이터 훑어보기"
   ]
  },
  {
   "cell_type": "code",
   "execution_count": 523,
   "id": "5678bc18",
   "metadata": {},
   "outputs": [
    {
     "data": {
      "text/html": [
       "<div>\n",
       "<style scoped>\n",
       "    .dataframe tbody tr th:only-of-type {\n",
       "        vertical-align: middle;\n",
       "    }\n",
       "\n",
       "    .dataframe tbody tr th {\n",
       "        vertical-align: top;\n",
       "    }\n",
       "\n",
       "    .dataframe thead th {\n",
       "        text-align: right;\n",
       "    }\n",
       "</style>\n",
       "<table border=\"1\" class=\"dataframe\">\n",
       "  <thead>\n",
       "    <tr style=\"text-align: right;\">\n",
       "      <th></th>\n",
       "      <th>구별</th>\n",
       "      <th>인구수</th>\n",
       "      <th>한국인</th>\n",
       "      <th>외국인</th>\n",
       "      <th>고령자</th>\n",
       "    </tr>\n",
       "  </thead>\n",
       "  <tbody>\n",
       "    <tr>\n",
       "      <th>0</th>\n",
       "      <td>합계</td>\n",
       "      <td>10124579</td>\n",
       "      <td>9857426</td>\n",
       "      <td>267153</td>\n",
       "      <td>1365126</td>\n",
       "    </tr>\n",
       "    <tr>\n",
       "      <th>1</th>\n",
       "      <td>종로구</td>\n",
       "      <td>164257</td>\n",
       "      <td>154770</td>\n",
       "      <td>9487</td>\n",
       "      <td>26182</td>\n",
       "    </tr>\n",
       "    <tr>\n",
       "      <th>2</th>\n",
       "      <td>중구</td>\n",
       "      <td>134593</td>\n",
       "      <td>125709</td>\n",
       "      <td>8884</td>\n",
       "      <td>21384</td>\n",
       "    </tr>\n",
       "    <tr>\n",
       "      <th>3</th>\n",
       "      <td>용산구</td>\n",
       "      <td>244444</td>\n",
       "      <td>229161</td>\n",
       "      <td>15283</td>\n",
       "      <td>36882</td>\n",
       "    </tr>\n",
       "    <tr>\n",
       "      <th>4</th>\n",
       "      <td>성동구</td>\n",
       "      <td>312711</td>\n",
       "      <td>304808</td>\n",
       "      <td>7903</td>\n",
       "      <td>41273</td>\n",
       "    </tr>\n",
       "  </tbody>\n",
       "</table>\n",
       "</div>"
      ],
      "text/plain": [
       "    구별       인구수      한국인     외국인      고령자\n",
       "0   합계  10124579  9857426  267153  1365126\n",
       "1  종로구    164257   154770    9487    26182\n",
       "2   중구    134593   125709    8884    21384\n",
       "3  용산구    244444   229161   15283    36882\n",
       "4  성동구    312711   304808    7903    41273"
      ]
     },
     "execution_count": 523,
     "metadata": {},
     "output_type": "execute_result"
    }
   ],
   "source": [
    "pop_Seoul.head()"
   ]
  },
  {
   "cell_type": "code",
   "execution_count": 524,
   "id": "b5d13d53",
   "metadata": {},
   "outputs": [
    {
     "data": {
      "text/html": [
       "<div>\n",
       "<style scoped>\n",
       "    .dataframe tbody tr th:only-of-type {\n",
       "        vertical-align: middle;\n",
       "    }\n",
       "\n",
       "    .dataframe tbody tr th {\n",
       "        vertical-align: top;\n",
       "    }\n",
       "\n",
       "    .dataframe thead th {\n",
       "        text-align: right;\n",
       "    }\n",
       "</style>\n",
       "<table border=\"1\" class=\"dataframe\">\n",
       "  <thead>\n",
       "    <tr style=\"text-align: right;\">\n",
       "      <th></th>\n",
       "      <th>구별</th>\n",
       "      <th>인구수</th>\n",
       "      <th>한국인</th>\n",
       "      <th>외국인</th>\n",
       "      <th>고령자</th>\n",
       "    </tr>\n",
       "  </thead>\n",
       "  <tbody>\n",
       "    <tr>\n",
       "      <th>21</th>\n",
       "      <td>관악구</td>\n",
       "      <td>520929</td>\n",
       "      <td>503297</td>\n",
       "      <td>17632</td>\n",
       "      <td>70046</td>\n",
       "    </tr>\n",
       "    <tr>\n",
       "      <th>22</th>\n",
       "      <td>서초구</td>\n",
       "      <td>445401</td>\n",
       "      <td>441102</td>\n",
       "      <td>4299</td>\n",
       "      <td>53205</td>\n",
       "    </tr>\n",
       "    <tr>\n",
       "      <th>23</th>\n",
       "      <td>강남구</td>\n",
       "      <td>561052</td>\n",
       "      <td>556164</td>\n",
       "      <td>4888</td>\n",
       "      <td>65060</td>\n",
       "    </tr>\n",
       "    <tr>\n",
       "      <th>24</th>\n",
       "      <td>송파구</td>\n",
       "      <td>671173</td>\n",
       "      <td>664496</td>\n",
       "      <td>6677</td>\n",
       "      <td>76582</td>\n",
       "    </tr>\n",
       "    <tr>\n",
       "      <th>25</th>\n",
       "      <td>강동구</td>\n",
       "      <td>440359</td>\n",
       "      <td>436223</td>\n",
       "      <td>4136</td>\n",
       "      <td>56161</td>\n",
       "    </tr>\n",
       "  </tbody>\n",
       "</table>\n",
       "</div>"
      ],
      "text/plain": [
       "     구별     인구수     한국인    외국인    고령자\n",
       "21  관악구  520929  503297  17632  70046\n",
       "22  서초구  445401  441102   4299  53205\n",
       "23  강남구  561052  556164   4888  65060\n",
       "24  송파구  671173  664496   6677  76582\n",
       "25  강동구  440359  436223   4136  56161"
      ]
     },
     "execution_count": 524,
     "metadata": {},
     "output_type": "execute_result"
    }
   ],
   "source": [
    "pop_Seoul.tail()"
   ]
  },
  {
   "cell_type": "code",
   "execution_count": 525,
   "id": "9012f148",
   "metadata": {},
   "outputs": [
    {
     "data": {
      "text/html": [
       "<div>\n",
       "<style scoped>\n",
       "    .dataframe tbody tr th:only-of-type {\n",
       "        vertical-align: middle;\n",
       "    }\n",
       "\n",
       "    .dataframe tbody tr th {\n",
       "        vertical-align: top;\n",
       "    }\n",
       "\n",
       "    .dataframe thead th {\n",
       "        text-align: right;\n",
       "    }\n",
       "</style>\n",
       "<table border=\"1\" class=\"dataframe\">\n",
       "  <thead>\n",
       "    <tr style=\"text-align: right;\">\n",
       "      <th></th>\n",
       "      <th>구별</th>\n",
       "      <th>인구수</th>\n",
       "      <th>한국인</th>\n",
       "      <th>외국인</th>\n",
       "      <th>고령자</th>\n",
       "    </tr>\n",
       "  </thead>\n",
       "  <tbody>\n",
       "    <tr>\n",
       "      <th>1</th>\n",
       "      <td>종로구</td>\n",
       "      <td>164257</td>\n",
       "      <td>154770</td>\n",
       "      <td>9487</td>\n",
       "      <td>26182</td>\n",
       "    </tr>\n",
       "    <tr>\n",
       "      <th>2</th>\n",
       "      <td>중구</td>\n",
       "      <td>134593</td>\n",
       "      <td>125709</td>\n",
       "      <td>8884</td>\n",
       "      <td>21384</td>\n",
       "    </tr>\n",
       "    <tr>\n",
       "      <th>3</th>\n",
       "      <td>용산구</td>\n",
       "      <td>244444</td>\n",
       "      <td>229161</td>\n",
       "      <td>15283</td>\n",
       "      <td>36882</td>\n",
       "    </tr>\n",
       "    <tr>\n",
       "      <th>4</th>\n",
       "      <td>성동구</td>\n",
       "      <td>312711</td>\n",
       "      <td>304808</td>\n",
       "      <td>7903</td>\n",
       "      <td>41273</td>\n",
       "    </tr>\n",
       "    <tr>\n",
       "      <th>5</th>\n",
       "      <td>광진구</td>\n",
       "      <td>372298</td>\n",
       "      <td>357703</td>\n",
       "      <td>14595</td>\n",
       "      <td>43953</td>\n",
       "    </tr>\n",
       "  </tbody>\n",
       "</table>\n",
       "</div>"
      ],
      "text/plain": [
       "    구별     인구수     한국인    외국인    고령자\n",
       "1  종로구  164257  154770   9487  26182\n",
       "2   중구  134593  125709   8884  21384\n",
       "3  용산구  244444  229161  15283  36882\n",
       "4  성동구  312711  304808   7903  41273\n",
       "5  광진구  372298  357703  14595  43953"
      ]
     },
     "execution_count": 525,
     "metadata": {},
     "output_type": "execute_result"
    }
   ],
   "source": [
    "pop_Seoul.drop([0], axis=0, inplace=True)   #[0]행 삭제 axis=0\n",
    "pop_Seoul.head()"
   ]
  },
  {
   "cell_type": "code",
   "execution_count": 526,
   "id": "4b97f88e",
   "metadata": {},
   "outputs": [
    {
     "data": {
      "text/plain": [
       "array(['종로구', '중구', '용산구', '성동구', '광진구', '동대문구', '중랑구', '성북구', '강북구',\n",
       "       '도봉구', '노원구', '은평구', '서대문구', '마포구', '양천구', '강서구', '구로구', '금천구',\n",
       "       '영등포구', '동작구', '관악구', '서초구', '강남구', '송파구', '강동구'], dtype=object)"
      ]
     },
     "execution_count": 526,
     "metadata": {},
     "output_type": "execute_result"
    }
   ],
   "source": [
    "pop_Seoul[\"구별\"].unique()"
   ]
  },
  {
   "cell_type": "code",
   "execution_count": 527,
   "id": "57c366ef",
   "metadata": {},
   "outputs": [
    {
     "data": {
      "text/plain": [
       "25"
      ]
     },
     "execution_count": 527,
     "metadata": {},
     "output_type": "execute_result"
    }
   ],
   "source": [
    "len(pop_Seoul[\"구별\"].unique())  #25개의 구가 있음"
   ]
  },
  {
   "cell_type": "code",
   "execution_count": 528,
   "id": "01557561",
   "metadata": {},
   "outputs": [
    {
     "data": {
      "text/html": [
       "<div>\n",
       "<style scoped>\n",
       "    .dataframe tbody tr th:only-of-type {\n",
       "        vertical-align: middle;\n",
       "    }\n",
       "\n",
       "    .dataframe tbody tr th {\n",
       "        vertical-align: top;\n",
       "    }\n",
       "\n",
       "    .dataframe thead th {\n",
       "        text-align: right;\n",
       "    }\n",
       "</style>\n",
       "<table border=\"1\" class=\"dataframe\">\n",
       "  <thead>\n",
       "    <tr style=\"text-align: right;\">\n",
       "      <th></th>\n",
       "      <th>구별</th>\n",
       "      <th>인구수</th>\n",
       "      <th>한국인</th>\n",
       "      <th>외국인</th>\n",
       "      <th>고령자</th>\n",
       "      <th>외국인비율</th>\n",
       "      <th>고령자비율</th>\n",
       "    </tr>\n",
       "  </thead>\n",
       "  <tbody>\n",
       "    <tr>\n",
       "      <th>1</th>\n",
       "      <td>종로구</td>\n",
       "      <td>164257</td>\n",
       "      <td>154770</td>\n",
       "      <td>9487</td>\n",
       "      <td>26182</td>\n",
       "      <td>5.775705</td>\n",
       "      <td>15.939656</td>\n",
       "    </tr>\n",
       "    <tr>\n",
       "      <th>2</th>\n",
       "      <td>중구</td>\n",
       "      <td>134593</td>\n",
       "      <td>125709</td>\n",
       "      <td>8884</td>\n",
       "      <td>21384</td>\n",
       "      <td>6.600640</td>\n",
       "      <td>15.887899</td>\n",
       "    </tr>\n",
       "    <tr>\n",
       "      <th>3</th>\n",
       "      <td>용산구</td>\n",
       "      <td>244444</td>\n",
       "      <td>229161</td>\n",
       "      <td>15283</td>\n",
       "      <td>36882</td>\n",
       "      <td>6.252148</td>\n",
       "      <td>15.088118</td>\n",
       "    </tr>\n",
       "    <tr>\n",
       "      <th>4</th>\n",
       "      <td>성동구</td>\n",
       "      <td>312711</td>\n",
       "      <td>304808</td>\n",
       "      <td>7903</td>\n",
       "      <td>41273</td>\n",
       "      <td>2.527254</td>\n",
       "      <td>13.198448</td>\n",
       "    </tr>\n",
       "    <tr>\n",
       "      <th>5</th>\n",
       "      <td>광진구</td>\n",
       "      <td>372298</td>\n",
       "      <td>357703</td>\n",
       "      <td>14595</td>\n",
       "      <td>43953</td>\n",
       "      <td>3.920247</td>\n",
       "      <td>11.805865</td>\n",
       "    </tr>\n",
       "  </tbody>\n",
       "</table>\n",
       "</div>"
      ],
      "text/plain": [
       "    구별     인구수     한국인    외국인    고령자     외국인비율      고령자비율\n",
       "1  종로구  164257  154770   9487  26182  5.775705  15.939656\n",
       "2   중구  134593  125709   8884  21384  6.600640  15.887899\n",
       "3  용산구  244444  229161  15283  36882  6.252148  15.088118\n",
       "4  성동구  312711  304808   7903  41273  2.527254  13.198448\n",
       "5  광진구  372298  357703  14595  43953  3.920247  11.805865"
      ]
     },
     "execution_count": 528,
     "metadata": {},
     "output_type": "execute_result"
    }
   ],
   "source": [
    "# 외국인비율, 고령자비율\n",
    "pop_Seoul[\"외국인비율\"] = pop_Seoul[\"외국인\"] / pop_Seoul[\"인구수\"] * 100\n",
    "pop_Seoul[\"고령자비율\"] = pop_Seoul[\"고령자\"] / pop_Seoul[\"인구수\"] * 100\n",
    "pop_Seoul.head()"
   ]
  },
  {
   "cell_type": "code",
   "execution_count": 529,
   "id": "bcba3864",
   "metadata": {},
   "outputs": [
    {
     "data": {
      "text/html": [
       "<div>\n",
       "<style scoped>\n",
       "    .dataframe tbody tr th:only-of-type {\n",
       "        vertical-align: middle;\n",
       "    }\n",
       "\n",
       "    .dataframe tbody tr th {\n",
       "        vertical-align: top;\n",
       "    }\n",
       "\n",
       "    .dataframe thead th {\n",
       "        text-align: right;\n",
       "    }\n",
       "</style>\n",
       "<table border=\"1\" class=\"dataframe\">\n",
       "  <thead>\n",
       "    <tr style=\"text-align: right;\">\n",
       "      <th></th>\n",
       "      <th>구별</th>\n",
       "      <th>인구수</th>\n",
       "      <th>한국인</th>\n",
       "      <th>외국인</th>\n",
       "      <th>고령자</th>\n",
       "      <th>외국인비율</th>\n",
       "      <th>고령자비율</th>\n",
       "    </tr>\n",
       "  </thead>\n",
       "  <tbody>\n",
       "    <tr>\n",
       "      <th>24</th>\n",
       "      <td>송파구</td>\n",
       "      <td>671173</td>\n",
       "      <td>664496</td>\n",
       "      <td>6677</td>\n",
       "      <td>76582</td>\n",
       "      <td>0.994825</td>\n",
       "      <td>11.410173</td>\n",
       "    </tr>\n",
       "    <tr>\n",
       "      <th>16</th>\n",
       "      <td>강서구</td>\n",
       "      <td>608255</td>\n",
       "      <td>601691</td>\n",
       "      <td>6564</td>\n",
       "      <td>76032</td>\n",
       "      <td>1.079153</td>\n",
       "      <td>12.500021</td>\n",
       "    </tr>\n",
       "    <tr>\n",
       "      <th>23</th>\n",
       "      <td>강남구</td>\n",
       "      <td>561052</td>\n",
       "      <td>556164</td>\n",
       "      <td>4888</td>\n",
       "      <td>65060</td>\n",
       "      <td>0.871220</td>\n",
       "      <td>11.596073</td>\n",
       "    </tr>\n",
       "    <tr>\n",
       "      <th>11</th>\n",
       "      <td>노원구</td>\n",
       "      <td>558075</td>\n",
       "      <td>554403</td>\n",
       "      <td>3672</td>\n",
       "      <td>74243</td>\n",
       "      <td>0.657976</td>\n",
       "      <td>13.303409</td>\n",
       "    </tr>\n",
       "    <tr>\n",
       "      <th>21</th>\n",
       "      <td>관악구</td>\n",
       "      <td>520929</td>\n",
       "      <td>503297</td>\n",
       "      <td>17632</td>\n",
       "      <td>70046</td>\n",
       "      <td>3.384722</td>\n",
       "      <td>13.446362</td>\n",
       "    </tr>\n",
       "  </tbody>\n",
       "</table>\n",
       "</div>"
      ],
      "text/plain": [
       "     구별     인구수     한국인    외국인    고령자     외국인비율      고령자비율\n",
       "24  송파구  671173  664496   6677  76582  0.994825  11.410173\n",
       "16  강서구  608255  601691   6564  76032  1.079153  12.500021\n",
       "23  강남구  561052  556164   4888  65060  0.871220  11.596073\n",
       "11  노원구  558075  554403   3672  74243  0.657976  13.303409\n",
       "21  관악구  520929  503297  17632  70046  3.384722  13.446362"
      ]
     },
     "execution_count": 529,
     "metadata": {},
     "output_type": "execute_result"
    }
   ],
   "source": [
    "pop_Seoul.sort_values([\"인구수\"], ascending=False).head()   #by=\"인구수\"도 가능"
   ]
  },
  {
   "cell_type": "code",
   "execution_count": 530,
   "id": "4a3dd397",
   "metadata": {},
   "outputs": [
    {
     "data": {
      "text/html": [
       "<div>\n",
       "<style scoped>\n",
       "    .dataframe tbody tr th:only-of-type {\n",
       "        vertical-align: middle;\n",
       "    }\n",
       "\n",
       "    .dataframe tbody tr th {\n",
       "        vertical-align: top;\n",
       "    }\n",
       "\n",
       "    .dataframe thead th {\n",
       "        text-align: right;\n",
       "    }\n",
       "</style>\n",
       "<table border=\"1\" class=\"dataframe\">\n",
       "  <thead>\n",
       "    <tr style=\"text-align: right;\">\n",
       "      <th></th>\n",
       "      <th>구별</th>\n",
       "      <th>인구수</th>\n",
       "      <th>한국인</th>\n",
       "      <th>외국인</th>\n",
       "      <th>고령자</th>\n",
       "      <th>외국인비율</th>\n",
       "      <th>고령자비율</th>\n",
       "    </tr>\n",
       "  </thead>\n",
       "  <tbody>\n",
       "    <tr>\n",
       "      <th>19</th>\n",
       "      <td>영등포구</td>\n",
       "      <td>402024</td>\n",
       "      <td>368550</td>\n",
       "      <td>33474</td>\n",
       "      <td>53981</td>\n",
       "      <td>8.326369</td>\n",
       "      <td>13.427308</td>\n",
       "    </tr>\n",
       "    <tr>\n",
       "      <th>17</th>\n",
       "      <td>구로구</td>\n",
       "      <td>441559</td>\n",
       "      <td>410742</td>\n",
       "      <td>30817</td>\n",
       "      <td>58794</td>\n",
       "      <td>6.979135</td>\n",
       "      <td>13.315095</td>\n",
       "    </tr>\n",
       "    <tr>\n",
       "      <th>18</th>\n",
       "      <td>금천구</td>\n",
       "      <td>253491</td>\n",
       "      <td>235154</td>\n",
       "      <td>18337</td>\n",
       "      <td>34170</td>\n",
       "      <td>7.233787</td>\n",
       "      <td>13.479769</td>\n",
       "    </tr>\n",
       "    <tr>\n",
       "      <th>21</th>\n",
       "      <td>관악구</td>\n",
       "      <td>520929</td>\n",
       "      <td>503297</td>\n",
       "      <td>17632</td>\n",
       "      <td>70046</td>\n",
       "      <td>3.384722</td>\n",
       "      <td>13.446362</td>\n",
       "    </tr>\n",
       "    <tr>\n",
       "      <th>6</th>\n",
       "      <td>동대문구</td>\n",
       "      <td>366011</td>\n",
       "      <td>350647</td>\n",
       "      <td>15364</td>\n",
       "      <td>55718</td>\n",
       "      <td>4.197688</td>\n",
       "      <td>15.223040</td>\n",
       "    </tr>\n",
       "  </tbody>\n",
       "</table>\n",
       "</div>"
      ],
      "text/plain": [
       "      구별     인구수     한국인    외국인    고령자     외국인비율      고령자비율\n",
       "19  영등포구  402024  368550  33474  53981  8.326369  13.427308\n",
       "17   구로구  441559  410742  30817  58794  6.979135  13.315095\n",
       "18   금천구  253491  235154  18337  34170  7.233787  13.479769\n",
       "21   관악구  520929  503297  17632  70046  3.384722  13.446362\n",
       "6   동대문구  366011  350647  15364  55718  4.197688  15.223040"
      ]
     },
     "execution_count": 530,
     "metadata": {},
     "output_type": "execute_result"
    }
   ],
   "source": [
    "pop_Seoul.sort_values([\"외국인\"], ascending=False).head()"
   ]
  },
  {
   "cell_type": "code",
   "execution_count": 531,
   "id": "e1de9a31",
   "metadata": {},
   "outputs": [
    {
     "data": {
      "text/html": [
       "<div>\n",
       "<style scoped>\n",
       "    .dataframe tbody tr th:only-of-type {\n",
       "        vertical-align: middle;\n",
       "    }\n",
       "\n",
       "    .dataframe tbody tr th {\n",
       "        vertical-align: top;\n",
       "    }\n",
       "\n",
       "    .dataframe thead th {\n",
       "        text-align: right;\n",
       "    }\n",
       "</style>\n",
       "<table border=\"1\" class=\"dataframe\">\n",
       "  <thead>\n",
       "    <tr style=\"text-align: right;\">\n",
       "      <th></th>\n",
       "      <th>구별</th>\n",
       "      <th>인구수</th>\n",
       "      <th>한국인</th>\n",
       "      <th>외국인</th>\n",
       "      <th>고령자</th>\n",
       "      <th>외국인비율</th>\n",
       "      <th>고령자비율</th>\n",
       "    </tr>\n",
       "  </thead>\n",
       "  <tbody>\n",
       "    <tr>\n",
       "      <th>19</th>\n",
       "      <td>영등포구</td>\n",
       "      <td>402024</td>\n",
       "      <td>368550</td>\n",
       "      <td>33474</td>\n",
       "      <td>53981</td>\n",
       "      <td>8.326369</td>\n",
       "      <td>13.427308</td>\n",
       "    </tr>\n",
       "    <tr>\n",
       "      <th>18</th>\n",
       "      <td>금천구</td>\n",
       "      <td>253491</td>\n",
       "      <td>235154</td>\n",
       "      <td>18337</td>\n",
       "      <td>34170</td>\n",
       "      <td>7.233787</td>\n",
       "      <td>13.479769</td>\n",
       "    </tr>\n",
       "    <tr>\n",
       "      <th>17</th>\n",
       "      <td>구로구</td>\n",
       "      <td>441559</td>\n",
       "      <td>410742</td>\n",
       "      <td>30817</td>\n",
       "      <td>58794</td>\n",
       "      <td>6.979135</td>\n",
       "      <td>13.315095</td>\n",
       "    </tr>\n",
       "    <tr>\n",
       "      <th>2</th>\n",
       "      <td>중구</td>\n",
       "      <td>134593</td>\n",
       "      <td>125709</td>\n",
       "      <td>8884</td>\n",
       "      <td>21384</td>\n",
       "      <td>6.600640</td>\n",
       "      <td>15.887899</td>\n",
       "    </tr>\n",
       "    <tr>\n",
       "      <th>3</th>\n",
       "      <td>용산구</td>\n",
       "      <td>244444</td>\n",
       "      <td>229161</td>\n",
       "      <td>15283</td>\n",
       "      <td>36882</td>\n",
       "      <td>6.252148</td>\n",
       "      <td>15.088118</td>\n",
       "    </tr>\n",
       "  </tbody>\n",
       "</table>\n",
       "</div>"
      ],
      "text/plain": [
       "      구별     인구수     한국인    외국인    고령자     외국인비율      고령자비율\n",
       "19  영등포구  402024  368550  33474  53981  8.326369  13.427308\n",
       "18   금천구  253491  235154  18337  34170  7.233787  13.479769\n",
       "17   구로구  441559  410742  30817  58794  6.979135  13.315095\n",
       "2     중구  134593  125709   8884  21384  6.600640  15.887899\n",
       "3    용산구  244444  229161  15283  36882  6.252148  15.088118"
      ]
     },
     "execution_count": 531,
     "metadata": {},
     "output_type": "execute_result"
    }
   ],
   "source": [
    "pop_Seoul.sort_values([\"외국인비율\"], ascending=False).head()"
   ]
  },
  {
   "cell_type": "code",
   "execution_count": 532,
   "id": "a1adb726",
   "metadata": {},
   "outputs": [
    {
     "data": {
      "text/html": [
       "<div>\n",
       "<style scoped>\n",
       "    .dataframe tbody tr th:only-of-type {\n",
       "        vertical-align: middle;\n",
       "    }\n",
       "\n",
       "    .dataframe tbody tr th {\n",
       "        vertical-align: top;\n",
       "    }\n",
       "\n",
       "    .dataframe thead th {\n",
       "        text-align: right;\n",
       "    }\n",
       "</style>\n",
       "<table border=\"1\" class=\"dataframe\">\n",
       "  <thead>\n",
       "    <tr style=\"text-align: right;\">\n",
       "      <th></th>\n",
       "      <th>구별</th>\n",
       "      <th>인구수</th>\n",
       "      <th>한국인</th>\n",
       "      <th>외국인</th>\n",
       "      <th>고령자</th>\n",
       "      <th>외국인비율</th>\n",
       "      <th>고령자비율</th>\n",
       "    </tr>\n",
       "  </thead>\n",
       "  <tbody>\n",
       "    <tr>\n",
       "      <th>24</th>\n",
       "      <td>송파구</td>\n",
       "      <td>671173</td>\n",
       "      <td>664496</td>\n",
       "      <td>6677</td>\n",
       "      <td>76582</td>\n",
       "      <td>0.994825</td>\n",
       "      <td>11.410173</td>\n",
       "    </tr>\n",
       "    <tr>\n",
       "      <th>16</th>\n",
       "      <td>강서구</td>\n",
       "      <td>608255</td>\n",
       "      <td>601691</td>\n",
       "      <td>6564</td>\n",
       "      <td>76032</td>\n",
       "      <td>1.079153</td>\n",
       "      <td>12.500021</td>\n",
       "    </tr>\n",
       "    <tr>\n",
       "      <th>12</th>\n",
       "      <td>은평구</td>\n",
       "      <td>491202</td>\n",
       "      <td>486794</td>\n",
       "      <td>4408</td>\n",
       "      <td>74559</td>\n",
       "      <td>0.897390</td>\n",
       "      <td>15.178888</td>\n",
       "    </tr>\n",
       "    <tr>\n",
       "      <th>11</th>\n",
       "      <td>노원구</td>\n",
       "      <td>558075</td>\n",
       "      <td>554403</td>\n",
       "      <td>3672</td>\n",
       "      <td>74243</td>\n",
       "      <td>0.657976</td>\n",
       "      <td>13.303409</td>\n",
       "    </tr>\n",
       "    <tr>\n",
       "      <th>21</th>\n",
       "      <td>관악구</td>\n",
       "      <td>520929</td>\n",
       "      <td>503297</td>\n",
       "      <td>17632</td>\n",
       "      <td>70046</td>\n",
       "      <td>3.384722</td>\n",
       "      <td>13.446362</td>\n",
       "    </tr>\n",
       "  </tbody>\n",
       "</table>\n",
       "</div>"
      ],
      "text/plain": [
       "     구별     인구수     한국인    외국인    고령자     외국인비율      고령자비율\n",
       "24  송파구  671173  664496   6677  76582  0.994825  11.410173\n",
       "16  강서구  608255  601691   6564  76032  1.079153  12.500021\n",
       "12  은평구  491202  486794   4408  74559  0.897390  15.178888\n",
       "11  노원구  558075  554403   3672  74243  0.657976  13.303409\n",
       "21  관악구  520929  503297  17632  70046  3.384722  13.446362"
      ]
     },
     "execution_count": 532,
     "metadata": {},
     "output_type": "execute_result"
    }
   ],
   "source": [
    "pop_Seoul.sort_values(by=\"고령자\", ascending=False).head()"
   ]
  },
  {
   "cell_type": "code",
   "execution_count": 533,
   "id": "b624e4e6",
   "metadata": {},
   "outputs": [
    {
     "data": {
      "text/html": [
       "<div>\n",
       "<style scoped>\n",
       "    .dataframe tbody tr th:only-of-type {\n",
       "        vertical-align: middle;\n",
       "    }\n",
       "\n",
       "    .dataframe tbody tr th {\n",
       "        vertical-align: top;\n",
       "    }\n",
       "\n",
       "    .dataframe thead th {\n",
       "        text-align: right;\n",
       "    }\n",
       "</style>\n",
       "<table border=\"1\" class=\"dataframe\">\n",
       "  <thead>\n",
       "    <tr style=\"text-align: right;\">\n",
       "      <th></th>\n",
       "      <th>구별</th>\n",
       "      <th>인구수</th>\n",
       "      <th>한국인</th>\n",
       "      <th>외국인</th>\n",
       "      <th>고령자</th>\n",
       "      <th>외국인비율</th>\n",
       "      <th>고령자비율</th>\n",
       "    </tr>\n",
       "  </thead>\n",
       "  <tbody>\n",
       "    <tr>\n",
       "      <th>9</th>\n",
       "      <td>강북구</td>\n",
       "      <td>328002</td>\n",
       "      <td>324479</td>\n",
       "      <td>3523</td>\n",
       "      <td>56530</td>\n",
       "      <td>1.074079</td>\n",
       "      <td>17.234651</td>\n",
       "    </tr>\n",
       "    <tr>\n",
       "      <th>1</th>\n",
       "      <td>종로구</td>\n",
       "      <td>164257</td>\n",
       "      <td>154770</td>\n",
       "      <td>9487</td>\n",
       "      <td>26182</td>\n",
       "      <td>5.775705</td>\n",
       "      <td>15.939656</td>\n",
       "    </tr>\n",
       "    <tr>\n",
       "      <th>2</th>\n",
       "      <td>중구</td>\n",
       "      <td>134593</td>\n",
       "      <td>125709</td>\n",
       "      <td>8884</td>\n",
       "      <td>21384</td>\n",
       "      <td>6.600640</td>\n",
       "      <td>15.887899</td>\n",
       "    </tr>\n",
       "    <tr>\n",
       "      <th>10</th>\n",
       "      <td>도봉구</td>\n",
       "      <td>346234</td>\n",
       "      <td>344166</td>\n",
       "      <td>2068</td>\n",
       "      <td>53488</td>\n",
       "      <td>0.597284</td>\n",
       "      <td>15.448512</td>\n",
       "    </tr>\n",
       "    <tr>\n",
       "      <th>6</th>\n",
       "      <td>동대문구</td>\n",
       "      <td>366011</td>\n",
       "      <td>350647</td>\n",
       "      <td>15364</td>\n",
       "      <td>55718</td>\n",
       "      <td>4.197688</td>\n",
       "      <td>15.223040</td>\n",
       "    </tr>\n",
       "  </tbody>\n",
       "</table>\n",
       "</div>"
      ],
      "text/plain": [
       "      구별     인구수     한국인    외국인    고령자     외국인비율      고령자비율\n",
       "9    강북구  328002  324479   3523  56530  1.074079  17.234651\n",
       "1    종로구  164257  154770   9487  26182  5.775705  15.939656\n",
       "2     중구  134593  125709   8884  21384  6.600640  15.887899\n",
       "10   도봉구  346234  344166   2068  53488  0.597284  15.448512\n",
       "6   동대문구  366011  350647  15364  55718  4.197688  15.223040"
      ]
     },
     "execution_count": 533,
     "metadata": {},
     "output_type": "execute_result"
    }
   ],
   "source": [
    "pop_Seoul.sort_values(by=\"고령자비율\", ascending=False).head()"
   ]
  },
  {
   "cell_type": "markdown",
   "id": "87c1fd2e",
   "metadata": {},
   "source": [
    "## 4. 두 데이터 합치기"
   ]
  },
  {
   "cell_type": "markdown",
   "id": "afa8c29e",
   "metadata": {},
   "source": [
    "---"
   ]
  },
  {
   "cell_type": "markdown",
   "id": "611a0aac",
   "metadata": {},
   "source": [
    "### pandas에서 데이터 프레임을 병합하는 방법\n",
    "- pd.concat()\n",
    "- pd.merge()\n",
    "- pd.join()"
   ]
  },
  {
   "cell_type": "markdown",
   "id": "df935130",
   "metadata": {},
   "source": [
    "pd.merge(left, rigth)"
   ]
  },
  {
   "cell_type": "code",
   "execution_count": 534,
   "id": "5e352676",
   "metadata": {},
   "outputs": [
    {
     "data": {
      "text/html": [
       "<div>\n",
       "<style scoped>\n",
       "    .dataframe tbody tr th:only-of-type {\n",
       "        vertical-align: middle;\n",
       "    }\n",
       "\n",
       "    .dataframe tbody tr th {\n",
       "        vertical-align: top;\n",
       "    }\n",
       "\n",
       "    .dataframe thead th {\n",
       "        text-align: right;\n",
       "    }\n",
       "</style>\n",
       "<table border=\"1\" class=\"dataframe\">\n",
       "  <thead>\n",
       "    <tr style=\"text-align: right;\">\n",
       "      <th></th>\n",
       "      <th>key</th>\n",
       "      <th>A</th>\n",
       "      <th>B</th>\n",
       "    </tr>\n",
       "  </thead>\n",
       "  <tbody>\n",
       "    <tr>\n",
       "      <th>0</th>\n",
       "      <td>K0</td>\n",
       "      <td>A0</td>\n",
       "      <td>B0</td>\n",
       "    </tr>\n",
       "    <tr>\n",
       "      <th>1</th>\n",
       "      <td>K4</td>\n",
       "      <td>A1</td>\n",
       "      <td>B1</td>\n",
       "    </tr>\n",
       "    <tr>\n",
       "      <th>2</th>\n",
       "      <td>K2</td>\n",
       "      <td>A2</td>\n",
       "      <td>B2</td>\n",
       "    </tr>\n",
       "    <tr>\n",
       "      <th>3</th>\n",
       "      <td>K3</td>\n",
       "      <td>A3</td>\n",
       "      <td>B3</td>\n",
       "    </tr>\n",
       "  </tbody>\n",
       "</table>\n",
       "</div>"
      ],
      "text/plain": [
       "  key   A   B\n",
       "0  K0  A0  B0\n",
       "1  K4  A1  B1\n",
       "2  K2  A2  B2\n",
       "3  K3  A3  B3"
      ]
     },
     "execution_count": 534,
     "metadata": {},
     "output_type": "execute_result"
    }
   ],
   "source": [
    "#딕셔너리 안의 리스트 형태\n",
    "left = pd.DataFrame({\n",
    "    \"key\" : [\"K0\", \"K4\", \"K2\", \"K3\"],\n",
    "    \"A\" : [\"A0\", \"A1\", \"A2\", \"A3\"],\n",
    "    \"B\" : [\"B0\", \"B1\", \"B2\", \"B3\"]\n",
    "})\n",
    "left"
   ]
  },
  {
   "cell_type": "code",
   "execution_count": 535,
   "id": "6cf598fc",
   "metadata": {},
   "outputs": [
    {
     "data": {
      "text/html": [
       "<div>\n",
       "<style scoped>\n",
       "    .dataframe tbody tr th:only-of-type {\n",
       "        vertical-align: middle;\n",
       "    }\n",
       "\n",
       "    .dataframe tbody tr th {\n",
       "        vertical-align: top;\n",
       "    }\n",
       "\n",
       "    .dataframe thead th {\n",
       "        text-align: right;\n",
       "    }\n",
       "</style>\n",
       "<table border=\"1\" class=\"dataframe\">\n",
       "  <thead>\n",
       "    <tr style=\"text-align: right;\">\n",
       "      <th></th>\n",
       "      <th>key</th>\n",
       "      <th>C</th>\n",
       "      <th>D</th>\n",
       "    </tr>\n",
       "  </thead>\n",
       "  <tbody>\n",
       "    <tr>\n",
       "      <th>0</th>\n",
       "      <td>K0</td>\n",
       "      <td>C0</td>\n",
       "      <td>D0</td>\n",
       "    </tr>\n",
       "    <tr>\n",
       "      <th>1</th>\n",
       "      <td>K1</td>\n",
       "      <td>C1</td>\n",
       "      <td>D1</td>\n",
       "    </tr>\n",
       "    <tr>\n",
       "      <th>2</th>\n",
       "      <td>K2</td>\n",
       "      <td>C2</td>\n",
       "      <td>D2</td>\n",
       "    </tr>\n",
       "    <tr>\n",
       "      <th>3</th>\n",
       "      <td>K3</td>\n",
       "      <td>C3</td>\n",
       "      <td>D3</td>\n",
       "    </tr>\n",
       "  </tbody>\n",
       "</table>\n",
       "</div>"
      ],
      "text/plain": [
       "  key   C   D\n",
       "0  K0  C0  D0\n",
       "1  K1  C1  D1\n",
       "2  K2  C2  D2\n",
       "3  K3  C3  D3"
      ]
     },
     "execution_count": 535,
     "metadata": {},
     "output_type": "execute_result"
    }
   ],
   "source": [
    "#리스트 안의 딕셔너리 형태\n",
    "right = pd.DataFrame([\n",
    "    {\"key\":\"K0\", \"C\":\"C0\", \"D\":\"D0\"},\n",
    "    {\"key\":\"K1\", \"C\":\"C1\", \"D\":\"D1\"},\n",
    "    {\"key\":\"K2\", \"C\":\"C2\", \"D\":\"D2\"},\n",
    "    {\"key\":\"K3\", \"C\":\"C3\", \"D\":\"D3\"}\n",
    "])\n",
    "right"
   ]
  },
  {
   "cell_type": "markdown",
   "id": "11c8ca18",
   "metadata": {},
   "source": [
    "### pd.merge()\n",
    "- 두 데이터 프레임에서 컬럼이나 인덱스를 기준으로 잡고 병합하는 방법\n",
    "- 기준이 되는 컬럼이나 인덱스를 키값이라고 함\n",
    "- 기준이 되는 키값은 두 데이터 프레임에 모두 포함되어 있어햐 한다"
   ]
  },
  {
   "cell_type": "code",
   "execution_count": 536,
   "id": "7b3bbbed",
   "metadata": {},
   "outputs": [
    {
     "data": {
      "text/html": [
       "<div>\n",
       "<style scoped>\n",
       "    .dataframe tbody tr th:only-of-type {\n",
       "        vertical-align: middle;\n",
       "    }\n",
       "\n",
       "    .dataframe tbody tr th {\n",
       "        vertical-align: top;\n",
       "    }\n",
       "\n",
       "    .dataframe thead th {\n",
       "        text-align: right;\n",
       "    }\n",
       "</style>\n",
       "<table border=\"1\" class=\"dataframe\">\n",
       "  <thead>\n",
       "    <tr style=\"text-align: right;\">\n",
       "      <th></th>\n",
       "      <th>key</th>\n",
       "      <th>A</th>\n",
       "      <th>B</th>\n",
       "      <th>C</th>\n",
       "      <th>D</th>\n",
       "    </tr>\n",
       "  </thead>\n",
       "  <tbody>\n",
       "    <tr>\n",
       "      <th>0</th>\n",
       "      <td>K0</td>\n",
       "      <td>A0</td>\n",
       "      <td>B0</td>\n",
       "      <td>C0</td>\n",
       "      <td>D0</td>\n",
       "    </tr>\n",
       "    <tr>\n",
       "      <th>1</th>\n",
       "      <td>K2</td>\n",
       "      <td>A2</td>\n",
       "      <td>B2</td>\n",
       "      <td>C2</td>\n",
       "      <td>D2</td>\n",
       "    </tr>\n",
       "    <tr>\n",
       "      <th>2</th>\n",
       "      <td>K3</td>\n",
       "      <td>A3</td>\n",
       "      <td>B3</td>\n",
       "      <td>C3</td>\n",
       "      <td>D3</td>\n",
       "    </tr>\n",
       "  </tbody>\n",
       "</table>\n",
       "</div>"
      ],
      "text/plain": [
       "  key   A   B   C   D\n",
       "0  K0  A0  B0  C0  D0\n",
       "1  K2  A2  B2  C2  D2\n",
       "2  K3  A3  B3  C3  D3"
      ]
     },
     "execution_count": 536,
     "metadata": {},
     "output_type": "execute_result"
    }
   ],
   "source": [
    "pd.merge(left, right, on=\"key\")"
   ]
  },
  {
   "cell_type": "code",
   "execution_count": 537,
   "id": "f114f887",
   "metadata": {},
   "outputs": [
    {
     "data": {
      "text/html": [
       "<div>\n",
       "<style scoped>\n",
       "    .dataframe tbody tr th:only-of-type {\n",
       "        vertical-align: middle;\n",
       "    }\n",
       "\n",
       "    .dataframe tbody tr th {\n",
       "        vertical-align: top;\n",
       "    }\n",
       "\n",
       "    .dataframe thead th {\n",
       "        text-align: right;\n",
       "    }\n",
       "</style>\n",
       "<table border=\"1\" class=\"dataframe\">\n",
       "  <thead>\n",
       "    <tr style=\"text-align: right;\">\n",
       "      <th></th>\n",
       "      <th>key</th>\n",
       "      <th>A</th>\n",
       "      <th>B</th>\n",
       "      <th>C</th>\n",
       "      <th>D</th>\n",
       "    </tr>\n",
       "  </thead>\n",
       "  <tbody>\n",
       "    <tr>\n",
       "      <th>0</th>\n",
       "      <td>K0</td>\n",
       "      <td>A0</td>\n",
       "      <td>B0</td>\n",
       "      <td>C0</td>\n",
       "      <td>D0</td>\n",
       "    </tr>\n",
       "    <tr>\n",
       "      <th>1</th>\n",
       "      <td>K4</td>\n",
       "      <td>A1</td>\n",
       "      <td>B1</td>\n",
       "      <td>NaN</td>\n",
       "      <td>NaN</td>\n",
       "    </tr>\n",
       "    <tr>\n",
       "      <th>2</th>\n",
       "      <td>K2</td>\n",
       "      <td>A2</td>\n",
       "      <td>B2</td>\n",
       "      <td>C2</td>\n",
       "      <td>D2</td>\n",
       "    </tr>\n",
       "    <tr>\n",
       "      <th>3</th>\n",
       "      <td>K3</td>\n",
       "      <td>A3</td>\n",
       "      <td>B3</td>\n",
       "      <td>C3</td>\n",
       "      <td>D3</td>\n",
       "    </tr>\n",
       "  </tbody>\n",
       "</table>\n",
       "</div>"
      ],
      "text/plain": [
       "  key   A   B    C    D\n",
       "0  K0  A0  B0   C0   D0\n",
       "1  K4  A1  B1  NaN  NaN\n",
       "2  K2  A2  B2   C2   D2\n",
       "3  K3  A3  B3   C3   D3"
      ]
     },
     "execution_count": 537,
     "metadata": {},
     "output_type": "execute_result"
    }
   ],
   "source": [
    "pd.merge(left, right, how=\"left\", on=\"key\")"
   ]
  },
  {
   "cell_type": "code",
   "execution_count": 538,
   "id": "b4ec3101",
   "metadata": {},
   "outputs": [
    {
     "data": {
      "text/html": [
       "<div>\n",
       "<style scoped>\n",
       "    .dataframe tbody tr th:only-of-type {\n",
       "        vertical-align: middle;\n",
       "    }\n",
       "\n",
       "    .dataframe tbody tr th {\n",
       "        vertical-align: top;\n",
       "    }\n",
       "\n",
       "    .dataframe thead th {\n",
       "        text-align: right;\n",
       "    }\n",
       "</style>\n",
       "<table border=\"1\" class=\"dataframe\">\n",
       "  <thead>\n",
       "    <tr style=\"text-align: right;\">\n",
       "      <th></th>\n",
       "      <th>key</th>\n",
       "      <th>A</th>\n",
       "      <th>B</th>\n",
       "      <th>C</th>\n",
       "      <th>D</th>\n",
       "    </tr>\n",
       "  </thead>\n",
       "  <tbody>\n",
       "    <tr>\n",
       "      <th>0</th>\n",
       "      <td>K0</td>\n",
       "      <td>A0</td>\n",
       "      <td>B0</td>\n",
       "      <td>C0</td>\n",
       "      <td>D0</td>\n",
       "    </tr>\n",
       "    <tr>\n",
       "      <th>1</th>\n",
       "      <td>K1</td>\n",
       "      <td>NaN</td>\n",
       "      <td>NaN</td>\n",
       "      <td>C1</td>\n",
       "      <td>D1</td>\n",
       "    </tr>\n",
       "    <tr>\n",
       "      <th>2</th>\n",
       "      <td>K2</td>\n",
       "      <td>A2</td>\n",
       "      <td>B2</td>\n",
       "      <td>C2</td>\n",
       "      <td>D2</td>\n",
       "    </tr>\n",
       "    <tr>\n",
       "      <th>3</th>\n",
       "      <td>K3</td>\n",
       "      <td>A3</td>\n",
       "      <td>B3</td>\n",
       "      <td>C3</td>\n",
       "      <td>D3</td>\n",
       "    </tr>\n",
       "  </tbody>\n",
       "</table>\n",
       "</div>"
      ],
      "text/plain": [
       "  key    A    B   C   D\n",
       "0  K0   A0   B0  C0  D0\n",
       "1  K1  NaN  NaN  C1  D1\n",
       "2  K2   A2   B2  C2  D2\n",
       "3  K3   A3   B3  C3  D3"
      ]
     },
     "execution_count": 538,
     "metadata": {},
     "output_type": "execute_result"
    }
   ],
   "source": [
    "pd.merge(left, right, how=\"right\", on=\"key\")"
   ]
  },
  {
   "cell_type": "code",
   "execution_count": 539,
   "id": "040b42c5",
   "metadata": {},
   "outputs": [
    {
     "data": {
      "text/html": [
       "<div>\n",
       "<style scoped>\n",
       "    .dataframe tbody tr th:only-of-type {\n",
       "        vertical-align: middle;\n",
       "    }\n",
       "\n",
       "    .dataframe tbody tr th {\n",
       "        vertical-align: top;\n",
       "    }\n",
       "\n",
       "    .dataframe thead th {\n",
       "        text-align: right;\n",
       "    }\n",
       "</style>\n",
       "<table border=\"1\" class=\"dataframe\">\n",
       "  <thead>\n",
       "    <tr style=\"text-align: right;\">\n",
       "      <th></th>\n",
       "      <th>key</th>\n",
       "      <th>A</th>\n",
       "      <th>B</th>\n",
       "      <th>C</th>\n",
       "      <th>D</th>\n",
       "    </tr>\n",
       "  </thead>\n",
       "  <tbody>\n",
       "    <tr>\n",
       "      <th>0</th>\n",
       "      <td>K0</td>\n",
       "      <td>A0</td>\n",
       "      <td>B0</td>\n",
       "      <td>C0</td>\n",
       "      <td>D0</td>\n",
       "    </tr>\n",
       "    <tr>\n",
       "      <th>1</th>\n",
       "      <td>K4</td>\n",
       "      <td>A1</td>\n",
       "      <td>B1</td>\n",
       "      <td>NaN</td>\n",
       "      <td>NaN</td>\n",
       "    </tr>\n",
       "    <tr>\n",
       "      <th>2</th>\n",
       "      <td>K2</td>\n",
       "      <td>A2</td>\n",
       "      <td>B2</td>\n",
       "      <td>C2</td>\n",
       "      <td>D2</td>\n",
       "    </tr>\n",
       "    <tr>\n",
       "      <th>3</th>\n",
       "      <td>K3</td>\n",
       "      <td>A3</td>\n",
       "      <td>B3</td>\n",
       "      <td>C3</td>\n",
       "      <td>D3</td>\n",
       "    </tr>\n",
       "    <tr>\n",
       "      <th>4</th>\n",
       "      <td>K1</td>\n",
       "      <td>NaN</td>\n",
       "      <td>NaN</td>\n",
       "      <td>C1</td>\n",
       "      <td>D1</td>\n",
       "    </tr>\n",
       "  </tbody>\n",
       "</table>\n",
       "</div>"
      ],
      "text/plain": [
       "  key    A    B    C    D\n",
       "0  K0   A0   B0   C0   D0\n",
       "1  K4   A1   B1  NaN  NaN\n",
       "2  K2   A2   B2   C2   D2\n",
       "3  K3   A3   B3   C3   D3\n",
       "4  K1  NaN  NaN   C1   D1"
      ]
     },
     "execution_count": 539,
     "metadata": {},
     "output_type": "execute_result"
    }
   ],
   "source": [
    "pd.merge(left, right, how=\"outer\", on=\"key\")"
   ]
  },
  {
   "cell_type": "markdown",
   "id": "54a3ceda",
   "metadata": {},
   "source": [
    "---"
   ]
  },
  {
   "cell_type": "code",
   "execution_count": 540,
   "id": "eebc402e",
   "metadata": {},
   "outputs": [
    {
     "data": {
      "text/html": [
       "<div>\n",
       "<style scoped>\n",
       "    .dataframe tbody tr th:only-of-type {\n",
       "        vertical-align: middle;\n",
       "    }\n",
       "\n",
       "    .dataframe tbody tr th {\n",
       "        vertical-align: top;\n",
       "    }\n",
       "\n",
       "    .dataframe thead th {\n",
       "        text-align: right;\n",
       "    }\n",
       "</style>\n",
       "<table border=\"1\" class=\"dataframe\">\n",
       "  <thead>\n",
       "    <tr style=\"text-align: right;\">\n",
       "      <th></th>\n",
       "      <th>구별</th>\n",
       "      <th>소계</th>\n",
       "      <th>2013년도 이전</th>\n",
       "      <th>2014년</th>\n",
       "      <th>2015년</th>\n",
       "      <th>2016년</th>\n",
       "      <th>최근증가율</th>\n",
       "    </tr>\n",
       "  </thead>\n",
       "  <tbody>\n",
       "    <tr>\n",
       "      <th>0</th>\n",
       "      <td>강남구</td>\n",
       "      <td>3238</td>\n",
       "      <td>1292</td>\n",
       "      <td>430</td>\n",
       "      <td>584</td>\n",
       "      <td>932</td>\n",
       "      <td>150.619195</td>\n",
       "    </tr>\n",
       "  </tbody>\n",
       "</table>\n",
       "</div>"
      ],
      "text/plain": [
       "    구별    소계  2013년도 이전  2014년  2015년  2016년       최근증가율\n",
       "0  강남구  3238       1292    430    584    932  150.619195"
      ]
     },
     "execution_count": 540,
     "metadata": {},
     "output_type": "execute_result"
    }
   ],
   "source": [
    "CCTV_Seoul.head(1)"
   ]
  },
  {
   "cell_type": "code",
   "execution_count": 541,
   "id": "7d87af8c",
   "metadata": {},
   "outputs": [
    {
     "data": {
      "text/html": [
       "<div>\n",
       "<style scoped>\n",
       "    .dataframe tbody tr th:only-of-type {\n",
       "        vertical-align: middle;\n",
       "    }\n",
       "\n",
       "    .dataframe tbody tr th {\n",
       "        vertical-align: top;\n",
       "    }\n",
       "\n",
       "    .dataframe thead th {\n",
       "        text-align: right;\n",
       "    }\n",
       "</style>\n",
       "<table border=\"1\" class=\"dataframe\">\n",
       "  <thead>\n",
       "    <tr style=\"text-align: right;\">\n",
       "      <th></th>\n",
       "      <th>구별</th>\n",
       "      <th>인구수</th>\n",
       "      <th>한국인</th>\n",
       "      <th>외국인</th>\n",
       "      <th>고령자</th>\n",
       "      <th>외국인비율</th>\n",
       "      <th>고령자비율</th>\n",
       "    </tr>\n",
       "  </thead>\n",
       "  <tbody>\n",
       "    <tr>\n",
       "      <th>1</th>\n",
       "      <td>종로구</td>\n",
       "      <td>164257</td>\n",
       "      <td>154770</td>\n",
       "      <td>9487</td>\n",
       "      <td>26182</td>\n",
       "      <td>5.775705</td>\n",
       "      <td>15.939656</td>\n",
       "    </tr>\n",
       "  </tbody>\n",
       "</table>\n",
       "</div>"
      ],
      "text/plain": [
       "    구별     인구수     한국인   외국인    고령자     외국인비율      고령자비율\n",
       "1  종로구  164257  154770  9487  26182  5.775705  15.939656"
      ]
     },
     "execution_count": 541,
     "metadata": {},
     "output_type": "execute_result"
    }
   ],
   "source": [
    "pop_Seoul.head(1)"
   ]
  },
  {
   "cell_type": "code",
   "execution_count": 542,
   "id": "b58bcfb1",
   "metadata": {},
   "outputs": [
    {
     "data": {
      "text/html": [
       "<div>\n",
       "<style scoped>\n",
       "    .dataframe tbody tr th:only-of-type {\n",
       "        vertical-align: middle;\n",
       "    }\n",
       "\n",
       "    .dataframe tbody tr th {\n",
       "        vertical-align: top;\n",
       "    }\n",
       "\n",
       "    .dataframe thead th {\n",
       "        text-align: right;\n",
       "    }\n",
       "</style>\n",
       "<table border=\"1\" class=\"dataframe\">\n",
       "  <thead>\n",
       "    <tr style=\"text-align: right;\">\n",
       "      <th></th>\n",
       "      <th>구별</th>\n",
       "      <th>소계</th>\n",
       "      <th>2013년도 이전</th>\n",
       "      <th>2014년</th>\n",
       "      <th>2015년</th>\n",
       "      <th>2016년</th>\n",
       "      <th>최근증가율</th>\n",
       "      <th>인구수</th>\n",
       "      <th>한국인</th>\n",
       "      <th>외국인</th>\n",
       "      <th>고령자</th>\n",
       "      <th>외국인비율</th>\n",
       "      <th>고령자비율</th>\n",
       "    </tr>\n",
       "  </thead>\n",
       "  <tbody>\n",
       "    <tr>\n",
       "      <th>0</th>\n",
       "      <td>강남구</td>\n",
       "      <td>3238</td>\n",
       "      <td>1292</td>\n",
       "      <td>430</td>\n",
       "      <td>584</td>\n",
       "      <td>932</td>\n",
       "      <td>150.619195</td>\n",
       "      <td>561052</td>\n",
       "      <td>556164</td>\n",
       "      <td>4888</td>\n",
       "      <td>65060</td>\n",
       "      <td>0.871220</td>\n",
       "      <td>11.596073</td>\n",
       "    </tr>\n",
       "    <tr>\n",
       "      <th>1</th>\n",
       "      <td>강동구</td>\n",
       "      <td>1010</td>\n",
       "      <td>379</td>\n",
       "      <td>99</td>\n",
       "      <td>155</td>\n",
       "      <td>377</td>\n",
       "      <td>166.490765</td>\n",
       "      <td>440359</td>\n",
       "      <td>436223</td>\n",
       "      <td>4136</td>\n",
       "      <td>56161</td>\n",
       "      <td>0.939234</td>\n",
       "      <td>12.753458</td>\n",
       "    </tr>\n",
       "    <tr>\n",
       "      <th>2</th>\n",
       "      <td>강북구</td>\n",
       "      <td>831</td>\n",
       "      <td>369</td>\n",
       "      <td>120</td>\n",
       "      <td>138</td>\n",
       "      <td>204</td>\n",
       "      <td>125.203252</td>\n",
       "      <td>328002</td>\n",
       "      <td>324479</td>\n",
       "      <td>3523</td>\n",
       "      <td>56530</td>\n",
       "      <td>1.074079</td>\n",
       "      <td>17.234651</td>\n",
       "    </tr>\n",
       "    <tr>\n",
       "      <th>3</th>\n",
       "      <td>강서구</td>\n",
       "      <td>911</td>\n",
       "      <td>388</td>\n",
       "      <td>258</td>\n",
       "      <td>184</td>\n",
       "      <td>81</td>\n",
       "      <td>134.793814</td>\n",
       "      <td>608255</td>\n",
       "      <td>601691</td>\n",
       "      <td>6564</td>\n",
       "      <td>76032</td>\n",
       "      <td>1.079153</td>\n",
       "      <td>12.500021</td>\n",
       "    </tr>\n",
       "    <tr>\n",
       "      <th>4</th>\n",
       "      <td>관악구</td>\n",
       "      <td>2109</td>\n",
       "      <td>846</td>\n",
       "      <td>260</td>\n",
       "      <td>390</td>\n",
       "      <td>613</td>\n",
       "      <td>149.290780</td>\n",
       "      <td>520929</td>\n",
       "      <td>503297</td>\n",
       "      <td>17632</td>\n",
       "      <td>70046</td>\n",
       "      <td>3.384722</td>\n",
       "      <td>13.446362</td>\n",
       "    </tr>\n",
       "  </tbody>\n",
       "</table>\n",
       "</div>"
      ],
      "text/plain": [
       "    구별    소계  2013년도 이전  2014년  2015년  2016년       최근증가율     인구수     한국인  \\\n",
       "0  강남구  3238       1292    430    584    932  150.619195  561052  556164   \n",
       "1  강동구  1010        379     99    155    377  166.490765  440359  436223   \n",
       "2  강북구   831        369    120    138    204  125.203252  328002  324479   \n",
       "3  강서구   911        388    258    184     81  134.793814  608255  601691   \n",
       "4  관악구  2109        846    260    390    613  149.290780  520929  503297   \n",
       "\n",
       "     외국인    고령자     외국인비율      고령자비율  \n",
       "0   4888  65060  0.871220  11.596073  \n",
       "1   4136  56161  0.939234  12.753458  \n",
       "2   3523  56530  1.074079  17.234651  \n",
       "3   6564  76032  1.079153  12.500021  \n",
       "4  17632  70046  3.384722  13.446362  "
      ]
     },
     "execution_count": 542,
     "metadata": {},
     "output_type": "execute_result"
    }
   ],
   "source": [
    "data_result = pd.merge(CCTV_Seoul, pop_Seoul, on=\"구별\")   #공통 컬럼값:\"구별\"\n",
    "data_result.head()"
   ]
  },
  {
   "cell_type": "markdown",
   "id": "62541c05",
   "metadata": {},
   "source": [
    "### 년도별 데이터 컬럼 삭제\n",
    "- del\n",
    "- drop()"
   ]
  },
  {
   "cell_type": "code",
   "execution_count": 543,
   "id": "174d83e5",
   "metadata": {},
   "outputs": [],
   "source": [
    "del data_result[\"2013년도 이전\"]"
   ]
  },
  {
   "cell_type": "code",
   "execution_count": 544,
   "id": "e565afdb",
   "metadata": {},
   "outputs": [],
   "source": [
    "del data_result[\"2014년\"]"
   ]
  },
  {
   "cell_type": "code",
   "execution_count": 545,
   "id": "63c81331",
   "metadata": {},
   "outputs": [
    {
     "data": {
      "text/html": [
       "<div>\n",
       "<style scoped>\n",
       "    .dataframe tbody tr th:only-of-type {\n",
       "        vertical-align: middle;\n",
       "    }\n",
       "\n",
       "    .dataframe tbody tr th {\n",
       "        vertical-align: top;\n",
       "    }\n",
       "\n",
       "    .dataframe thead th {\n",
       "        text-align: right;\n",
       "    }\n",
       "</style>\n",
       "<table border=\"1\" class=\"dataframe\">\n",
       "  <thead>\n",
       "    <tr style=\"text-align: right;\">\n",
       "      <th></th>\n",
       "      <th>구별</th>\n",
       "      <th>소계</th>\n",
       "      <th>2015년</th>\n",
       "      <th>2016년</th>\n",
       "      <th>최근증가율</th>\n",
       "      <th>인구수</th>\n",
       "      <th>한국인</th>\n",
       "      <th>외국인</th>\n",
       "      <th>고령자</th>\n",
       "      <th>외국인비율</th>\n",
       "      <th>고령자비율</th>\n",
       "    </tr>\n",
       "  </thead>\n",
       "  <tbody>\n",
       "    <tr>\n",
       "      <th>0</th>\n",
       "      <td>강남구</td>\n",
       "      <td>3238</td>\n",
       "      <td>584</td>\n",
       "      <td>932</td>\n",
       "      <td>150.619195</td>\n",
       "      <td>561052</td>\n",
       "      <td>556164</td>\n",
       "      <td>4888</td>\n",
       "      <td>65060</td>\n",
       "      <td>0.871220</td>\n",
       "      <td>11.596073</td>\n",
       "    </tr>\n",
       "    <tr>\n",
       "      <th>1</th>\n",
       "      <td>강동구</td>\n",
       "      <td>1010</td>\n",
       "      <td>155</td>\n",
       "      <td>377</td>\n",
       "      <td>166.490765</td>\n",
       "      <td>440359</td>\n",
       "      <td>436223</td>\n",
       "      <td>4136</td>\n",
       "      <td>56161</td>\n",
       "      <td>0.939234</td>\n",
       "      <td>12.753458</td>\n",
       "    </tr>\n",
       "    <tr>\n",
       "      <th>2</th>\n",
       "      <td>강북구</td>\n",
       "      <td>831</td>\n",
       "      <td>138</td>\n",
       "      <td>204</td>\n",
       "      <td>125.203252</td>\n",
       "      <td>328002</td>\n",
       "      <td>324479</td>\n",
       "      <td>3523</td>\n",
       "      <td>56530</td>\n",
       "      <td>1.074079</td>\n",
       "      <td>17.234651</td>\n",
       "    </tr>\n",
       "  </tbody>\n",
       "</table>\n",
       "</div>"
      ],
      "text/plain": [
       "    구별    소계  2015년  2016년       최근증가율     인구수     한국인   외국인    고령자     외국인비율  \\\n",
       "0  강남구  3238    584    932  150.619195  561052  556164  4888  65060  0.871220   \n",
       "1  강동구  1010    155    377  166.490765  440359  436223  4136  56161  0.939234   \n",
       "2  강북구   831    138    204  125.203252  328002  324479  3523  56530  1.074079   \n",
       "\n",
       "       고령자비율  \n",
       "0  11.596073  \n",
       "1  12.753458  \n",
       "2  17.234651  "
      ]
     },
     "execution_count": 545,
     "metadata": {},
     "output_type": "execute_result"
    }
   ],
   "source": [
    "data_result.head(3)"
   ]
  },
  {
   "cell_type": "code",
   "execution_count": 546,
   "id": "f99cfdc7",
   "metadata": {},
   "outputs": [],
   "source": [
    "data_result.drop([\"2015년\", \"2016년\"], axis = 1, inplace=True)"
   ]
  },
  {
   "cell_type": "code",
   "execution_count": 547,
   "id": "e88e20ce",
   "metadata": {},
   "outputs": [
    {
     "data": {
      "text/html": [
       "<div>\n",
       "<style scoped>\n",
       "    .dataframe tbody tr th:only-of-type {\n",
       "        vertical-align: middle;\n",
       "    }\n",
       "\n",
       "    .dataframe tbody tr th {\n",
       "        vertical-align: top;\n",
       "    }\n",
       "\n",
       "    .dataframe thead th {\n",
       "        text-align: right;\n",
       "    }\n",
       "</style>\n",
       "<table border=\"1\" class=\"dataframe\">\n",
       "  <thead>\n",
       "    <tr style=\"text-align: right;\">\n",
       "      <th></th>\n",
       "      <th>구별</th>\n",
       "      <th>소계</th>\n",
       "      <th>최근증가율</th>\n",
       "      <th>인구수</th>\n",
       "      <th>한국인</th>\n",
       "      <th>외국인</th>\n",
       "      <th>고령자</th>\n",
       "      <th>외국인비율</th>\n",
       "      <th>고령자비율</th>\n",
       "    </tr>\n",
       "  </thead>\n",
       "  <tbody>\n",
       "    <tr>\n",
       "      <th>0</th>\n",
       "      <td>강남구</td>\n",
       "      <td>3238</td>\n",
       "      <td>150.619195</td>\n",
       "      <td>561052</td>\n",
       "      <td>556164</td>\n",
       "      <td>4888</td>\n",
       "      <td>65060</td>\n",
       "      <td>0.871220</td>\n",
       "      <td>11.596073</td>\n",
       "    </tr>\n",
       "    <tr>\n",
       "      <th>1</th>\n",
       "      <td>강동구</td>\n",
       "      <td>1010</td>\n",
       "      <td>166.490765</td>\n",
       "      <td>440359</td>\n",
       "      <td>436223</td>\n",
       "      <td>4136</td>\n",
       "      <td>56161</td>\n",
       "      <td>0.939234</td>\n",
       "      <td>12.753458</td>\n",
       "    </tr>\n",
       "    <tr>\n",
       "      <th>2</th>\n",
       "      <td>강북구</td>\n",
       "      <td>831</td>\n",
       "      <td>125.203252</td>\n",
       "      <td>328002</td>\n",
       "      <td>324479</td>\n",
       "      <td>3523</td>\n",
       "      <td>56530</td>\n",
       "      <td>1.074079</td>\n",
       "      <td>17.234651</td>\n",
       "    </tr>\n",
       "  </tbody>\n",
       "</table>\n",
       "</div>"
      ],
      "text/plain": [
       "    구별    소계       최근증가율     인구수     한국인   외국인    고령자     외국인비율      고령자비율\n",
       "0  강남구  3238  150.619195  561052  556164  4888  65060  0.871220  11.596073\n",
       "1  강동구  1010  166.490765  440359  436223  4136  56161  0.939234  12.753458\n",
       "2  강북구   831  125.203252  328002  324479  3523  56530  1.074079  17.234651"
      ]
     },
     "execution_count": 547,
     "metadata": {},
     "output_type": "execute_result"
    }
   ],
   "source": [
    "data_result.head(3)"
   ]
  },
  {
   "cell_type": "markdown",
   "id": "aeb94a58",
   "metadata": {},
   "source": [
    "#### 인덱스 변경\n",
    "- set_index()\n",
    "- 선택한 컬럼을 데이터 프레임의 인덱스로 지정"
   ]
  },
  {
   "cell_type": "code",
   "execution_count": 548,
   "id": "91985126",
   "metadata": {},
   "outputs": [
    {
     "data": {
      "text/html": [
       "<div>\n",
       "<style scoped>\n",
       "    .dataframe tbody tr th:only-of-type {\n",
       "        vertical-align: middle;\n",
       "    }\n",
       "\n",
       "    .dataframe tbody tr th {\n",
       "        vertical-align: top;\n",
       "    }\n",
       "\n",
       "    .dataframe thead th {\n",
       "        text-align: right;\n",
       "    }\n",
       "</style>\n",
       "<table border=\"1\" class=\"dataframe\">\n",
       "  <thead>\n",
       "    <tr style=\"text-align: right;\">\n",
       "      <th></th>\n",
       "      <th>소계</th>\n",
       "      <th>최근증가율</th>\n",
       "      <th>인구수</th>\n",
       "      <th>한국인</th>\n",
       "      <th>외국인</th>\n",
       "      <th>고령자</th>\n",
       "      <th>외국인비율</th>\n",
       "      <th>고령자비율</th>\n",
       "    </tr>\n",
       "    <tr>\n",
       "      <th>구별</th>\n",
       "      <th></th>\n",
       "      <th></th>\n",
       "      <th></th>\n",
       "      <th></th>\n",
       "      <th></th>\n",
       "      <th></th>\n",
       "      <th></th>\n",
       "      <th></th>\n",
       "    </tr>\n",
       "  </thead>\n",
       "  <tbody>\n",
       "    <tr>\n",
       "      <th>강남구</th>\n",
       "      <td>3238</td>\n",
       "      <td>150.619195</td>\n",
       "      <td>561052</td>\n",
       "      <td>556164</td>\n",
       "      <td>4888</td>\n",
       "      <td>65060</td>\n",
       "      <td>0.871220</td>\n",
       "      <td>11.596073</td>\n",
       "    </tr>\n",
       "    <tr>\n",
       "      <th>강동구</th>\n",
       "      <td>1010</td>\n",
       "      <td>166.490765</td>\n",
       "      <td>440359</td>\n",
       "      <td>436223</td>\n",
       "      <td>4136</td>\n",
       "      <td>56161</td>\n",
       "      <td>0.939234</td>\n",
       "      <td>12.753458</td>\n",
       "    </tr>\n",
       "    <tr>\n",
       "      <th>강북구</th>\n",
       "      <td>831</td>\n",
       "      <td>125.203252</td>\n",
       "      <td>328002</td>\n",
       "      <td>324479</td>\n",
       "      <td>3523</td>\n",
       "      <td>56530</td>\n",
       "      <td>1.074079</td>\n",
       "      <td>17.234651</td>\n",
       "    </tr>\n",
       "  </tbody>\n",
       "</table>\n",
       "</div>"
      ],
      "text/plain": [
       "       소계       최근증가율     인구수     한국인   외국인    고령자     외국인비율      고령자비율\n",
       "구별                                                                     \n",
       "강남구  3238  150.619195  561052  556164  4888  65060  0.871220  11.596073\n",
       "강동구  1010  166.490765  440359  436223  4136  56161  0.939234  12.753458\n",
       "강북구   831  125.203252  328002  324479  3523  56530  1.074079  17.234651"
      ]
     },
     "execution_count": 548,
     "metadata": {},
     "output_type": "execute_result"
    }
   ],
   "source": [
    "data_result.set_index(\"구별\", inplace=True)\n",
    "data_result.head(3)"
   ]
  },
  {
   "cell_type": "markdown",
   "id": "8e753dc4",
   "metadata": {},
   "source": [
    "#### 상관계수\n",
    "- corr()\n",
    "- correlation 의 약자\n",
    "- 상관계수가 0.2 이상인 데이터를 비교"
   ]
  },
  {
   "cell_type": "code",
   "execution_count": 549,
   "id": "106cfc5d",
   "metadata": {},
   "outputs": [
    {
     "data": {
      "text/html": [
       "<div>\n",
       "<style scoped>\n",
       "    .dataframe tbody tr th:only-of-type {\n",
       "        vertical-align: middle;\n",
       "    }\n",
       "\n",
       "    .dataframe tbody tr th {\n",
       "        vertical-align: top;\n",
       "    }\n",
       "\n",
       "    .dataframe thead th {\n",
       "        text-align: right;\n",
       "    }\n",
       "</style>\n",
       "<table border=\"1\" class=\"dataframe\">\n",
       "  <thead>\n",
       "    <tr style=\"text-align: right;\">\n",
       "      <th></th>\n",
       "      <th>소계</th>\n",
       "      <th>최근증가율</th>\n",
       "      <th>인구수</th>\n",
       "      <th>한국인</th>\n",
       "      <th>외국인</th>\n",
       "      <th>고령자</th>\n",
       "      <th>외국인비율</th>\n",
       "      <th>고령자비율</th>\n",
       "    </tr>\n",
       "  </thead>\n",
       "  <tbody>\n",
       "    <tr>\n",
       "      <th>소계</th>\n",
       "      <td>1.000000</td>\n",
       "      <td>-0.264378</td>\n",
       "      <td>0.232555</td>\n",
       "      <td>0.227852</td>\n",
       "      <td>0.030421</td>\n",
       "      <td>0.163905</td>\n",
       "      <td>-0.045956</td>\n",
       "      <td>-0.267841</td>\n",
       "    </tr>\n",
       "    <tr>\n",
       "      <th>최근증가율</th>\n",
       "      <td>-0.264378</td>\n",
       "      <td>1.000000</td>\n",
       "      <td>-0.097165</td>\n",
       "      <td>-0.086341</td>\n",
       "      <td>-0.156421</td>\n",
       "      <td>-0.072251</td>\n",
       "      <td>-0.047102</td>\n",
       "      <td>0.190396</td>\n",
       "    </tr>\n",
       "    <tr>\n",
       "      <th>인구수</th>\n",
       "      <td>0.232555</td>\n",
       "      <td>-0.097165</td>\n",
       "      <td>1.000000</td>\n",
       "      <td>0.998151</td>\n",
       "      <td>-0.167243</td>\n",
       "      <td>0.936737</td>\n",
       "      <td>-0.601076</td>\n",
       "      <td>-0.637414</td>\n",
       "    </tr>\n",
       "    <tr>\n",
       "      <th>한국인</th>\n",
       "      <td>0.227852</td>\n",
       "      <td>-0.086341</td>\n",
       "      <td>0.998151</td>\n",
       "      <td>1.000000</td>\n",
       "      <td>-0.226853</td>\n",
       "      <td>0.936155</td>\n",
       "      <td>-0.645463</td>\n",
       "      <td>-0.628360</td>\n",
       "    </tr>\n",
       "    <tr>\n",
       "      <th>외국인</th>\n",
       "      <td>0.030421</td>\n",
       "      <td>-0.156421</td>\n",
       "      <td>-0.167243</td>\n",
       "      <td>-0.226853</td>\n",
       "      <td>1.000000</td>\n",
       "      <td>-0.175318</td>\n",
       "      <td>0.838612</td>\n",
       "      <td>-0.021147</td>\n",
       "    </tr>\n",
       "    <tr>\n",
       "      <th>고령자</th>\n",
       "      <td>0.163905</td>\n",
       "      <td>-0.072251</td>\n",
       "      <td>0.936737</td>\n",
       "      <td>0.936155</td>\n",
       "      <td>-0.175318</td>\n",
       "      <td>1.000000</td>\n",
       "      <td>-0.620300</td>\n",
       "      <td>-0.348840</td>\n",
       "    </tr>\n",
       "    <tr>\n",
       "      <th>외국인비율</th>\n",
       "      <td>-0.045956</td>\n",
       "      <td>-0.047102</td>\n",
       "      <td>-0.601076</td>\n",
       "      <td>-0.645463</td>\n",
       "      <td>0.838612</td>\n",
       "      <td>-0.620300</td>\n",
       "      <td>1.000000</td>\n",
       "      <td>0.242816</td>\n",
       "    </tr>\n",
       "    <tr>\n",
       "      <th>고령자비율</th>\n",
       "      <td>-0.267841</td>\n",
       "      <td>0.190396</td>\n",
       "      <td>-0.637414</td>\n",
       "      <td>-0.628360</td>\n",
       "      <td>-0.021147</td>\n",
       "      <td>-0.348840</td>\n",
       "      <td>0.242816</td>\n",
       "      <td>1.000000</td>\n",
       "    </tr>\n",
       "  </tbody>\n",
       "</table>\n",
       "</div>"
      ],
      "text/plain": [
       "             소계     최근증가율       인구수       한국인       외국인       고령자     외국인비율  \\\n",
       "소계     1.000000 -0.264378  0.232555  0.227852  0.030421  0.163905 -0.045956   \n",
       "최근증가율 -0.264378  1.000000 -0.097165 -0.086341 -0.156421 -0.072251 -0.047102   \n",
       "인구수    0.232555 -0.097165  1.000000  0.998151 -0.167243  0.936737 -0.601076   \n",
       "한국인    0.227852 -0.086341  0.998151  1.000000 -0.226853  0.936155 -0.645463   \n",
       "외국인    0.030421 -0.156421 -0.167243 -0.226853  1.000000 -0.175318  0.838612   \n",
       "고령자    0.163905 -0.072251  0.936737  0.936155 -0.175318  1.000000 -0.620300   \n",
       "외국인비율 -0.045956 -0.047102 -0.601076 -0.645463  0.838612 -0.620300  1.000000   \n",
       "고령자비율 -0.267841  0.190396 -0.637414 -0.628360 -0.021147 -0.348840  0.242816   \n",
       "\n",
       "          고령자비율  \n",
       "소계    -0.267841  \n",
       "최근증가율  0.190396  \n",
       "인구수   -0.637414  \n",
       "한국인   -0.628360  \n",
       "외국인   -0.021147  \n",
       "고령자   -0.348840  \n",
       "외국인비율  0.242816  \n",
       "고령자비율  1.000000  "
      ]
     },
     "execution_count": 549,
     "metadata": {},
     "output_type": "execute_result"
    }
   ],
   "source": [
    "data_result.corr()   #소계와 인구수간의 상관관계가 가장 높다"
   ]
  },
  {
   "cell_type": "code",
   "execution_count": 550,
   "id": "8d2d89b6",
   "metadata": {},
   "outputs": [
    {
     "name": "stdout",
     "output_type": "stream",
     "text": [
      "<class 'pandas.core.frame.DataFrame'>\n",
      "Index: 25 entries, 강남구 to 중랑구\n",
      "Data columns (total 8 columns):\n",
      " #   Column  Non-Null Count  Dtype  \n",
      "---  ------  --------------  -----  \n",
      " 0   소계      25 non-null     int64  \n",
      " 1   최근증가율   25 non-null     float64\n",
      " 2   인구수     25 non-null     int64  \n",
      " 3   한국인     25 non-null     int64  \n",
      " 4   외국인     25 non-null     int64  \n",
      " 5   고령자     25 non-null     int64  \n",
      " 6   외국인비율   25 non-null     float64\n",
      " 7   고령자비율   25 non-null     float64\n",
      "dtypes: float64(3), int64(5)\n",
      "memory usage: 1.8+ KB\n"
     ]
    }
   ],
   "source": [
    "data_result.info()   #모두 int차입으로 object타입이 없었으므로 연산이 가능했다"
   ]
  },
  {
   "cell_type": "code",
   "execution_count": 551,
   "id": "69e037f8",
   "metadata": {},
   "outputs": [
    {
     "data": {
      "text/html": [
       "<div>\n",
       "<style scoped>\n",
       "    .dataframe tbody tr th:only-of-type {\n",
       "        vertical-align: middle;\n",
       "    }\n",
       "\n",
       "    .dataframe tbody tr th {\n",
       "        vertical-align: top;\n",
       "    }\n",
       "\n",
       "    .dataframe thead th {\n",
       "        text-align: right;\n",
       "    }\n",
       "</style>\n",
       "<table border=\"1\" class=\"dataframe\">\n",
       "  <thead>\n",
       "    <tr style=\"text-align: right;\">\n",
       "      <th></th>\n",
       "      <th>소계</th>\n",
       "      <th>최근증가율</th>\n",
       "      <th>인구수</th>\n",
       "      <th>한국인</th>\n",
       "      <th>외국인</th>\n",
       "      <th>고령자</th>\n",
       "      <th>외국인비율</th>\n",
       "      <th>고령자비율</th>\n",
       "      <th>CCTV비율</th>\n",
       "    </tr>\n",
       "    <tr>\n",
       "      <th>구별</th>\n",
       "      <th></th>\n",
       "      <th></th>\n",
       "      <th></th>\n",
       "      <th></th>\n",
       "      <th></th>\n",
       "      <th></th>\n",
       "      <th></th>\n",
       "      <th></th>\n",
       "      <th></th>\n",
       "    </tr>\n",
       "  </thead>\n",
       "  <tbody>\n",
       "    <tr>\n",
       "      <th>강남구</th>\n",
       "      <td>3238</td>\n",
       "      <td>150.619195</td>\n",
       "      <td>561052</td>\n",
       "      <td>556164</td>\n",
       "      <td>4888</td>\n",
       "      <td>65060</td>\n",
       "      <td>0.871220</td>\n",
       "      <td>11.596073</td>\n",
       "      <td>0.577130</td>\n",
       "    </tr>\n",
       "    <tr>\n",
       "      <th>강동구</th>\n",
       "      <td>1010</td>\n",
       "      <td>166.490765</td>\n",
       "      <td>440359</td>\n",
       "      <td>436223</td>\n",
       "      <td>4136</td>\n",
       "      <td>56161</td>\n",
       "      <td>0.939234</td>\n",
       "      <td>12.753458</td>\n",
       "      <td>0.229358</td>\n",
       "    </tr>\n",
       "    <tr>\n",
       "      <th>강북구</th>\n",
       "      <td>831</td>\n",
       "      <td>125.203252</td>\n",
       "      <td>328002</td>\n",
       "      <td>324479</td>\n",
       "      <td>3523</td>\n",
       "      <td>56530</td>\n",
       "      <td>1.074079</td>\n",
       "      <td>17.234651</td>\n",
       "      <td>0.253352</td>\n",
       "    </tr>\n",
       "    <tr>\n",
       "      <th>강서구</th>\n",
       "      <td>911</td>\n",
       "      <td>134.793814</td>\n",
       "      <td>608255</td>\n",
       "      <td>601691</td>\n",
       "      <td>6564</td>\n",
       "      <td>76032</td>\n",
       "      <td>1.079153</td>\n",
       "      <td>12.500021</td>\n",
       "      <td>0.149773</td>\n",
       "    </tr>\n",
       "    <tr>\n",
       "      <th>관악구</th>\n",
       "      <td>2109</td>\n",
       "      <td>149.290780</td>\n",
       "      <td>520929</td>\n",
       "      <td>503297</td>\n",
       "      <td>17632</td>\n",
       "      <td>70046</td>\n",
       "      <td>3.384722</td>\n",
       "      <td>13.446362</td>\n",
       "      <td>0.404854</td>\n",
       "    </tr>\n",
       "  </tbody>\n",
       "</table>\n",
       "</div>"
      ],
      "text/plain": [
       "       소계       최근증가율     인구수     한국인    외국인    고령자     외국인비율      고령자비율  \\\n",
       "구별                                                                         \n",
       "강남구  3238  150.619195  561052  556164   4888  65060  0.871220  11.596073   \n",
       "강동구  1010  166.490765  440359  436223   4136  56161  0.939234  12.753458   \n",
       "강북구   831  125.203252  328002  324479   3523  56530  1.074079  17.234651   \n",
       "강서구   911  134.793814  608255  601691   6564  76032  1.079153  12.500021   \n",
       "관악구  2109  149.290780  520929  503297  17632  70046  3.384722  13.446362   \n",
       "\n",
       "       CCTV비율  \n",
       "구별             \n",
       "강남구  0.577130  \n",
       "강동구  0.229358  \n",
       "강북구  0.253352  \n",
       "강서구  0.149773  \n",
       "관악구  0.404854  "
      ]
     },
     "execution_count": 551,
     "metadata": {},
     "output_type": "execute_result"
    }
   ],
   "source": [
    "data_result[\"CCTV비율\"] = data_result[\"소계\"] / data_result[\"인구수\"] * 100\n",
    "data_result.head()"
   ]
  },
  {
   "cell_type": "code",
   "execution_count": 552,
   "id": "3c5a695d",
   "metadata": {},
   "outputs": [
    {
     "data": {
      "text/html": [
       "<div>\n",
       "<style scoped>\n",
       "    .dataframe tbody tr th:only-of-type {\n",
       "        vertical-align: middle;\n",
       "    }\n",
       "\n",
       "    .dataframe tbody tr th {\n",
       "        vertical-align: top;\n",
       "    }\n",
       "\n",
       "    .dataframe thead th {\n",
       "        text-align: right;\n",
       "    }\n",
       "</style>\n",
       "<table border=\"1\" class=\"dataframe\">\n",
       "  <thead>\n",
       "    <tr style=\"text-align: right;\">\n",
       "      <th></th>\n",
       "      <th>소계</th>\n",
       "      <th>최근증가율</th>\n",
       "      <th>인구수</th>\n",
       "      <th>한국인</th>\n",
       "      <th>외국인</th>\n",
       "      <th>고령자</th>\n",
       "      <th>외국인비율</th>\n",
       "      <th>고령자비율</th>\n",
       "      <th>CCTV비율</th>\n",
       "    </tr>\n",
       "    <tr>\n",
       "      <th>구별</th>\n",
       "      <th></th>\n",
       "      <th></th>\n",
       "      <th></th>\n",
       "      <th></th>\n",
       "      <th></th>\n",
       "      <th></th>\n",
       "      <th></th>\n",
       "      <th></th>\n",
       "      <th></th>\n",
       "    </tr>\n",
       "  </thead>\n",
       "  <tbody>\n",
       "    <tr>\n",
       "      <th>종로구</th>\n",
       "      <td>1619</td>\n",
       "      <td>248.922414</td>\n",
       "      <td>164257</td>\n",
       "      <td>154770</td>\n",
       "      <td>9487</td>\n",
       "      <td>26182</td>\n",
       "      <td>5.775705</td>\n",
       "      <td>15.939656</td>\n",
       "      <td>0.985651</td>\n",
       "    </tr>\n",
       "    <tr>\n",
       "      <th>용산구</th>\n",
       "      <td>2096</td>\n",
       "      <td>53.216374</td>\n",
       "      <td>244444</td>\n",
       "      <td>229161</td>\n",
       "      <td>15283</td>\n",
       "      <td>36882</td>\n",
       "      <td>6.252148</td>\n",
       "      <td>15.088118</td>\n",
       "      <td>0.857456</td>\n",
       "    </tr>\n",
       "    <tr>\n",
       "      <th>중구</th>\n",
       "      <td>1023</td>\n",
       "      <td>147.699758</td>\n",
       "      <td>134593</td>\n",
       "      <td>125709</td>\n",
       "      <td>8884</td>\n",
       "      <td>21384</td>\n",
       "      <td>6.600640</td>\n",
       "      <td>15.887899</td>\n",
       "      <td>0.760069</td>\n",
       "    </tr>\n",
       "    <tr>\n",
       "      <th>강남구</th>\n",
       "      <td>3238</td>\n",
       "      <td>150.619195</td>\n",
       "      <td>561052</td>\n",
       "      <td>556164</td>\n",
       "      <td>4888</td>\n",
       "      <td>65060</td>\n",
       "      <td>0.871220</td>\n",
       "      <td>11.596073</td>\n",
       "      <td>0.577130</td>\n",
       "    </tr>\n",
       "    <tr>\n",
       "      <th>금천구</th>\n",
       "      <td>1348</td>\n",
       "      <td>100.000000</td>\n",
       "      <td>253491</td>\n",
       "      <td>235154</td>\n",
       "      <td>18337</td>\n",
       "      <td>34170</td>\n",
       "      <td>7.233787</td>\n",
       "      <td>13.479769</td>\n",
       "      <td>0.531774</td>\n",
       "    </tr>\n",
       "  </tbody>\n",
       "</table>\n",
       "</div>"
      ],
      "text/plain": [
       "       소계       최근증가율     인구수     한국인    외국인    고령자     외국인비율      고령자비율  \\\n",
       "구별                                                                         \n",
       "종로구  1619  248.922414  164257  154770   9487  26182  5.775705  15.939656   \n",
       "용산구  2096   53.216374  244444  229161  15283  36882  6.252148  15.088118   \n",
       "중구   1023  147.699758  134593  125709   8884  21384  6.600640  15.887899   \n",
       "강남구  3238  150.619195  561052  556164   4888  65060  0.871220  11.596073   \n",
       "금천구  1348  100.000000  253491  235154  18337  34170  7.233787  13.479769   \n",
       "\n",
       "       CCTV비율  \n",
       "구별             \n",
       "종로구  0.985651  \n",
       "용산구  0.857456  \n",
       "중구   0.760069  \n",
       "강남구  0.577130  \n",
       "금천구  0.531774  "
      ]
     },
     "execution_count": 552,
     "metadata": {},
     "output_type": "execute_result"
    }
   ],
   "source": [
    "data_result.sort_values(by=\"CCTV비율\", ascending=False).head()"
   ]
  },
  {
   "cell_type": "code",
   "execution_count": 553,
   "id": "8e0dbf65",
   "metadata": {},
   "outputs": [
    {
     "data": {
      "text/html": [
       "<div>\n",
       "<style scoped>\n",
       "    .dataframe tbody tr th:only-of-type {\n",
       "        vertical-align: middle;\n",
       "    }\n",
       "\n",
       "    .dataframe tbody tr th {\n",
       "        vertical-align: top;\n",
       "    }\n",
       "\n",
       "    .dataframe thead th {\n",
       "        text-align: right;\n",
       "    }\n",
       "</style>\n",
       "<table border=\"1\" class=\"dataframe\">\n",
       "  <thead>\n",
       "    <tr style=\"text-align: right;\">\n",
       "      <th></th>\n",
       "      <th>소계</th>\n",
       "      <th>최근증가율</th>\n",
       "      <th>인구수</th>\n",
       "      <th>한국인</th>\n",
       "      <th>외국인</th>\n",
       "      <th>고령자</th>\n",
       "      <th>외국인비율</th>\n",
       "      <th>고령자비율</th>\n",
       "      <th>CCTV비율</th>\n",
       "    </tr>\n",
       "    <tr>\n",
       "      <th>구별</th>\n",
       "      <th></th>\n",
       "      <th></th>\n",
       "      <th></th>\n",
       "      <th></th>\n",
       "      <th></th>\n",
       "      <th></th>\n",
       "      <th></th>\n",
       "      <th></th>\n",
       "      <th></th>\n",
       "    </tr>\n",
       "  </thead>\n",
       "  <tbody>\n",
       "    <tr>\n",
       "      <th>강서구</th>\n",
       "      <td>911</td>\n",
       "      <td>134.793814</td>\n",
       "      <td>608255</td>\n",
       "      <td>601691</td>\n",
       "      <td>6564</td>\n",
       "      <td>76032</td>\n",
       "      <td>1.079153</td>\n",
       "      <td>12.500021</td>\n",
       "      <td>0.149773</td>\n",
       "    </tr>\n",
       "    <tr>\n",
       "      <th>송파구</th>\n",
       "      <td>1081</td>\n",
       "      <td>104.347826</td>\n",
       "      <td>671173</td>\n",
       "      <td>664496</td>\n",
       "      <td>6677</td>\n",
       "      <td>76582</td>\n",
       "      <td>0.994825</td>\n",
       "      <td>11.410173</td>\n",
       "      <td>0.161061</td>\n",
       "    </tr>\n",
       "    <tr>\n",
       "      <th>중랑구</th>\n",
       "      <td>916</td>\n",
       "      <td>79.960707</td>\n",
       "      <td>412780</td>\n",
       "      <td>408226</td>\n",
       "      <td>4554</td>\n",
       "      <td>59262</td>\n",
       "      <td>1.103251</td>\n",
       "      <td>14.356800</td>\n",
       "      <td>0.221910</td>\n",
       "    </tr>\n",
       "    <tr>\n",
       "      <th>강동구</th>\n",
       "      <td>1010</td>\n",
       "      <td>166.490765</td>\n",
       "      <td>440359</td>\n",
       "      <td>436223</td>\n",
       "      <td>4136</td>\n",
       "      <td>56161</td>\n",
       "      <td>0.939234</td>\n",
       "      <td>12.753458</td>\n",
       "      <td>0.229358</td>\n",
       "    </tr>\n",
       "    <tr>\n",
       "      <th>광진구</th>\n",
       "      <td>878</td>\n",
       "      <td>53.228621</td>\n",
       "      <td>372298</td>\n",
       "      <td>357703</td>\n",
       "      <td>14595</td>\n",
       "      <td>43953</td>\n",
       "      <td>3.920247</td>\n",
       "      <td>11.805865</td>\n",
       "      <td>0.235833</td>\n",
       "    </tr>\n",
       "  </tbody>\n",
       "</table>\n",
       "</div>"
      ],
      "text/plain": [
       "       소계       최근증가율     인구수     한국인    외국인    고령자     외국인비율      고령자비율  \\\n",
       "구별                                                                         \n",
       "강서구   911  134.793814  608255  601691   6564  76032  1.079153  12.500021   \n",
       "송파구  1081  104.347826  671173  664496   6677  76582  0.994825  11.410173   \n",
       "중랑구   916   79.960707  412780  408226   4554  59262  1.103251  14.356800   \n",
       "강동구  1010  166.490765  440359  436223   4136  56161  0.939234  12.753458   \n",
       "광진구   878   53.228621  372298  357703  14595  43953  3.920247  11.805865   \n",
       "\n",
       "       CCTV비율  \n",
       "구별             \n",
       "강서구  0.149773  \n",
       "송파구  0.161061  \n",
       "중랑구  0.221910  \n",
       "강동구  0.229358  \n",
       "광진구  0.235833  "
      ]
     },
     "execution_count": 553,
     "metadata": {},
     "output_type": "execute_result"
    }
   ],
   "source": [
    "data_result.sort_values(by=\"CCTV비율\", ascending=True).head()"
   ]
  },
  {
   "cell_type": "markdown",
   "id": "125d9419",
   "metadata": {},
   "source": [
    "---"
   ]
  },
  {
   "cell_type": "markdown",
   "id": "b410168f",
   "metadata": {},
   "source": [
    "# matplotilb 기초"
   ]
  },
  {
   "cell_type": "code",
   "execution_count": 554,
   "id": "7ed388ba",
   "metadata": {},
   "outputs": [],
   "source": [
    "import matplotlib.pyplot as plt\n",
    "from matplotlib import rc\n",
    "\n",
    "rc(\"font\", family=\"Malgun Gothic\")\n",
    "%matplotlib inline\n",
    "#get_ipython().run_line_magic(\"matplotlib\", \"inline\")"
   ]
  },
  {
   "cell_type": "markdown",
   "id": "896bcddc",
   "metadata": {},
   "source": [
    "matplotlib 기본 형태\n",
    "```\n",
    "plt.figure(figsize=(10, 6))\n",
    "plt.plot(x, y)\n",
    "plt.show()\n",
    "```"
   ]
  },
  {
   "cell_type": "code",
   "execution_count": 555,
   "id": "e02107e3",
   "metadata": {},
   "outputs": [
    {
     "data": {
      "text/plain": [
       "[<matplotlib.lines.Line2D at 0x1e3540b89a0>]"
      ]
     },
     "execution_count": 555,
     "metadata": {},
     "output_type": "execute_result"
    },
    {
     "name": "stderr",
     "output_type": "stream",
     "text": [
      "C:\\anaconda\\envs\\ds_study\\lib\\site-packages\\IPython\\core\\pylabtools.py:151: UserWarning: Glyph 8722 (\\N{MINUS SIGN}) missing from current font.\n",
      "  fig.canvas.print_figure(bytes_io, **kw)\n"
     ]
    },
    {
     "data": {
      "image/png": "[encoded data removed]",
      "text/plain": [
       "<Figure size 1000x600 with 1 Axes>"
      ]
     },
     "metadata": {},
     "output_type": "display_data"
    }
   ],
   "source": [
    "plt.figure(figsize=(10, 6))\n",
    "plt.plot([0,1,2,3,4,5,6,7,8,9], [1,1,2,3,4,2,3,5,-1,3])"
   ]
  },
  {
   "cell_type": "markdown",
   "id": "e0f24d8d",
   "metadata": {},
   "source": [
    "### 예제1: 그래프 기초"
   ]
  },
  {
   "cell_type": "markdown",
   "id": "b8c19e10",
   "metadata": {},
   "source": [
    "####  삼각함수 그리기\n",
    "- np.arrange(a, b, s): a부터 b까지 s의 간격\n",
    "- np.sin(value)"
   ]
  },
  {
   "cell_type": "code",
   "execution_count": 556,
   "id": "85c9b5b8",
   "metadata": {},
   "outputs": [],
   "source": [
    "import numpy as np\n",
    "\n",
    "t = np.arange(0, 12, 0.01)\n",
    "y = np.sin(t)"
   ]
  },
  {
   "cell_type": "code",
   "execution_count": 557,
   "id": "603ec49d",
   "metadata": {},
   "outputs": [
    {
     "data": {
      "image/png": "[encoded data removed]",
      "text/plain": [
       "<Figure size 1000x600 with 1 Axes>"
      ]
     },
     "metadata": {},
     "output_type": "display_data"
    }
   ],
   "source": [
    "plt.figure(figsize=(10, 6))\n",
    "plt.plot(t, np.sin(t))\n",
    "plt.plot(t, np.cos(t))\n",
    "plt.show()"
   ]
  },
  {
   "cell_type": "markdown",
   "id": "e9652b5e",
   "metadata": {},
   "source": [
    "- 1. 격자무늬 추가\n",
    "- 2. 그래프 제목 추가\n",
    "- 3. x축, y축 제목 추가\n",
    "- 4. 주황색, 파란색 데이터 의미 구분"
   ]
  },
  {
   "cell_type": "code",
   "execution_count": 558,
   "id": "703d50ac",
   "metadata": {},
   "outputs": [],
   "source": [
    "def drawGraph():\n",
    "    plt.figure(figsize=(10, 6))\n",
    "    plt.plot(t, np.sin(t), label=\"sin\")\n",
    "    plt.plot(t, np.cos(t), label=\"cos\")\n",
    "    plt.grid() #격자무늬 default = True\n",
    "    plt.legend(loc=2)  #범례   tap+shift 눌러서 위치설정 명령 확인가능\n",
    "    plt.title('Example of sinewave')  #상단 제목\n",
    "    plt.xlabel(\"time\")\n",
    "    plt.ylabel(\"Amplitude\")  #Amplitude: 진폭\n",
    "    plt.show()"
   ]
  },
  {
   "cell_type": "code",
   "execution_count": 559,
   "id": "89327e96",
   "metadata": {},
   "outputs": [
    {
     "data": {
      "image/png": "[encoded data removed]",
      "text/plain": [
       "<Figure size 1000x600 with 1 Axes>"
      ]
     },
     "metadata": {},
     "output_type": "display_data"
    }
   ],
   "source": [
    "drawGraph()"
   ]
  },
  {
   "cell_type": "markdown",
   "id": "8013278d",
   "metadata": {},
   "source": [
    "### 예제2: 그래프 커스텀"
   ]
  },
  {
   "cell_type": "code",
   "execution_count": 560,
   "id": "1b725591",
   "metadata": {},
   "outputs": [
    {
     "data": {
      "text/plain": [
       "array([0. , 0.5, 1. , 1.5, 2. , 2.5, 3. , 3.5, 4. , 4.5])"
      ]
     },
     "execution_count": 560,
     "metadata": {},
     "output_type": "execute_result"
    }
   ],
   "source": [
    "t = np.arange(0, 5, 0.5)\n",
    "t"
   ]
  },
  {
   "cell_type": "code",
   "execution_count": 561,
   "id": "cd5accfc",
   "metadata": {},
   "outputs": [
    {
     "data": {
      "image/png": "[encoded data removed]",
      "text/plain": [
       "<Figure size 1000x600 with 1 Axes>"
      ]
     },
     "metadata": {},
     "output_type": "display_data"
    }
   ],
   "source": [
    "plt.figure(figsize=(10,6))\n",
    "plt.plot(t,t, \"r--\")  #red ----\n",
    "plt.plot(t, t**2, \"bs\")\n",
    "plt.plot(t, t**3, \"g^\")\n",
    "plt.show()"
   ]
  },
  {
   "cell_type": "code",
   "execution_count": 562,
   "id": "e5436e5c",
   "metadata": {},
   "outputs": [],
   "source": [
    "t = list(range(0,7))  # t = [0, 1, 2, 3, 4, 5, 6]\n",
    "y = [1, 4, 5, 8, 9, 5, 3]"
   ]
  },
  {
   "cell_type": "code",
   "execution_count": 563,
   "id": "2a87bbff",
   "metadata": {},
   "outputs": [
    {
     "data": {
      "image/png": "[encoded data removed]",
      "text/plain": [
       "<Figure size 1000x600 with 1 Axes>"
      ]
     },
     "metadata": {},
     "output_type": "display_data"
    }
   ],
   "source": [
    "def drawGraph():\n",
    "    plt.figure(figsize=(10,6))\n",
    "    plt.plot(\n",
    "        t, y,\n",
    "        color = \"green\",\n",
    "        linestyle = \"--\",\n",
    "        marker = \"o\",\n",
    "        markerfacecolor = \"blue\",\n",
    "        markersize = 10\n",
    "    )\n",
    "    plt.xlim([-0.5, 6.5])\n",
    "    plt.ylim([0.5, 9.5])\n",
    "    plt.show()\n",
    "    \n",
    "drawGraph()"
   ]
  },
  {
   "cell_type": "markdown",
   "id": "f56c3fef",
   "metadata": {},
   "source": [
    "### 예제3: scatter plot"
   ]
  },
  {
   "cell_type": "code",
   "execution_count": 564,
   "id": "3bee0cc3",
   "metadata": {},
   "outputs": [],
   "source": [
    "t = np.array(range(0, 10))\n",
    "y = np.array([9, 8, 7, 9, 8, 3, 2, 4, 3, 4])"
   ]
  },
  {
   "cell_type": "code",
   "execution_count": 565,
   "id": "c5af4db1",
   "metadata": {},
   "outputs": [
    {
     "data": {
      "image/png": "[encoded data removed]",
      "text/plain": [
       "<Figure size 1000x600 with 1 Axes>"
      ]
     },
     "metadata": {},
     "output_type": "display_data"
    }
   ],
   "source": [
    "def drawGraph():\n",
    "    plt.figure(figsize=(10, 6))\n",
    "    plt.scatter(t, y)   #산점도\n",
    "    plt.show()\n",
    "drawGraph()"
   ]
  },
  {
   "cell_type": "code",
   "execution_count": 566,
   "id": "63019b53",
   "metadata": {},
   "outputs": [
    {
     "data": {
      "image/png": "[encoded data removed]",
      "text/plain": [
       "<Figure size 1000x600 with 2 Axes>"
      ]
     },
     "metadata": {},
     "output_type": "display_data"
    }
   ],
   "source": [
    "colormap = t\n",
    "\n",
    "def drawGraph():\n",
    "    plt.figure(figsize=(10, 6))\n",
    "    plt.scatter(t, y, s=50, c=colormap, marker=\"<\") #산점도\n",
    "    plt.colorbar()\n",
    "    plt.show()\n",
    "drawGraph()"
   ]
  },
  {
   "cell_type": "markdown",
   "id": "e4557b71",
   "metadata": {},
   "source": [
    "### 예제4: Pandas에서 plot 그리기\n",
    "- matplotlib 을 가져와서 사용"
   ]
  },
  {
   "cell_type": "code",
   "execution_count": 569,
   "id": "82535005",
   "metadata": {},
   "outputs": [
    {
     "data": {
      "text/html": [
       "<div>\n",
       "<style scoped>\n",
       "    .dataframe tbody tr th:only-of-type {\n",
       "        vertical-align: middle;\n",
       "    }\n",
       "\n",
       "    .dataframe tbody tr th {\n",
       "        vertical-align: top;\n",
       "    }\n",
       "\n",
       "    .dataframe thead th {\n",
       "        text-align: right;\n",
       "    }\n",
       "</style>\n",
       "<table border=\"1\" class=\"dataframe\">\n",
       "  <thead>\n",
       "    <tr style=\"text-align: right;\">\n",
       "      <th></th>\n",
       "      <th>소계</th>\n",
       "      <th>최근증가율</th>\n",
       "      <th>인구수</th>\n",
       "      <th>한국인</th>\n",
       "      <th>외국인</th>\n",
       "      <th>고령자</th>\n",
       "      <th>외국인비율</th>\n",
       "      <th>고령자비율</th>\n",
       "      <th>CCTV비율</th>\n",
       "    </tr>\n",
       "    <tr>\n",
       "      <th>구별</th>\n",
       "      <th></th>\n",
       "      <th></th>\n",
       "      <th></th>\n",
       "      <th></th>\n",
       "      <th></th>\n",
       "      <th></th>\n",
       "      <th></th>\n",
       "      <th></th>\n",
       "      <th></th>\n",
       "    </tr>\n",
       "  </thead>\n",
       "  <tbody>\n",
       "    <tr>\n",
       "      <th>강남구</th>\n",
       "      <td>3238</td>\n",
       "      <td>150.619195</td>\n",
       "      <td>561052</td>\n",
       "      <td>556164</td>\n",
       "      <td>4888</td>\n",
       "      <td>65060</td>\n",
       "      <td>0.871220</td>\n",
       "      <td>11.596073</td>\n",
       "      <td>0.577130</td>\n",
       "    </tr>\n",
       "    <tr>\n",
       "      <th>강동구</th>\n",
       "      <td>1010</td>\n",
       "      <td>166.490765</td>\n",
       "      <td>440359</td>\n",
       "      <td>436223</td>\n",
       "      <td>4136</td>\n",
       "      <td>56161</td>\n",
       "      <td>0.939234</td>\n",
       "      <td>12.753458</td>\n",
       "      <td>0.229358</td>\n",
       "    </tr>\n",
       "    <tr>\n",
       "      <th>강북구</th>\n",
       "      <td>831</td>\n",
       "      <td>125.203252</td>\n",
       "      <td>328002</td>\n",
       "      <td>324479</td>\n",
       "      <td>3523</td>\n",
       "      <td>56530</td>\n",
       "      <td>1.074079</td>\n",
       "      <td>17.234651</td>\n",
       "      <td>0.253352</td>\n",
       "    </tr>\n",
       "    <tr>\n",
       "      <th>강서구</th>\n",
       "      <td>911</td>\n",
       "      <td>134.793814</td>\n",
       "      <td>608255</td>\n",
       "      <td>601691</td>\n",
       "      <td>6564</td>\n",
       "      <td>76032</td>\n",
       "      <td>1.079153</td>\n",
       "      <td>12.500021</td>\n",
       "      <td>0.149773</td>\n",
       "    </tr>\n",
       "    <tr>\n",
       "      <th>관악구</th>\n",
       "      <td>2109</td>\n",
       "      <td>149.290780</td>\n",
       "      <td>520929</td>\n",
       "      <td>503297</td>\n",
       "      <td>17632</td>\n",
       "      <td>70046</td>\n",
       "      <td>3.384722</td>\n",
       "      <td>13.446362</td>\n",
       "      <td>0.404854</td>\n",
       "    </tr>\n",
       "  </tbody>\n",
       "</table>\n",
       "</div>"
      ],
      "text/plain": [
       "       소계       최근증가율     인구수     한국인    외국인    고령자     외국인비율      고령자비율  \\\n",
       "구별                                                                         \n",
       "강남구  3238  150.619195  561052  556164   4888  65060  0.871220  11.596073   \n",
       "강동구  1010  166.490765  440359  436223   4136  56161  0.939234  12.753458   \n",
       "강북구   831  125.203252  328002  324479   3523  56530  1.074079  17.234651   \n",
       "강서구   911  134.793814  608255  601691   6564  76032  1.079153  12.500021   \n",
       "관악구  2109  149.290780  520929  503297  17632  70046  3.384722  13.446362   \n",
       "\n",
       "       CCTV비율  \n",
       "구별             \n",
       "강남구  0.577130  \n",
       "강동구  0.229358  \n",
       "강북구  0.253352  \n",
       "강서구  0.149773  \n",
       "관악구  0.404854  "
      ]
     },
     "execution_count": 569,
     "metadata": {},
     "output_type": "execute_result"
    }
   ],
   "source": [
    "data_result.head()"
   ]
  },
  {
   "cell_type": "code",
   "execution_count": 570,
   "id": "50f3b484",
   "metadata": {},
   "outputs": [
    {
     "data": {
      "text/plain": [
       "<AxesSubplot:xlabel='구별'>"
      ]
     },
     "execution_count": 570,
     "metadata": {},
     "output_type": "execute_result"
    },
    {
     "data": {
      "image/png": "[encoded data removed]",
      "text/plain": [
       "<Figure size 600x400 with 1 Axes>"
      ]
     },
     "metadata": {},
     "output_type": "display_data"
    }
   ],
   "source": [
    "data_result[\"인구수\"].plot(kind=\"bar\", figsize=(6, 4))"
   ]
  },
  {
   "cell_type": "code",
   "execution_count": 574,
   "id": "b3010f10",
   "metadata": {},
   "outputs": [
    {
     "data": {
      "text/plain": [
       "<AxesSubplot:ylabel='구별'>"
      ]
     },
     "execution_count": 574,
     "metadata": {},
     "output_type": "execute_result"
    },
    {
     "data": {
      "image/png": "[encoded data removed]",
      "text/plain": [
       "<Figure size 600x1000 with 1 Axes>"
      ]
     },
     "metadata": {},
     "output_type": "display_data"
    }
   ],
   "source": [
    "data_result[\"인구수\"].plot(kind=\"barh\", figsize=(6, 10))"
   ]
  },
  {
   "cell_type": "markdown",
   "id": "be4e2a8e",
   "metadata": {},
   "source": [
    "---"
   ]
  },
  {
   "cell_type": "markdown",
   "id": "1a4b2c49",
   "metadata": {},
   "source": [
    "## 5. 데이터 시각화"
   ]
  },
  {
   "cell_type": "code",
   "execution_count": 577,
   "id": "a88a9232",
   "metadata": {},
   "outputs": [],
   "source": [
    "import matplotlib.pyplot as plt\n",
    "#import matplotlib as mpl\n",
    "plt.rcParams[\"axes.unicode_minus\"] = False #마이너스 부호 때문에 한글이 깨질 수 있어 주는 설정\n",
    "rc(\"font\", family=\"Malgun Gothic\")\n",
    "%matplotlib inline\n",
    "#get_ipython().run_line_magic(\"matplolib\", \"inline\")"
   ]
  },
  {
   "cell_type": "code",
   "execution_count": 578,
   "id": "21a8d1d4",
   "metadata": {},
   "outputs": [
    {
     "data": {
      "text/html": [
       "<div>\n",
       "<style scoped>\n",
       "    .dataframe tbody tr th:only-of-type {\n",
       "        vertical-align: middle;\n",
       "    }\n",
       "\n",
       "    .dataframe tbody tr th {\n",
       "        vertical-align: top;\n",
       "    }\n",
       "\n",
       "    .dataframe thead th {\n",
       "        text-align: right;\n",
       "    }\n",
       "</style>\n",
       "<table border=\"1\" class=\"dataframe\">\n",
       "  <thead>\n",
       "    <tr style=\"text-align: right;\">\n",
       "      <th></th>\n",
       "      <th>소계</th>\n",
       "      <th>최근증가율</th>\n",
       "      <th>인구수</th>\n",
       "      <th>한국인</th>\n",
       "      <th>외국인</th>\n",
       "      <th>고령자</th>\n",
       "      <th>외국인비율</th>\n",
       "      <th>고령자비율</th>\n",
       "      <th>CCTV비율</th>\n",
       "    </tr>\n",
       "    <tr>\n",
       "      <th>구별</th>\n",
       "      <th></th>\n",
       "      <th></th>\n",
       "      <th></th>\n",
       "      <th></th>\n",
       "      <th></th>\n",
       "      <th></th>\n",
       "      <th></th>\n",
       "      <th></th>\n",
       "      <th></th>\n",
       "    </tr>\n",
       "  </thead>\n",
       "  <tbody>\n",
       "    <tr>\n",
       "      <th>강남구</th>\n",
       "      <td>3238</td>\n",
       "      <td>150.619195</td>\n",
       "      <td>561052</td>\n",
       "      <td>556164</td>\n",
       "      <td>4888</td>\n",
       "      <td>65060</td>\n",
       "      <td>0.871220</td>\n",
       "      <td>11.596073</td>\n",
       "      <td>0.577130</td>\n",
       "    </tr>\n",
       "    <tr>\n",
       "      <th>강동구</th>\n",
       "      <td>1010</td>\n",
       "      <td>166.490765</td>\n",
       "      <td>440359</td>\n",
       "      <td>436223</td>\n",
       "      <td>4136</td>\n",
       "      <td>56161</td>\n",
       "      <td>0.939234</td>\n",
       "      <td>12.753458</td>\n",
       "      <td>0.229358</td>\n",
       "    </tr>\n",
       "    <tr>\n",
       "      <th>강북구</th>\n",
       "      <td>831</td>\n",
       "      <td>125.203252</td>\n",
       "      <td>328002</td>\n",
       "      <td>324479</td>\n",
       "      <td>3523</td>\n",
       "      <td>56530</td>\n",
       "      <td>1.074079</td>\n",
       "      <td>17.234651</td>\n",
       "      <td>0.253352</td>\n",
       "    </tr>\n",
       "    <tr>\n",
       "      <th>강서구</th>\n",
       "      <td>911</td>\n",
       "      <td>134.793814</td>\n",
       "      <td>608255</td>\n",
       "      <td>601691</td>\n",
       "      <td>6564</td>\n",
       "      <td>76032</td>\n",
       "      <td>1.079153</td>\n",
       "      <td>12.500021</td>\n",
       "      <td>0.149773</td>\n",
       "    </tr>\n",
       "    <tr>\n",
       "      <th>관악구</th>\n",
       "      <td>2109</td>\n",
       "      <td>149.290780</td>\n",
       "      <td>520929</td>\n",
       "      <td>503297</td>\n",
       "      <td>17632</td>\n",
       "      <td>70046</td>\n",
       "      <td>3.384722</td>\n",
       "      <td>13.446362</td>\n",
       "      <td>0.404854</td>\n",
       "    </tr>\n",
       "  </tbody>\n",
       "</table>\n",
       "</div>"
      ],
      "text/plain": [
       "       소계       최근증가율     인구수     한국인    외국인    고령자     외국인비율      고령자비율  \\\n",
       "구별                                                                         \n",
       "강남구  3238  150.619195  561052  556164   4888  65060  0.871220  11.596073   \n",
       "강동구  1010  166.490765  440359  436223   4136  56161  0.939234  12.753458   \n",
       "강북구   831  125.203252  328002  324479   3523  56530  1.074079  17.234651   \n",
       "강서구   911  134.793814  608255  601691   6564  76032  1.079153  12.500021   \n",
       "관악구  2109  149.290780  520929  503297  17632  70046  3.384722  13.446362   \n",
       "\n",
       "       CCTV비율  \n",
       "구별             \n",
       "강남구  0.577130  \n",
       "강동구  0.229358  \n",
       "강북구  0.253352  \n",
       "강서구  0.149773  \n",
       "관악구  0.404854  "
      ]
     },
     "execution_count": 578,
     "metadata": {},
     "output_type": "execute_result"
    }
   ],
   "source": [
    "data_result.head()"
   ]
  },
  {
   "cell_type": "markdown",
   "id": "3248fc68",
   "metadata": {},
   "source": [
    "#### 소계 컬럼 시각화"
   ]
  },
  {
   "cell_type": "code",
   "execution_count": 582,
   "id": "a1875626",
   "metadata": {},
   "outputs": [
    {
     "data": {
      "image/png": "[encoded data removed]",
      "text/plain": [
       "<Figure size 600x600 with 1 Axes>"
      ]
     },
     "metadata": {},
     "output_type": "display_data"
    }
   ],
   "source": [
    "data_result[\"소계\"].plot(kind=\"barh\", grid=True, figsize=(6,6));"
   ]
  },
  {
   "cell_type": "code",
   "execution_count": 586,
   "id": "8a9516a9",
   "metadata": {},
   "outputs": [
    {
     "data": {
      "image/png": "[encoded data removed]",
      "text/plain": [
       "<Figure size 600x600 with 1 Axes>"
      ]
     },
     "metadata": {},
     "output_type": "display_data"
    }
   ],
   "source": [
    "def drawGraph():\n",
    "    data_result[\"소계\"].sort_values().plot(\n",
    "        kind=\"barh\", grid=True, title=\"가장 CCTV가 많은 구\", figsize=(6,6));\n",
    "drawGraph()"
   ]
  },
  {
   "cell_type": "code",
   "execution_count": 587,
   "id": "51698fcd",
   "metadata": {},
   "outputs": [
    {
     "data": {
      "text/html": [
       "<div>\n",
       "<style scoped>\n",
       "    .dataframe tbody tr th:only-of-type {\n",
       "        vertical-align: middle;\n",
       "    }\n",
       "\n",
       "    .dataframe tbody tr th {\n",
       "        vertical-align: top;\n",
       "    }\n",
       "\n",
       "    .dataframe thead th {\n",
       "        text-align: right;\n",
       "    }\n",
       "</style>\n",
       "<table border=\"1\" class=\"dataframe\">\n",
       "  <thead>\n",
       "    <tr style=\"text-align: right;\">\n",
       "      <th></th>\n",
       "      <th>소계</th>\n",
       "      <th>최근증가율</th>\n",
       "      <th>인구수</th>\n",
       "      <th>한국인</th>\n",
       "      <th>외국인</th>\n",
       "      <th>고령자</th>\n",
       "      <th>외국인비율</th>\n",
       "      <th>고령자비율</th>\n",
       "      <th>CCTV비율</th>\n",
       "    </tr>\n",
       "    <tr>\n",
       "      <th>구별</th>\n",
       "      <th></th>\n",
       "      <th></th>\n",
       "      <th></th>\n",
       "      <th></th>\n",
       "      <th></th>\n",
       "      <th></th>\n",
       "      <th></th>\n",
       "      <th></th>\n",
       "      <th></th>\n",
       "    </tr>\n",
       "  </thead>\n",
       "  <tbody>\n",
       "    <tr>\n",
       "      <th>강남구</th>\n",
       "      <td>3238</td>\n",
       "      <td>150.619195</td>\n",
       "      <td>561052</td>\n",
       "      <td>556164</td>\n",
       "      <td>4888</td>\n",
       "      <td>65060</td>\n",
       "      <td>0.871220</td>\n",
       "      <td>11.596073</td>\n",
       "      <td>0.577130</td>\n",
       "    </tr>\n",
       "    <tr>\n",
       "      <th>강동구</th>\n",
       "      <td>1010</td>\n",
       "      <td>166.490765</td>\n",
       "      <td>440359</td>\n",
       "      <td>436223</td>\n",
       "      <td>4136</td>\n",
       "      <td>56161</td>\n",
       "      <td>0.939234</td>\n",
       "      <td>12.753458</td>\n",
       "      <td>0.229358</td>\n",
       "    </tr>\n",
       "    <tr>\n",
       "      <th>강북구</th>\n",
       "      <td>831</td>\n",
       "      <td>125.203252</td>\n",
       "      <td>328002</td>\n",
       "      <td>324479</td>\n",
       "      <td>3523</td>\n",
       "      <td>56530</td>\n",
       "      <td>1.074079</td>\n",
       "      <td>17.234651</td>\n",
       "      <td>0.253352</td>\n",
       "    </tr>\n",
       "    <tr>\n",
       "      <th>강서구</th>\n",
       "      <td>911</td>\n",
       "      <td>134.793814</td>\n",
       "      <td>608255</td>\n",
       "      <td>601691</td>\n",
       "      <td>6564</td>\n",
       "      <td>76032</td>\n",
       "      <td>1.079153</td>\n",
       "      <td>12.500021</td>\n",
       "      <td>0.149773</td>\n",
       "    </tr>\n",
       "    <tr>\n",
       "      <th>관악구</th>\n",
       "      <td>2109</td>\n",
       "      <td>149.290780</td>\n",
       "      <td>520929</td>\n",
       "      <td>503297</td>\n",
       "      <td>17632</td>\n",
       "      <td>70046</td>\n",
       "      <td>3.384722</td>\n",
       "      <td>13.446362</td>\n",
       "      <td>0.404854</td>\n",
       "    </tr>\n",
       "  </tbody>\n",
       "</table>\n",
       "</div>"
      ],
      "text/plain": [
       "       소계       최근증가율     인구수     한국인    외국인    고령자     외국인비율      고령자비율  \\\n",
       "구별                                                                         \n",
       "강남구  3238  150.619195  561052  556164   4888  65060  0.871220  11.596073   \n",
       "강동구  1010  166.490765  440359  436223   4136  56161  0.939234  12.753458   \n",
       "강북구   831  125.203252  328002  324479   3523  56530  1.074079  17.234651   \n",
       "강서구   911  134.793814  608255  601691   6564  76032  1.079153  12.500021   \n",
       "관악구  2109  149.290780  520929  503297  17632  70046  3.384722  13.446362   \n",
       "\n",
       "       CCTV비율  \n",
       "구별             \n",
       "강남구  0.577130  \n",
       "강동구  0.229358  \n",
       "강북구  0.253352  \n",
       "강서구  0.149773  \n",
       "관악구  0.404854  "
      ]
     },
     "execution_count": 587,
     "metadata": {},
     "output_type": "execute_result"
    }
   ],
   "source": [
    "data_result.head()"
   ]
  },
  {
   "cell_type": "code",
   "execution_count": 588,
   "id": "37dbd4c9",
   "metadata": {},
   "outputs": [
    {
     "data": {
      "image/png": "[encoded data removed]",
      "text/plain": [
       "<Figure size 600x600 with 1 Axes>"
      ]
     },
     "metadata": {},
     "output_type": "display_data"
    }
   ],
   "source": [
    "def drawGraph():\n",
    "    data_result[\"CCTV비율\"].sort_values().plot(\n",
    "        kind=\"barh\", grid=True, title=\"가장 인구대비 CCTV가 많은 구\", figsize=(6,6));\n",
    "drawGraph()"
   ]
  },
  {
   "cell_type": "markdown",
   "id": "d12ab276",
   "metadata": {},
   "source": [
    "## 6. 데이터의 경향 표시"
   ]
  },
  {
   "cell_type": "code",
   "execution_count": 589,
   "id": "d4cb214f",
   "metadata": {},
   "outputs": [
    {
     "data": {
      "text/html": [
       "<div>\n",
       "<style scoped>\n",
       "    .dataframe tbody tr th:only-of-type {\n",
       "        vertical-align: middle;\n",
       "    }\n",
       "\n",
       "    .dataframe tbody tr th {\n",
       "        vertical-align: top;\n",
       "    }\n",
       "\n",
       "    .dataframe thead th {\n",
       "        text-align: right;\n",
       "    }\n",
       "</style>\n",
       "<table border=\"1\" class=\"dataframe\">\n",
       "  <thead>\n",
       "    <tr style=\"text-align: right;\">\n",
       "      <th></th>\n",
       "      <th>소계</th>\n",
       "      <th>최근증가율</th>\n",
       "      <th>인구수</th>\n",
       "      <th>한국인</th>\n",
       "      <th>외국인</th>\n",
       "      <th>고령자</th>\n",
       "      <th>외국인비율</th>\n",
       "      <th>고령자비율</th>\n",
       "      <th>CCTV비율</th>\n",
       "    </tr>\n",
       "    <tr>\n",
       "      <th>구별</th>\n",
       "      <th></th>\n",
       "      <th></th>\n",
       "      <th></th>\n",
       "      <th></th>\n",
       "      <th></th>\n",
       "      <th></th>\n",
       "      <th></th>\n",
       "      <th></th>\n",
       "      <th></th>\n",
       "    </tr>\n",
       "  </thead>\n",
       "  <tbody>\n",
       "    <tr>\n",
       "      <th>강남구</th>\n",
       "      <td>3238</td>\n",
       "      <td>150.619195</td>\n",
       "      <td>561052</td>\n",
       "      <td>556164</td>\n",
       "      <td>4888</td>\n",
       "      <td>65060</td>\n",
       "      <td>0.871220</td>\n",
       "      <td>11.596073</td>\n",
       "      <td>0.577130</td>\n",
       "    </tr>\n",
       "    <tr>\n",
       "      <th>강동구</th>\n",
       "      <td>1010</td>\n",
       "      <td>166.490765</td>\n",
       "      <td>440359</td>\n",
       "      <td>436223</td>\n",
       "      <td>4136</td>\n",
       "      <td>56161</td>\n",
       "      <td>0.939234</td>\n",
       "      <td>12.753458</td>\n",
       "      <td>0.229358</td>\n",
       "    </tr>\n",
       "    <tr>\n",
       "      <th>강북구</th>\n",
       "      <td>831</td>\n",
       "      <td>125.203252</td>\n",
       "      <td>328002</td>\n",
       "      <td>324479</td>\n",
       "      <td>3523</td>\n",
       "      <td>56530</td>\n",
       "      <td>1.074079</td>\n",
       "      <td>17.234651</td>\n",
       "      <td>0.253352</td>\n",
       "    </tr>\n",
       "    <tr>\n",
       "      <th>강서구</th>\n",
       "      <td>911</td>\n",
       "      <td>134.793814</td>\n",
       "      <td>608255</td>\n",
       "      <td>601691</td>\n",
       "      <td>6564</td>\n",
       "      <td>76032</td>\n",
       "      <td>1.079153</td>\n",
       "      <td>12.500021</td>\n",
       "      <td>0.149773</td>\n",
       "    </tr>\n",
       "    <tr>\n",
       "      <th>관악구</th>\n",
       "      <td>2109</td>\n",
       "      <td>149.290780</td>\n",
       "      <td>520929</td>\n",
       "      <td>503297</td>\n",
       "      <td>17632</td>\n",
       "      <td>70046</td>\n",
       "      <td>3.384722</td>\n",
       "      <td>13.446362</td>\n",
       "      <td>0.404854</td>\n",
       "    </tr>\n",
       "  </tbody>\n",
       "</table>\n",
       "</div>"
      ],
      "text/plain": [
       "       소계       최근증가율     인구수     한국인    외국인    고령자     외국인비율      고령자비율  \\\n",
       "구별                                                                         \n",
       "강남구  3238  150.619195  561052  556164   4888  65060  0.871220  11.596073   \n",
       "강동구  1010  166.490765  440359  436223   4136  56161  0.939234  12.753458   \n",
       "강북구   831  125.203252  328002  324479   3523  56530  1.074079  17.234651   \n",
       "강서구   911  134.793814  608255  601691   6564  76032  1.079153  12.500021   \n",
       "관악구  2109  149.290780  520929  503297  17632  70046  3.384722  13.446362   \n",
       "\n",
       "       CCTV비율  \n",
       "구별             \n",
       "강남구  0.577130  \n",
       "강동구  0.229358  \n",
       "강북구  0.253352  \n",
       "강서구  0.149773  \n",
       "관악구  0.404854  "
      ]
     },
     "execution_count": 589,
     "metadata": {},
     "output_type": "execute_result"
    }
   ],
   "source": [
    "data_result.head()"
   ]
  },
  {
   "cell_type": "markdown",
   "id": "ac7d7c06",
   "metadata": {},
   "source": [
    "#### 인구수와 소계 컬럼으로 scatter plot 그리기"
   ]
  },
  {
   "cell_type": "code",
   "execution_count": 606,
   "id": "1d0b9d46",
   "metadata": {},
   "outputs": [
    {
     "data": {
      "image/png": "[encoded data removed]",
      "text/plain": [
       "<Figure size 600x400 with 1 Axes>"
      ]
     },
     "metadata": {},
     "output_type": "display_data"
    }
   ],
   "source": [
    "def drawGraph():\n",
    "    plt.figure(figsize=(6, 4))\n",
    "    plt.scatter(data_result[\"인구수\"], data_result[\"소계\"], s=30)\n",
    "    plt.xlabel(\"인구수\")\n",
    "    plt.ylabel(\"CCTV 수\")\n",
    "    plt.grid()\n",
    "    plt.show()\n",
    "drawGraph()"
   ]
  },
  {
   "cell_type": "markdown",
   "id": "a76a9093",
   "metadata": {},
   "source": [
    "#### Numpy를 이용한 1차 직선 만들기\n",
    "- np.ployfit(): 직선을 구성하기 위한 계수를 계산\n",
    "- np.ploy1d(): ployfit으로 찾은 계수로 파이썬에서 사용할 수 있는 함수로 만들어주는 기능"
   ]
  },
  {
   "cell_type": "code",
   "execution_count": 598,
   "id": "a8150819",
   "metadata": {},
   "outputs": [],
   "source": [
    "import numpy as np"
   ]
  },
  {
   "cell_type": "code",
   "execution_count": 600,
   "id": "67788546",
   "metadata": {},
   "outputs": [
    {
     "data": {
      "text/plain": [
       "array([1.11155868e-03, 1.06515745e+03])"
      ]
     },
     "execution_count": 600,
     "metadata": {},
     "output_type": "execute_result"
    }
   ],
   "source": [
    "fp1 = np.polyfit(data_result[\"인구수\"], data_result[\"소계\"], 1)\n",
    "fp1"
   ]
  },
  {
   "cell_type": "code",
   "execution_count": 601,
   "id": "a2caf8b1",
   "metadata": {},
   "outputs": [
    {
     "data": {
      "text/plain": [
       "poly1d([1.11155868e-03, 1.06515745e+03])"
      ]
     },
     "execution_count": 601,
     "metadata": {},
     "output_type": "execute_result"
    }
   ],
   "source": [
    "f1 = np.poly1d(fp1)\n",
    "f1"
   ]
  },
  {
   "cell_type": "code",
   "execution_count": 602,
   "id": "3068577c",
   "metadata": {},
   "outputs": [
    {
     "data": {
      "text/plain": [
       "1509.7809252413338"
      ]
     },
     "execution_count": 602,
     "metadata": {},
     "output_type": "execute_result"
    }
   ],
   "source": [
    "f1(400000)"
   ]
  },
  {
   "cell_type": "markdown",
   "id": "60863706",
   "metadata": {},
   "source": [
    "- 인구가 40만인 구에서 서울시의 전체 경향에 맞는 적당한 CCTV 수는?"
   ]
  },
  {
   "cell_type": "code",
   "execution_count": 604,
   "id": "8084528f",
   "metadata": {},
   "outputs": [],
   "source": [
    "fx = np.linspace(100000, 700000, 100)"
   ]
  },
  {
   "cell_type": "markdown",
   "id": "2c0e0caa",
   "metadata": {},
   "source": [
    "- 경향선을 그리기 위한 x 데이터 생성\n",
    "- np.linspae(a, b, n): a부터 b까지 n개의 등간격 데이터 생성"
   ]
  },
  {
   "cell_type": "code",
   "execution_count": 607,
   "id": "45405e58",
   "metadata": {},
   "outputs": [
    {
     "data": {
      "image/png": "[encoded data removed]",
      "text/plain": [
       "<Figure size 600x400 with 1 Axes>"
      ]
     },
     "metadata": {},
     "output_type": "display_data"
    }
   ],
   "source": [
    "def drawGraph():\n",
    "    plt.figure(figsize=(6, 4))\n",
    "    plt.scatter(data_result[\"인구수\"], data_result[\"소계\"], s=30)   #그래프1\n",
    "    plt.plot(fx, f1(fx), ls=\"dashed\", lw=3, color=\"g\")   #그래프2\n",
    "    plt.xlabel(\"인구수\")\n",
    "    plt.ylabel(\"CCTV 수\")\n",
    "    plt.grid()\n",
    "    plt.show()\n",
    "drawGraph()"
   ]
  },
  {
   "cell_type": "markdown",
   "id": "f5d9220c",
   "metadata": {},
   "source": [
    "## 강조하고 싶은 데이터를 시각화해보자"
   ]
  },
  {
   "cell_type": "markdown",
   "id": "31e5aede",
   "metadata": {},
   "source": [
    "### 그래프 다듬기\n",
    "#### 경향과의 오차 만들기\n",
    "- 경향(trend)과의 오차 만들자\n",
    "- 경향은 f1 함수에 해당 인구를 입력\n",
    "- f1(data_result[\"인구수\"])"
   ]
  },
  {
   "cell_type": "code",
   "execution_count": 612,
   "id": "0723aeee",
   "metadata": {},
   "outputs": [],
   "source": [
    "fp1 = np.polyfit(data_result[\"인구수\"], data_result[\"소계\"], 1)\n",
    "f1 = np.poly1d(fp1)\n",
    "fx = np.linspace(100000, 700000, 100)"
   ]
  },
  {
   "cell_type": "code",
   "execution_count": 613,
   "id": "d35133e3",
   "metadata": {},
   "outputs": [
    {
     "data": {
      "text/html": [
       "<div>\n",
       "<style scoped>\n",
       "    .dataframe tbody tr th:only-of-type {\n",
       "        vertical-align: middle;\n",
       "    }\n",
       "\n",
       "    .dataframe tbody tr th {\n",
       "        vertical-align: top;\n",
       "    }\n",
       "\n",
       "    .dataframe thead th {\n",
       "        text-align: right;\n",
       "    }\n",
       "</style>\n",
       "<table border=\"1\" class=\"dataframe\">\n",
       "  <thead>\n",
       "    <tr style=\"text-align: right;\">\n",
       "      <th></th>\n",
       "      <th>소계</th>\n",
       "      <th>최근증가율</th>\n",
       "      <th>인구수</th>\n",
       "      <th>한국인</th>\n",
       "      <th>외국인</th>\n",
       "      <th>고령자</th>\n",
       "      <th>외국인비율</th>\n",
       "      <th>고령자비율</th>\n",
       "      <th>CCTV비율</th>\n",
       "    </tr>\n",
       "    <tr>\n",
       "      <th>구별</th>\n",
       "      <th></th>\n",
       "      <th></th>\n",
       "      <th></th>\n",
       "      <th></th>\n",
       "      <th></th>\n",
       "      <th></th>\n",
       "      <th></th>\n",
       "      <th></th>\n",
       "      <th></th>\n",
       "    </tr>\n",
       "  </thead>\n",
       "  <tbody>\n",
       "    <tr>\n",
       "      <th>강남구</th>\n",
       "      <td>3238</td>\n",
       "      <td>150.619195</td>\n",
       "      <td>561052</td>\n",
       "      <td>556164</td>\n",
       "      <td>4888</td>\n",
       "      <td>65060</td>\n",
       "      <td>0.871220</td>\n",
       "      <td>11.596073</td>\n",
       "      <td>0.577130</td>\n",
       "    </tr>\n",
       "    <tr>\n",
       "      <th>강동구</th>\n",
       "      <td>1010</td>\n",
       "      <td>166.490765</td>\n",
       "      <td>440359</td>\n",
       "      <td>436223</td>\n",
       "      <td>4136</td>\n",
       "      <td>56161</td>\n",
       "      <td>0.939234</td>\n",
       "      <td>12.753458</td>\n",
       "      <td>0.229358</td>\n",
       "    </tr>\n",
       "    <tr>\n",
       "      <th>강북구</th>\n",
       "      <td>831</td>\n",
       "      <td>125.203252</td>\n",
       "      <td>328002</td>\n",
       "      <td>324479</td>\n",
       "      <td>3523</td>\n",
       "      <td>56530</td>\n",
       "      <td>1.074079</td>\n",
       "      <td>17.234651</td>\n",
       "      <td>0.253352</td>\n",
       "    </tr>\n",
       "  </tbody>\n",
       "</table>\n",
       "</div>"
      ],
      "text/plain": [
       "       소계       최근증가율     인구수     한국인   외국인    고령자     외국인비율      고령자비율  \\\n",
       "구별                                                                        \n",
       "강남구  3238  150.619195  561052  556164  4888  65060  0.871220  11.596073   \n",
       "강동구  1010  166.490765  440359  436223  4136  56161  0.939234  12.753458   \n",
       "강북구   831  125.203252  328002  324479  3523  56530  1.074079  17.234651   \n",
       "\n",
       "       CCTV비율  \n",
       "구별             \n",
       "강남구  0.577130  \n",
       "강동구  0.229358  \n",
       "강북구  0.253352  "
      ]
     },
     "execution_count": 613,
     "metadata": {},
     "output_type": "execute_result"
    }
   ],
   "source": [
    "data_result.head(3)"
   ]
  },
  {
   "cell_type": "code",
   "execution_count": 614,
   "id": "3847f688",
   "metadata": {},
   "outputs": [],
   "source": [
    "data_result[\"오차\"] = data_result[\"소계\"] - f1(data_result[\"인구수\"])"
   ]
  },
  {
   "cell_type": "code",
   "execution_count": 615,
   "id": "fbdd838b",
   "metadata": {},
   "outputs": [
    {
     "data": {
      "text/html": [
       "<div>\n",
       "<style scoped>\n",
       "    .dataframe tbody tr th:only-of-type {\n",
       "        vertical-align: middle;\n",
       "    }\n",
       "\n",
       "    .dataframe tbody tr th {\n",
       "        vertical-align: top;\n",
       "    }\n",
       "\n",
       "    .dataframe thead th {\n",
       "        text-align: right;\n",
       "    }\n",
       "</style>\n",
       "<table border=\"1\" class=\"dataframe\">\n",
       "  <thead>\n",
       "    <tr style=\"text-align: right;\">\n",
       "      <th></th>\n",
       "      <th>소계</th>\n",
       "      <th>최근증가율</th>\n",
       "      <th>인구수</th>\n",
       "      <th>한국인</th>\n",
       "      <th>외국인</th>\n",
       "      <th>고령자</th>\n",
       "      <th>외국인비율</th>\n",
       "      <th>고령자비율</th>\n",
       "      <th>CCTV비율</th>\n",
       "      <th>오차</th>\n",
       "    </tr>\n",
       "    <tr>\n",
       "      <th>구별</th>\n",
       "      <th></th>\n",
       "      <th></th>\n",
       "      <th></th>\n",
       "      <th></th>\n",
       "      <th></th>\n",
       "      <th></th>\n",
       "      <th></th>\n",
       "      <th></th>\n",
       "      <th></th>\n",
       "      <th></th>\n",
       "    </tr>\n",
       "  </thead>\n",
       "  <tbody>\n",
       "    <tr>\n",
       "      <th>강남구</th>\n",
       "      <td>3238</td>\n",
       "      <td>150.619195</td>\n",
       "      <td>561052</td>\n",
       "      <td>556164</td>\n",
       "      <td>4888</td>\n",
       "      <td>65060</td>\n",
       "      <td>0.87122</td>\n",
       "      <td>11.596073</td>\n",
       "      <td>0.57713</td>\n",
       "      <td>1549.200326</td>\n",
       "    </tr>\n",
       "  </tbody>\n",
       "</table>\n",
       "</div>"
      ],
      "text/plain": [
       "       소계       최근증가율     인구수     한국인   외국인    고령자    외국인비율      고령자비율  \\\n",
       "구별                                                                       \n",
       "강남구  3238  150.619195  561052  556164  4888  65060  0.87122  11.596073   \n",
       "\n",
       "      CCTV비율           오차  \n",
       "구별                         \n",
       "강남구  0.57713  1549.200326  "
      ]
     },
     "execution_count": 615,
     "metadata": {},
     "output_type": "execute_result"
    }
   ],
   "source": [
    "data_result.head(1)"
   ]
  },
  {
   "cell_type": "code",
   "execution_count": 616,
   "id": "9235c494",
   "metadata": {},
   "outputs": [],
   "source": [
    "# 경향과 비교해서 데이터의 오차가 너무 나는 데이터를 계산\n",
    "df_sort_f = data_result.sort_values(by=\"오차\", ascending=False) #내림차순\n",
    "df_sort_t = data_result.sort_values(by=\"오차\", ascending=True) #오름차순"
   ]
  },
  {
   "cell_type": "code",
   "execution_count": 617,
   "id": "fd985fa7",
   "metadata": {},
   "outputs": [
    {
     "data": {
      "text/html": [
       "<div>\n",
       "<style scoped>\n",
       "    .dataframe tbody tr th:only-of-type {\n",
       "        vertical-align: middle;\n",
       "    }\n",
       "\n",
       "    .dataframe tbody tr th {\n",
       "        vertical-align: top;\n",
       "    }\n",
       "\n",
       "    .dataframe thead th {\n",
       "        text-align: right;\n",
       "    }\n",
       "</style>\n",
       "<table border=\"1\" class=\"dataframe\">\n",
       "  <thead>\n",
       "    <tr style=\"text-align: right;\">\n",
       "      <th></th>\n",
       "      <th>소계</th>\n",
       "      <th>최근증가율</th>\n",
       "      <th>인구수</th>\n",
       "      <th>한국인</th>\n",
       "      <th>외국인</th>\n",
       "      <th>고령자</th>\n",
       "      <th>외국인비율</th>\n",
       "      <th>고령자비율</th>\n",
       "      <th>CCTV비율</th>\n",
       "      <th>오차</th>\n",
       "    </tr>\n",
       "    <tr>\n",
       "      <th>구별</th>\n",
       "      <th></th>\n",
       "      <th></th>\n",
       "      <th></th>\n",
       "      <th></th>\n",
       "      <th></th>\n",
       "      <th></th>\n",
       "      <th></th>\n",
       "      <th></th>\n",
       "      <th></th>\n",
       "      <th></th>\n",
       "    </tr>\n",
       "  </thead>\n",
       "  <tbody>\n",
       "    <tr>\n",
       "      <th>강남구</th>\n",
       "      <td>3238</td>\n",
       "      <td>150.619195</td>\n",
       "      <td>561052</td>\n",
       "      <td>556164</td>\n",
       "      <td>4888</td>\n",
       "      <td>65060</td>\n",
       "      <td>0.871220</td>\n",
       "      <td>11.596073</td>\n",
       "      <td>0.577130</td>\n",
       "      <td>1549.200326</td>\n",
       "    </tr>\n",
       "    <tr>\n",
       "      <th>양천구</th>\n",
       "      <td>2482</td>\n",
       "      <td>34.671731</td>\n",
       "      <td>475018</td>\n",
       "      <td>471154</td>\n",
       "      <td>3864</td>\n",
       "      <td>55234</td>\n",
       "      <td>0.813443</td>\n",
       "      <td>11.627770</td>\n",
       "      <td>0.522507</td>\n",
       "      <td>888.832166</td>\n",
       "    </tr>\n",
       "    <tr>\n",
       "      <th>용산구</th>\n",
       "      <td>2096</td>\n",
       "      <td>53.216374</td>\n",
       "      <td>244444</td>\n",
       "      <td>229161</td>\n",
       "      <td>15283</td>\n",
       "      <td>36882</td>\n",
       "      <td>6.252148</td>\n",
       "      <td>15.088118</td>\n",
       "      <td>0.857456</td>\n",
       "      <td>759.128697</td>\n",
       "    </tr>\n",
       "    <tr>\n",
       "      <th>서초구</th>\n",
       "      <td>2297</td>\n",
       "      <td>63.371266</td>\n",
       "      <td>445401</td>\n",
       "      <td>441102</td>\n",
       "      <td>4299</td>\n",
       "      <td>53205</td>\n",
       "      <td>0.965198</td>\n",
       "      <td>11.945415</td>\n",
       "      <td>0.515715</td>\n",
       "      <td>736.753199</td>\n",
       "    </tr>\n",
       "    <tr>\n",
       "      <th>은평구</th>\n",
       "      <td>2108</td>\n",
       "      <td>85.237258</td>\n",
       "      <td>491202</td>\n",
       "      <td>486794</td>\n",
       "      <td>4408</td>\n",
       "      <td>74559</td>\n",
       "      <td>0.897390</td>\n",
       "      <td>15.178888</td>\n",
       "      <td>0.429151</td>\n",
       "      <td>496.842700</td>\n",
       "    </tr>\n",
       "  </tbody>\n",
       "</table>\n",
       "</div>"
      ],
      "text/plain": [
       "       소계       최근증가율     인구수     한국인    외국인    고령자     외국인비율      고령자비율  \\\n",
       "구별                                                                         \n",
       "강남구  3238  150.619195  561052  556164   4888  65060  0.871220  11.596073   \n",
       "양천구  2482   34.671731  475018  471154   3864  55234  0.813443  11.627770   \n",
       "용산구  2096   53.216374  244444  229161  15283  36882  6.252148  15.088118   \n",
       "서초구  2297   63.371266  445401  441102   4299  53205  0.965198  11.945415   \n",
       "은평구  2108   85.237258  491202  486794   4408  74559  0.897390  15.178888   \n",
       "\n",
       "       CCTV비율           오차  \n",
       "구별                          \n",
       "강남구  0.577130  1549.200326  \n",
       "양천구  0.522507   888.832166  \n",
       "용산구  0.857456   759.128697  \n",
       "서초구  0.515715   736.753199  \n",
       "은평구  0.429151   496.842700  "
      ]
     },
     "execution_count": 617,
     "metadata": {},
     "output_type": "execute_result"
    }
   ],
   "source": [
    "#경향 대비 CCTV를 많이 가진 구\n",
    "df_sort_f.head()"
   ]
  },
  {
   "cell_type": "code",
   "execution_count": 618,
   "id": "4680e0c0",
   "metadata": {},
   "outputs": [
    {
     "data": {
      "text/html": [
       "<div>\n",
       "<style scoped>\n",
       "    .dataframe tbody tr th:only-of-type {\n",
       "        vertical-align: middle;\n",
       "    }\n",
       "\n",
       "    .dataframe tbody tr th {\n",
       "        vertical-align: top;\n",
       "    }\n",
       "\n",
       "    .dataframe thead th {\n",
       "        text-align: right;\n",
       "    }\n",
       "</style>\n",
       "<table border=\"1\" class=\"dataframe\">\n",
       "  <thead>\n",
       "    <tr style=\"text-align: right;\">\n",
       "      <th></th>\n",
       "      <th>소계</th>\n",
       "      <th>최근증가율</th>\n",
       "      <th>인구수</th>\n",
       "      <th>한국인</th>\n",
       "      <th>외국인</th>\n",
       "      <th>고령자</th>\n",
       "      <th>외국인비율</th>\n",
       "      <th>고령자비율</th>\n",
       "      <th>CCTV비율</th>\n",
       "      <th>오차</th>\n",
       "    </tr>\n",
       "    <tr>\n",
       "      <th>구별</th>\n",
       "      <th></th>\n",
       "      <th></th>\n",
       "      <th></th>\n",
       "      <th></th>\n",
       "      <th></th>\n",
       "      <th></th>\n",
       "      <th></th>\n",
       "      <th></th>\n",
       "      <th></th>\n",
       "      <th></th>\n",
       "    </tr>\n",
       "  </thead>\n",
       "  <tbody>\n",
       "    <tr>\n",
       "      <th>강서구</th>\n",
       "      <td>911</td>\n",
       "      <td>134.793814</td>\n",
       "      <td>608255</td>\n",
       "      <td>601691</td>\n",
       "      <td>6564</td>\n",
       "      <td>76032</td>\n",
       "      <td>1.079153</td>\n",
       "      <td>12.500021</td>\n",
       "      <td>0.149773</td>\n",
       "      <td>-830.268578</td>\n",
       "    </tr>\n",
       "    <tr>\n",
       "      <th>송파구</th>\n",
       "      <td>1081</td>\n",
       "      <td>104.347826</td>\n",
       "      <td>671173</td>\n",
       "      <td>664496</td>\n",
       "      <td>6677</td>\n",
       "      <td>76582</td>\n",
       "      <td>0.994825</td>\n",
       "      <td>11.410173</td>\n",
       "      <td>0.161061</td>\n",
       "      <td>-730.205628</td>\n",
       "    </tr>\n",
       "    <tr>\n",
       "      <th>도봉구</th>\n",
       "      <td>825</td>\n",
       "      <td>246.638655</td>\n",
       "      <td>346234</td>\n",
       "      <td>344166</td>\n",
       "      <td>2068</td>\n",
       "      <td>53488</td>\n",
       "      <td>0.597284</td>\n",
       "      <td>15.448512</td>\n",
       "      <td>0.238278</td>\n",
       "      <td>-625.016861</td>\n",
       "    </tr>\n",
       "    <tr>\n",
       "      <th>중랑구</th>\n",
       "      <td>916</td>\n",
       "      <td>79.960707</td>\n",
       "      <td>412780</td>\n",
       "      <td>408226</td>\n",
       "      <td>4554</td>\n",
       "      <td>59262</td>\n",
       "      <td>1.103251</td>\n",
       "      <td>14.356800</td>\n",
       "      <td>0.221910</td>\n",
       "      <td>-607.986645</td>\n",
       "    </tr>\n",
       "    <tr>\n",
       "      <th>광진구</th>\n",
       "      <td>878</td>\n",
       "      <td>53.228621</td>\n",
       "      <td>372298</td>\n",
       "      <td>357703</td>\n",
       "      <td>14595</td>\n",
       "      <td>43953</td>\n",
       "      <td>3.920247</td>\n",
       "      <td>11.805865</td>\n",
       "      <td>0.235833</td>\n",
       "      <td>-600.988527</td>\n",
       "    </tr>\n",
       "  </tbody>\n",
       "</table>\n",
       "</div>"
      ],
      "text/plain": [
       "       소계       최근증가율     인구수     한국인    외국인    고령자     외국인비율      고령자비율  \\\n",
       "구별                                                                         \n",
       "강서구   911  134.793814  608255  601691   6564  76032  1.079153  12.500021   \n",
       "송파구  1081  104.347826  671173  664496   6677  76582  0.994825  11.410173   \n",
       "도봉구   825  246.638655  346234  344166   2068  53488  0.597284  15.448512   \n",
       "중랑구   916   79.960707  412780  408226   4554  59262  1.103251  14.356800   \n",
       "광진구   878   53.228621  372298  357703  14595  43953  3.920247  11.805865   \n",
       "\n",
       "       CCTV비율          오차  \n",
       "구별                         \n",
       "강서구  0.149773 -830.268578  \n",
       "송파구  0.161061 -730.205628  \n",
       "도봉구  0.238278 -625.016861  \n",
       "중랑구  0.221910 -607.986645  \n",
       "광진구  0.235833 -600.988527  "
      ]
     },
     "execution_count": 618,
     "metadata": {},
     "output_type": "execute_result"
    }
   ],
   "source": [
    "#경향 대비 CCTV를 적게 가진 구\n",
    "df_sort_t.head()"
   ]
  },
  {
   "cell_type": "code",
   "execution_count": 624,
   "id": "c8fef779",
   "metadata": {},
   "outputs": [],
   "source": [
    "from matplotlib.colors import ListedColormap\n",
    "\n",
    "#color map을 사용자 정의(user define)로 세팅\n",
    "                #빨        초          회        초          파       파\n",
    "color_step = [\"#e74c3c\", \"#2ecc71\", \"#95a5a6\", \"#2ecc71\", \"#3498db\", \"#3498db\"]\n",
    "my_cmap = ListedColormap(color_step)"
   ]
  },
  {
   "cell_type": "code",
   "execution_count": 638,
   "id": "1dd9959f",
   "metadata": {},
   "outputs": [
    {
     "data": {
      "image/png": "[encoded data removed]",
      "text/plain": [
       "<Figure size 800x500 with 2 Axes>"
      ]
     },
     "metadata": {},
     "output_type": "display_data"
    }
   ],
   "source": [
    "def drawGraph():\n",
    "    plt.figure(figsize=(8, 5))\n",
    "    plt.scatter(data_result[\"인구수\"], data_result[\"소계\"], s=30, c=data_result[\"오차\"], cmap=my_cmap)   #그래프1\n",
    "    plt.plot(fx, f1(fx), ls=\"dashed\", lw=3, color=\"g\")   #그래프2\n",
    "    \n",
    "    for n in range(5):\n",
    "        # 상위 5개\n",
    "        plt.text(\n",
    "            df_sort_f[\"인구수\"][n]*1.02, # x좌표 \n",
    "            df_sort_f[\"소계\"][n]*0.98,   # y좌표\n",
    "            df_sort_f.index[n],          # title\n",
    "            fontsize=8\n",
    "        )\n",
    "        #하위 5개\n",
    "        plt.text(\n",
    "            df_sort_t[\"인구수\"][n]*1.02,\n",
    "            df_sort_t[\"소계\"][n]*0.98,\n",
    "            df_sort_t.index[n],\n",
    "            fontsize=8\n",
    "        )\n",
    "    plt.xlabel(\"인구수\")\n",
    "    plt.ylabel(\"CCTV 수\")\n",
    "    plt.colorbar()\n",
    "    plt.grid()\n",
    "    plt.show()\n",
    "drawGraph()"
   ]
  },
  {
   "cell_type": "code",
   "execution_count": 639,
   "id": "61914b72",
   "metadata": {},
   "outputs": [],
   "source": [
    "data_result.to_csv(\"../data/01. CCTV_result.csv\", sep=\",\", encoding=\"utf-8\")"
   ]
  },
  {
   "cell_type": "code",
   "execution_count": null,
   "id": "9530068e",
   "metadata": {},
   "outputs": [],
   "source": []
  }
 ],
 "metadata": {
  "kernelspec": {
   "display_name": "ds_study",
   "language": "python",
   "name": "ds_study"
  },
  "language_info": {
   "codemirror_mode": {
    "name": "ipython",
    "version": 3
   },
   "file_extension": ".py",
   "mimetype": "text/x-python",
   "name": "python",
   "nbconvert_exporter": "python",
   "pygments_lexer": "ipython3",
   "version": "3.8.13"
  }
 },
 "nbformat": 4,
 "nbformat_minor": 5
}
